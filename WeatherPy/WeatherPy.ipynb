{
 "cells": [
  {
   "cell_type": "markdown",
   "metadata": {},
   "source": [
    "# WeatherPy"
   ]
  },
  {
   "cell_type": "code",
   "execution_count": 3,
   "metadata": {},
   "outputs": [
    {
     "name": "stdout",
     "output_type": "stream",
     "text": [
      "Collecting citipy\n",
      "  Using cached citipy-0.0.5.tar.gz (557 kB)\n",
      "Collecting kdtree>=0.12\n",
      "  Using cached kdtree-0.16-py2.py3-none-any.whl (7.7 kB)\n",
      "Building wheels for collected packages: citipy\n",
      "  Building wheel for citipy (setup.py) ... \u001b[?25ldone\n",
      "\u001b[?25h  Created wheel for citipy: filename=citipy-0.0.5-py3-none-any.whl size=559701 sha256=20e91fd61c76028fdd34477e75e934297d58f947cb2fcd87211920f439cc6797\n",
      "  Stored in directory: /Users/kristin/Library/Caches/pip/wheels/6d/df/5e/ad8eb9cc5ee7f4ba76865167c09f9a7edff405c669111d8353\n",
      "Successfully built citipy\n",
      "Installing collected packages: kdtree, citipy\n",
      "Successfully installed citipy-0.0.5 kdtree-0.16\n"
     ]
    }
   ],
   "source": [
    "! pip install citipy"
   ]
  },
  {
   "cell_type": "code",
   "execution_count": 4,
   "metadata": {
    "scrolled": true
   },
   "outputs": [],
   "source": [
    "# Dependencies and Setup\n",
    "import matplotlib.pyplot as plt\n",
    "import pandas as pd\n",
    "import numpy as np\n",
    "import requests\n",
    "from requests.utils import requote_uri\n",
    "import time\n",
    "from scipy.stats import linregress\n",
    "\n",
    "# Import API key\n",
    "from api_keys import weather_api_key\n",
    "\n",
    "# Incorporated citipy to determine city based on latitude and longitude\n",
    "from citipy import citipy\n",
    "\n",
    "# Output File (CSV)\n",
    "output_data_file = \"output_data/cities.csv\"\n",
    "\n",
    "# Range of latitudes and longitudes\n",
    "lat_range = (-90, 90)\n",
    "lng_range = (-180, 180)\n",
    "\n",
    "# Save config information.\n",
    "url = \"http://api.openweathermap.org/data/2.5/weather?\"\n",
    "units = \"metric\"\n",
    "\n",
    "# Build partial query URL\n",
    "fill_url = requests.utils.requote_uri\n",
    "query_url = f\"{url}appid={weather_api_key}&units={units}&q=\""
   ]
  },
  {
   "cell_type": "markdown",
   "metadata": {},
   "source": [
    "## Generate Cities List"
   ]
  },
  {
   "cell_type": "code",
   "execution_count": 5,
   "metadata": {},
   "outputs": [
    {
     "name": "stdout",
     "output_type": "stream",
     "text": [
      "\n",
      "Total number of cities: 616\n"
     ]
    }
   ],
   "source": [
    "# List for holding lat_lngs and cities\n",
    "lat_lngs = []\n",
    "cities = []\n",
    "\n",
    "# Create a set of random lat and lng combinations\n",
    "lats = np.random.uniform(lat_range[0], lat_range[1], size=1500)\n",
    "lngs = np.random.uniform(lng_range[0], lng_range[1], size=1500)\n",
    "lat_lngs = zip(lats, lngs)\n",
    "\n",
    "# Identify nearest city for each lat, lng combination\n",
    "for lat_lng in lat_lngs:\n",
    "    city = citipy.nearest_city(lat_lng[0], lat_lng[1]).city_name\n",
    "    \n",
    "    # If the city is unique, then add it to a our cities list\n",
    "    if city not in cities:\n",
    "        cities.append(city)\n",
    "\n",
    "# Print the city count to confirm sufficient count\n",
    "total_cities = len(cities)\n",
    "print()\n",
    "print(f\"Total number of cities: {total_cities}\")"
   ]
  },
  {
   "cell_type": "markdown",
   "metadata": {},
   "source": [
    "### Perform API Calls\n",
    "* Perform a weather check on each city using a series of successive API calls.\n",
    "* Include a print log of each city as it'sbeing processed (with the city number and city name).\n"
   ]
  },
  {
   "cell_type": "code",
   "execution_count": 6,
   "metadata": {
    "scrolled": true
   },
   "outputs": [
    {
     "name": "stdout",
     "output_type": "stream",
     "text": [
      "\n",
      "-----------------------------\n",
      "Beginning Data Retrieval\n",
      "-----------------------------\n",
      "Processing Record 1 of set 1 | hilo\n",
      "Processing Record 2 of set 1 | mar del plata\n",
      "Processing Record 3 of set 1 | chokurdakh\n",
      "Processing Record 4 of set 1 | berezovka\n",
      "Processing Record 5 of set 1 | lompoc\n",
      "Processing Record 6 of set 1 | ushuaia\n",
      "Processing Record 7 of set 1 | kodiak\n",
      "Processing Record 8 of set 1 | kapaa\n",
      "Processing Record 9 of set 1 | aragarcas\n",
      "Processing Record 10 of set 1 | bredasdorp\n",
      "Processing Record 11 of set 1 | ancud\n",
      "Processing Record 12 of set 1 | cayenne\n",
      "Processing Record 13 of set 1 | kaitangata\n",
      "Processing Record 14 of set 1 | canillo\n",
      "Processing Record 15 of set 1 | fortuna\n",
      "Processing Record 16 of set 1 | pevek\n",
      "Processing Record 17 of set 1 | weligama\n",
      "Processing Record 18 of set 1 | tessalit\n",
      "Processing Record 19 of set 1 | mae hong son\n",
      "Processing Record 20 of set 1 | glens falls\n",
      "Processing Record 21 of set 1 | cherskiy\n",
      "Processing Record 22 of set 1 | tanete\n",
      "Processing Record 23 of set 1 | bluff\n",
      "Processing Record 24 of set 1 | albany\n",
      "Processing Record 25 of set 1 | vaini\n",
      "Processing Record 26 of set 1 | mataura\n",
      "Processing Record 27 of set 1 | gorontalo\n",
      "Processing Record 28 of set 1 | dikson\n",
      "Processing Record 29 of set 1 | saskylakh\n",
      "Processing Record 30 of set 1 | le port\n",
      "Processing Record 31 of set 1 | rapid valley\n",
      "City not found....Skipping............\n",
      "City not found....Skipping............\n",
      "Processing Record 32 of set 1 | cabo san lucas\n",
      "Processing Record 33 of set 1 | warri\n",
      "Processing Record 34 of set 1 | mende\n",
      "Processing Record 35 of set 1 | valentin gomez farias\n",
      "Processing Record 36 of set 1 | oyama\n",
      "Processing Record 37 of set 1 | aklavik\n",
      "Processing Record 38 of set 1 | thompson\n",
      "Processing Record 39 of set 1 | hithadhoo\n",
      "Processing Record 40 of set 1 | mucurici\n",
      "Processing Record 41 of set 1 | arraial do cabo\n",
      "Processing Record 42 of set 1 | tilichiki\n",
      "Processing Record 43 of set 1 | qaanaaq\n",
      "Processing Record 44 of set 1 | viedma\n",
      "City not found....Skipping............\n",
      "Processing Record 45 of set 1 | gravdal\n",
      "Processing Record 46 of set 1 | shingu\n",
      "Processing Record 47 of set 1 | honningsvag\n",
      "Processing Record 48 of set 1 | busselton\n",
      "Processing Record 49 of set 1 | rikitea\n",
      "City not found....Skipping............\n",
      "Processing Record 50 of set 1 | mangrol\n",
      "Processing Record 1 of set 2 | kaputa\n",
      "Processing Record 2 of set 2 | taguatinga\n",
      "Processing Record 3 of set 2 | kalengwa\n",
      "City not found....Skipping............\n",
      "Processing Record 4 of set 2 | vao\n",
      "Processing Record 5 of set 2 | khatanga\n",
      "Processing Record 6 of set 2 | pontal do parana\n",
      "Processing Record 7 of set 2 | konstantinovka\n",
      "Processing Record 8 of set 2 | hedaru\n",
      "Processing Record 9 of set 2 | longyearbyen\n",
      "Processing Record 10 of set 2 | shiyan\n",
      "Processing Record 11 of set 2 | yerbogachen\n",
      "Processing Record 12 of set 2 | barrow\n",
      "Processing Record 13 of set 2 | provideniya\n",
      "Processing Record 14 of set 2 | cidreira\n",
      "Processing Record 15 of set 2 | souillac\n",
      "Processing Record 16 of set 2 | kruisfontein\n",
      "Processing Record 17 of set 2 | esperance\n",
      "Processing Record 18 of set 2 | kabugao\n",
      "City not found....Skipping............\n",
      "Processing Record 19 of set 2 | kandalaksha\n",
      "Processing Record 20 of set 2 | rio do sul\n",
      "Processing Record 21 of set 2 | labuhan\n",
      "Processing Record 22 of set 2 | bambous virieux\n",
      "Processing Record 23 of set 2 | syamzha\n",
      "Processing Record 24 of set 2 | kilindoni\n",
      "Processing Record 25 of set 2 | puerto escondido\n",
      "Processing Record 26 of set 2 | narsaq\n",
      "City not found....Skipping............\n",
      "Processing Record 27 of set 2 | ponta do sol\n",
      "Processing Record 28 of set 2 | solano\n",
      "Processing Record 29 of set 2 | norman wells\n",
      "Processing Record 30 of set 2 | castro\n",
      "City not found....Skipping............\n",
      "Processing Record 31 of set 2 | xinpu\n",
      "Processing Record 32 of set 2 | hermanus\n",
      "Processing Record 33 of set 2 | zhaotong\n",
      "Processing Record 34 of set 2 | butaritari\n",
      "Processing Record 35 of set 2 | wajir\n",
      "Processing Record 36 of set 2 | menongue\n",
      "Processing Record 37 of set 2 | kaeo\n",
      "Processing Record 38 of set 2 | codrington\n",
      "Processing Record 39 of set 2 | atuona\n",
      "Processing Record 40 of set 2 | new norfolk\n",
      "Processing Record 41 of set 2 | detva\n",
      "Processing Record 42 of set 2 | guerrero negro\n",
      "Processing Record 43 of set 2 | jumla\n",
      "Processing Record 44 of set 2 | bacolod\n",
      "Processing Record 45 of set 2 | mount isa\n",
      "City not found....Skipping............\n",
      "Processing Record 46 of set 2 | cochrane\n",
      "Processing Record 47 of set 2 | tuy hoa\n",
      "Processing Record 48 of set 2 | saint-philippe\n",
      "Processing Record 49 of set 2 | shellbrook\n",
      "Processing Record 50 of set 2 | punta arenas\n",
      "Processing Record 1 of set 3 | chenzhou\n",
      "Processing Record 2 of set 3 | charters towers\n",
      "Processing Record 3 of set 3 | cordoba\n",
      "Processing Record 4 of set 3 | alofi\n",
      "Processing Record 5 of set 3 | chuy\n",
      "Processing Record 6 of set 3 | pierre\n",
      "Processing Record 7 of set 3 | abha\n",
      "Processing Record 8 of set 3 | vila velha\n",
      "Processing Record 9 of set 3 | nynashamn\n",
      "Processing Record 10 of set 3 | manuk mangkaw\n",
      "Processing Record 11 of set 3 | clyde river\n",
      "Processing Record 12 of set 3 | tokur\n",
      "Processing Record 13 of set 3 | fort frances\n",
      "Processing Record 14 of set 3 | saint-georges\n",
      "Processing Record 15 of set 3 | te anau\n",
      "Processing Record 16 of set 3 | srednekolymsk\n",
      "Processing Record 17 of set 3 | nanortalik\n",
      "Processing Record 18 of set 3 | los llanos de aridane\n",
      "Processing Record 19 of set 3 | kyren\n",
      "Processing Record 20 of set 3 | cartagena\n",
      "Processing Record 21 of set 3 | fonte boa\n",
      "Processing Record 22 of set 3 | lufilufi\n",
      "Processing Record 23 of set 3 | port elizabeth\n",
      "Processing Record 24 of set 3 | carutapera\n",
      "Processing Record 25 of set 3 | inhambane\n",
      "Processing Record 26 of set 3 | tiksi\n",
      "Processing Record 27 of set 3 | coahuayana\n",
      "Processing Record 28 of set 3 | cajamarca\n",
      "Processing Record 29 of set 3 | okhotsk\n",
      "Processing Record 30 of set 3 | sabang\n",
      "Processing Record 31 of set 3 | aanekoski\n",
      "Processing Record 32 of set 3 | nanakuli\n",
      "Processing Record 33 of set 3 | west bay\n",
      "Processing Record 34 of set 3 | carnarvon\n",
      "Processing Record 35 of set 3 | dickson\n",
      "Processing Record 36 of set 3 | cassilandia\n",
      "Processing Record 37 of set 3 | iqaluit\n",
      "Processing Record 38 of set 3 | hobart\n",
      "Processing Record 39 of set 3 | high level\n",
      "Processing Record 40 of set 3 | nikolskoye\n",
      "Processing Record 41 of set 3 | meadow lake\n",
      "Processing Record 42 of set 3 | aleksandrovsk-sakhalinskiy\n",
      "Processing Record 43 of set 3 | lavrentiya\n",
      "City not found....Skipping............\n",
      "City not found....Skipping............\n",
      "Processing Record 44 of set 3 | port alfred\n",
      "Processing Record 45 of set 3 | pecos\n",
      "Processing Record 46 of set 3 | bueu\n",
      "Processing Record 47 of set 3 | bontang\n",
      "City not found....Skipping............\n",
      "Processing Record 48 of set 3 | sestri levante\n",
      "Processing Record 49 of set 3 | dingle\n",
      "Processing Record 50 of set 3 | hofn\n",
      "Processing Record 1 of set 4 | pauini\n",
      "Processing Record 2 of set 4 | pervomayskiy\n",
      "Processing Record 3 of set 4 | tasiilaq\n",
      "Processing Record 4 of set 4 | riyadh\n",
      "Processing Record 5 of set 4 | muroto\n",
      "Processing Record 6 of set 4 | warmbad\n",
      "Processing Record 7 of set 4 | strezhevoy\n",
      "Processing Record 8 of set 4 | bandarbeyla\n",
      "Processing Record 9 of set 4 | severo-kurilsk\n",
      "Processing Record 10 of set 4 | constitucion\n",
      "Processing Record 11 of set 4 | flin flon\n",
      "Processing Record 12 of set 4 | cape town\n",
      "Processing Record 13 of set 4 | rundu\n",
      "City not found....Skipping............\n",
      "Processing Record 14 of set 4 | tuktoyaktuk\n",
      "Processing Record 15 of set 4 | umm lajj\n",
      "Processing Record 16 of set 4 | benguela\n",
      "Processing Record 17 of set 4 | jamestown\n",
      "Processing Record 18 of set 4 | laela\n",
      "City not found....Skipping............\n",
      "Processing Record 19 of set 4 | necochea\n",
      "Processing Record 20 of set 4 | bilma\n",
      "Processing Record 21 of set 4 | fort nelson\n",
      "Processing Record 22 of set 4 | tiznit\n",
      "Processing Record 23 of set 4 | sitka\n",
      "City not found....Skipping............\n",
      "Processing Record 24 of set 4 | yar-sale\n",
      "Processing Record 25 of set 4 | kamenka\n",
      "Processing Record 26 of set 4 | ribeira grande\n",
      "Processing Record 27 of set 4 | wanning\n",
      "City not found....Skipping............\n",
      "Processing Record 28 of set 4 | russell\n",
      "Processing Record 29 of set 4 | newport\n",
      "Processing Record 30 of set 4 | georgetown\n",
      "Processing Record 31 of set 4 | bagdarin\n"
     ]
    },
    {
     "name": "stdout",
     "output_type": "stream",
     "text": [
      "Processing Record 32 of set 4 | catamarca\n",
      "Processing Record 33 of set 4 | lima\n",
      "Processing Record 34 of set 4 | praia da vitoria\n",
      "Processing Record 35 of set 4 | gizo\n",
      "Processing Record 36 of set 4 | dunedin\n",
      "Processing Record 37 of set 4 | urshelskiy\n",
      "Processing Record 38 of set 4 | erenhot\n",
      "Processing Record 39 of set 4 | pasinler\n",
      "Processing Record 40 of set 4 | portland\n",
      "City not found....Skipping............\n",
      "Processing Record 41 of set 4 | port-gentil\n",
      "Processing Record 42 of set 4 | harper\n",
      "Processing Record 43 of set 4 | flinders\n",
      "Processing Record 44 of set 4 | rudnogorsk\n",
      "Processing Record 45 of set 4 | sola\n",
      "Processing Record 46 of set 4 | tongren\n",
      "Processing Record 47 of set 4 | berbera\n",
      "Processing Record 48 of set 4 | port moresby\n",
      "Processing Record 49 of set 4 | port hardy\n",
      "Processing Record 50 of set 4 | marshall\n",
      "Processing Record 1 of set 5 | neyshabur\n",
      "Processing Record 2 of set 5 | charlestown\n",
      "Processing Record 3 of set 5 | airai\n",
      "Processing Record 4 of set 5 | asau\n",
      "City not found....Skipping............\n",
      "Processing Record 5 of set 5 | lagos\n",
      "Processing Record 6 of set 5 | maniitsoq\n",
      "Processing Record 7 of set 5 | puerto ayora\n",
      "Processing Record 8 of set 5 | gao\n",
      "Processing Record 9 of set 5 | kampene\n",
      "Processing Record 10 of set 5 | katsuura\n",
      "Processing Record 11 of set 5 | nago\n",
      "Processing Record 12 of set 5 | woodward\n",
      "City not found....Skipping............\n",
      "Processing Record 13 of set 5 | plettenberg bay\n",
      "Processing Record 14 of set 5 | cockburn town\n",
      "Processing Record 15 of set 5 | alihe\n",
      "Processing Record 16 of set 5 | kirakira\n",
      "City not found....Skipping............\n",
      "Processing Record 17 of set 5 | kolda\n",
      "Processing Record 18 of set 5 | malanje\n",
      "Processing Record 19 of set 5 | mahebourg\n",
      "Processing Record 20 of set 5 | ipixuna\n",
      "Processing Record 21 of set 5 | sivas\n",
      "Processing Record 22 of set 5 | concord\n",
      "Processing Record 23 of set 5 | faanui\n",
      "Processing Record 24 of set 5 | tuatapere\n",
      "Processing Record 25 of set 5 | mansa\n",
      "Processing Record 26 of set 5 | immokalee\n",
      "Processing Record 27 of set 5 | lazaro cardenas\n",
      "Processing Record 28 of set 5 | herat\n",
      "City not found....Skipping............\n",
      "Processing Record 29 of set 5 | grand gaube\n",
      "Processing Record 30 of set 5 | kem\n",
      "Processing Record 31 of set 5 | leningradskiy\n",
      "Processing Record 32 of set 5 | thabazimbi\n",
      "Processing Record 33 of set 5 | kamyshin\n",
      "Processing Record 34 of set 5 | ust-kuyga\n",
      "Processing Record 35 of set 5 | upernavik\n",
      "Processing Record 36 of set 5 | port lincoln\n",
      "City not found....Skipping............\n",
      "Processing Record 37 of set 5 | ambilobe\n",
      "City not found....Skipping............\n",
      "Processing Record 38 of set 5 | conceicao do araguaia\n",
      "Processing Record 39 of set 5 | chapais\n",
      "City not found....Skipping............\n",
      "Processing Record 40 of set 5 | port-cartier\n",
      "Processing Record 41 of set 5 | port hawkesbury\n",
      "Processing Record 42 of set 5 | bilibino\n",
      "Processing Record 43 of set 5 | vardo\n",
      "Processing Record 44 of set 5 | kutum\n",
      "Processing Record 45 of set 5 | bartlesville\n",
      "Processing Record 46 of set 5 | coihaique\n",
      "Processing Record 47 of set 5 | kokopo\n",
      "Processing Record 48 of set 5 | lebu\n",
      "Processing Record 49 of set 5 | campeche\n",
      "Processing Record 50 of set 5 | saint george\n",
      "Processing Record 1 of set 6 | avarua\n",
      "Processing Record 2 of set 6 | puerto carreno\n",
      "Processing Record 3 of set 6 | laguna\n",
      "Processing Record 4 of set 6 | huicungo\n",
      "Processing Record 5 of set 6 | gat\n",
      "City not found....Skipping............\n",
      "Processing Record 6 of set 6 | ilulissat\n",
      "City not found....Skipping............\n",
      "Processing Record 7 of set 6 | viransehir\n",
      "Processing Record 8 of set 6 | koutsouras\n",
      "Processing Record 9 of set 6 | havre-saint-pierre\n",
      "Processing Record 10 of set 6 | caravelas\n",
      "Processing Record 11 of set 6 | sao sebastiao\n",
      "Processing Record 12 of set 6 | adrar\n",
      "Processing Record 13 of set 6 | tingo maria\n",
      "Processing Record 14 of set 6 | comodoro rivadavia\n",
      "Processing Record 15 of set 6 | sehithwa\n",
      "Processing Record 16 of set 6 | thinadhoo\n",
      "Processing Record 17 of set 6 | sandy bay\n",
      "Processing Record 18 of set 6 | bethel\n",
      "Processing Record 19 of set 6 | sorland\n",
      "Processing Record 20 of set 6 | tupik\n",
      "Processing Record 21 of set 6 | saint-augustin\n",
      "Processing Record 22 of set 6 | hay river\n",
      "Processing Record 23 of set 6 | moose factory\n",
      "Processing Record 24 of set 6 | bowmore\n",
      "Processing Record 25 of set 6 | moerai\n",
      "Processing Record 26 of set 6 | salym\n",
      "City not found....Skipping............\n",
      "Processing Record 27 of set 6 | pisco\n",
      "Processing Record 28 of set 6 | almeria\n",
      "Processing Record 29 of set 6 | taltal\n",
      "Processing Record 30 of set 6 | mushie\n",
      "Processing Record 31 of set 6 | saldanha\n",
      "Processing Record 32 of set 6 | bengkulu\n",
      "Processing Record 33 of set 6 | bielsk podlaski\n",
      "Processing Record 34 of set 6 | meulaboh\n",
      "Processing Record 35 of set 6 | torbay\n",
      "Processing Record 36 of set 6 | gribanovskiy\n",
      "Processing Record 37 of set 6 | walla walla\n",
      "Processing Record 38 of set 6 | labuan\n",
      "Processing Record 39 of set 6 | ostrovnoy\n",
      "Processing Record 40 of set 6 | huilong\n",
      "Processing Record 41 of set 6 | kolomna\n",
      "Processing Record 42 of set 6 | salalah\n",
      "Processing Record 43 of set 6 | hambantota\n",
      "Processing Record 44 of set 6 | koani\n",
      "City not found....Skipping............\n",
      "Processing Record 45 of set 6 | turinskaya sloboda\n",
      "Processing Record 46 of set 6 | katiola\n",
      "Processing Record 47 of set 6 | northam\n",
      "Processing Record 48 of set 6 | yellowknife\n",
      "Processing Record 49 of set 6 | beringovskiy\n",
      "Processing Record 50 of set 6 | platanos\n",
      "Processing Record 1 of set 7 | samarai\n",
      "Processing Record 2 of set 7 | kamiiso\n",
      "Processing Record 3 of set 7 | kasongo-lunda\n",
      "Processing Record 4 of set 7 | karaton\n",
      "Processing Record 5 of set 7 | kincardine\n",
      "Processing Record 6 of set 7 | kupang\n",
      "Processing Record 7 of set 7 | bubaque\n",
      "Processing Record 8 of set 7 | whitehorse\n",
      "Processing Record 9 of set 7 | san patricio\n",
      "Processing Record 10 of set 7 | margate\n",
      "Processing Record 11 of set 7 | nemuro\n",
      "Processing Record 12 of set 7 | chulman\n",
      "Processing Record 13 of set 7 | sisimiut\n",
      "Processing Record 14 of set 7 | visby\n",
      "Processing Record 15 of set 7 | ocampo\n",
      "Processing Record 16 of set 7 | bogorodskoye\n",
      "Processing Record 17 of set 7 | dicabisagan\n",
      "Processing Record 18 of set 7 | mazatlan\n",
      "Processing Record 19 of set 7 | benghazi\n",
      "Processing Record 20 of set 7 | geraldton\n",
      "Processing Record 21 of set 7 | vogar\n",
      "Processing Record 22 of set 7 | port macquarie\n",
      "Processing Record 23 of set 7 | shakiso\n",
      "Processing Record 24 of set 7 | aras\n",
      "Processing Record 25 of set 7 | quatre cocos\n",
      "Processing Record 26 of set 7 | preobrazheniye\n",
      "Processing Record 27 of set 7 | sinnamary\n",
      "Processing Record 28 of set 7 | burnie\n",
      "Processing Record 29 of set 7 | owando\n",
      "Processing Record 30 of set 7 | bushenyi\n",
      "Processing Record 31 of set 7 | port blair\n",
      "Processing Record 32 of set 7 | east london\n",
      "Processing Record 33 of set 7 | skibbereen\n",
      "Processing Record 34 of set 7 | pasni\n",
      "Processing Record 35 of set 7 | avera\n",
      "Processing Record 36 of set 7 | manicore\n",
      "Processing Record 37 of set 7 | conde\n",
      "Processing Record 38 of set 7 | vieste\n",
      "City not found....Skipping............\n",
      "Processing Record 39 of set 7 | alta floresta\n",
      "City not found....Skipping............\n",
      "Processing Record 40 of set 7 | leh\n",
      "Processing Record 41 of set 7 | nome\n",
      "Processing Record 42 of set 7 | sturgeon falls\n",
      "Processing Record 43 of set 7 | jibuti\n",
      "Processing Record 44 of set 7 | petropavlovsk-kamchatskiy\n",
      "Processing Record 45 of set 7 | naze\n",
      "Processing Record 46 of set 7 | camacha\n",
      "City not found....Skipping............\n",
      "City not found....Skipping............\n",
      "Processing Record 47 of set 7 | victoria\n",
      "Processing Record 48 of set 7 | drumheller\n",
      "Processing Record 49 of set 7 | hualmay\n",
      "Processing Record 50 of set 7 | mananjary\n",
      "Processing Record 1 of set 8 | inirida\n",
      "Processing Record 2 of set 8 | luderitz\n",
      "Processing Record 3 of set 8 | uray\n",
      "Processing Record 4 of set 8 | nishihara\n",
      "Processing Record 5 of set 8 | carlisle\n",
      "Processing Record 6 of set 8 | sarangani\n",
      "Processing Record 7 of set 8 | khandyga\n",
      "Processing Record 8 of set 8 | sambava\n",
      "Processing Record 9 of set 8 | la ronge\n",
      "Processing Record 10 of set 8 | kupino\n",
      "Processing Record 11 of set 8 | santa cruz\n",
      "Processing Record 12 of set 8 | beloha\n",
      "City not found....Skipping............\n",
      "Processing Record 13 of set 8 | lagoa\n",
      "Processing Record 14 of set 8 | uturoa\n",
      "Processing Record 15 of set 8 | mountain home\n"
     ]
    },
    {
     "name": "stdout",
     "output_type": "stream",
     "text": [
      "Processing Record 16 of set 8 | mackenzie\n",
      "Processing Record 17 of set 8 | rio gallegos\n",
      "Processing Record 18 of set 8 | lunenburg\n",
      "Processing Record 19 of set 8 | ixtapa\n",
      "Processing Record 20 of set 8 | soyo\n",
      "City not found....Skipping............\n",
      "City not found....Skipping............\n",
      "Processing Record 21 of set 8 | sarkand\n",
      "Processing Record 22 of set 8 | kidal\n",
      "City not found....Skipping............\n",
      "City not found....Skipping............\n",
      "Processing Record 23 of set 8 | ponta delgada\n",
      "Processing Record 24 of set 8 | padang\n",
      "Processing Record 25 of set 8 | hervey bay\n",
      "Processing Record 26 of set 8 | hami\n",
      "Processing Record 27 of set 8 | berlevag\n",
      "Processing Record 28 of set 8 | palaia fokaia\n",
      "Processing Record 29 of set 8 | warrnambool\n",
      "Processing Record 30 of set 8 | normandin\n",
      "Processing Record 31 of set 8 | yumen\n",
      "Processing Record 32 of set 8 | champerico\n",
      "Processing Record 33 of set 8 | pangnirtung\n",
      "Processing Record 34 of set 8 | tura\n",
      "Processing Record 35 of set 8 | karratha\n",
      "Processing Record 36 of set 8 | bastia\n",
      "Processing Record 37 of set 8 | gorom-gorom\n",
      "Processing Record 38 of set 8 | grevesmuhlen\n",
      "Processing Record 39 of set 8 | teabo\n",
      "Processing Record 40 of set 8 | hov\n",
      "Processing Record 41 of set 8 | kuryk\n",
      "Processing Record 42 of set 8 | praia\n",
      "Processing Record 43 of set 8 | tubuala\n",
      "Processing Record 44 of set 8 | perth\n",
      "Processing Record 45 of set 8 | nioro\n",
      "Processing Record 46 of set 8 | macia\n",
      "City not found....Skipping............\n",
      "Processing Record 47 of set 8 | xuddur\n",
      "Processing Record 48 of set 8 | la concepcion\n",
      "Processing Record 49 of set 8 | coquimbo\n",
      "Processing Record 50 of set 8 | saryozek\n",
      "Processing Record 1 of set 9 | axim\n",
      "Processing Record 2 of set 9 | buala\n",
      "Processing Record 3 of set 9 | ugoofaaru\n",
      "Processing Record 4 of set 9 | berdigestyakh\n",
      "Processing Record 5 of set 9 | panjakent\n",
      "Processing Record 6 of set 9 | kuznechikha\n",
      "Processing Record 7 of set 9 | sioux lookout\n",
      "Processing Record 8 of set 9 | sabha\n",
      "Processing Record 9 of set 9 | bouna\n",
      "Processing Record 10 of set 9 | aquiraz\n",
      "Processing Record 11 of set 9 | wetter\n",
      "Processing Record 12 of set 9 | saint anthony\n",
      "Processing Record 13 of set 9 | sao paulo de olivenca\n",
      "Processing Record 14 of set 9 | pacific grove\n",
      "Processing Record 15 of set 9 | asheboro\n",
      "Processing Record 16 of set 9 | mangai\n",
      "Processing Record 17 of set 9 | walvis bay\n",
      "Processing Record 18 of set 9 | lorengau\n",
      "Processing Record 19 of set 9 | mount gambier\n",
      "Processing Record 20 of set 9 | barcelos\n",
      "Processing Record 21 of set 9 | temuco\n",
      "Processing Record 22 of set 9 | bardiyah\n",
      "Processing Record 23 of set 9 | isangel\n",
      "Processing Record 24 of set 9 | uyuni\n",
      "Processing Record 25 of set 9 | roma\n",
      "Processing Record 26 of set 9 | gladstone\n",
      "Processing Record 27 of set 9 | shurugwi\n",
      "Processing Record 28 of set 9 | hasaki\n",
      "Processing Record 29 of set 9 | henties bay\n",
      "Processing Record 30 of set 9 | aripuana\n",
      "Processing Record 31 of set 9 | malindi\n",
      "Processing Record 32 of set 9 | sao filipe\n",
      "Processing Record 33 of set 9 | katherine\n",
      "Processing Record 34 of set 9 | lata\n",
      "Processing Record 35 of set 9 | kavaratti\n",
      "Processing Record 36 of set 9 | bay roberts\n",
      "Processing Record 37 of set 9 | pushkinskiye gory\n",
      "Processing Record 38 of set 9 | akyab\n",
      "Processing Record 39 of set 9 | isiolo\n",
      "Processing Record 40 of set 9 | olga\n",
      "Processing Record 41 of set 9 | kabalo\n",
      "Processing Record 42 of set 9 | wagga wagga\n",
      "Processing Record 43 of set 9 | tamworth\n",
      "Processing Record 44 of set 9 | palma\n",
      "Processing Record 45 of set 9 | lakes entrance\n",
      "Processing Record 46 of set 9 | banjar\n",
      "City not found....Skipping............\n",
      "Processing Record 47 of set 9 | santa cruz de la palma\n",
      "Processing Record 48 of set 9 | watertown\n",
      "City not found....Skipping............\n",
      "City not found....Skipping............\n",
      "Processing Record 49 of set 9 | kabompo\n",
      "Processing Record 50 of set 9 | wanlaweyn\n",
      "Processing Record 1 of set 10 | talnakh\n",
      "Processing Record 2 of set 10 | itacoatiara\n",
      "Processing Record 3 of set 10 | parnamirim\n",
      "Processing Record 4 of set 10 | birao\n",
      "Processing Record 5 of set 10 | elko\n",
      "Processing Record 6 of set 10 | general roca\n",
      "Processing Record 7 of set 10 | namatanai\n",
      "Processing Record 8 of set 10 | bure\n",
      "Processing Record 9 of set 10 | canita\n",
      "Processing Record 10 of set 10 | tucuma\n",
      "Processing Record 11 of set 10 | roebourne\n",
      "Processing Record 12 of set 10 | ruwi\n",
      "Processing Record 13 of set 10 | ayan\n",
      "Processing Record 14 of set 10 | kedougou\n",
      "Processing Record 15 of set 10 | qasigiannguit\n",
      "Processing Record 16 of set 10 | bialystok\n",
      "Processing Record 17 of set 10 | salinopolis\n",
      "Processing Record 18 of set 10 | olinda\n",
      "Processing Record 19 of set 10 | yenagoa\n",
      "Processing Record 20 of set 10 | aracati\n",
      "Processing Record 21 of set 10 | macapa\n",
      "Processing Record 22 of set 10 | mitsamiouli\n",
      "Processing Record 23 of set 10 | haverfordwest\n",
      "City not found....Skipping............\n",
      "Processing Record 24 of set 10 | paamiut\n",
      "Processing Record 25 of set 10 | kuytun\n",
      "Processing Record 26 of set 10 | nybro\n",
      "Processing Record 27 of set 10 | kamaishi\n",
      "Processing Record 28 of set 10 | aberdeen\n",
      "Processing Record 29 of set 10 | tanout\n",
      "Processing Record 30 of set 10 | severnyy\n",
      "Processing Record 31 of set 10 | mehamn\n",
      "Processing Record 32 of set 10 | preeceville\n",
      "Processing Record 33 of set 10 | mizdah\n",
      "City not found....Skipping............\n",
      "Processing Record 34 of set 10 | ambovombe\n",
      "Processing Record 35 of set 10 | pointe michel\n",
      "Processing Record 36 of set 10 | santa maria\n",
      "Processing Record 37 of set 10 | srandakan\n",
      "Processing Record 38 of set 10 | harboore\n",
      "Processing Record 39 of set 10 | sarakhs\n",
      "Processing Record 40 of set 10 | eureka\n",
      "Processing Record 41 of set 10 | madison\n",
      "Processing Record 42 of set 10 | sao joao da barra\n",
      "City not found....Skipping............\n",
      "Processing Record 43 of set 10 | benjamin constant\n",
      "Processing Record 44 of set 10 | toora-khem\n",
      "Processing Record 45 of set 10 | richards bay\n",
      "Processing Record 46 of set 10 | zhigansk\n",
      "Processing Record 47 of set 10 | lerwick\n",
      "Processing Record 48 of set 10 | zaraza\n",
      "Processing Record 49 of set 10 | moron\n",
      "Processing Record 50 of set 10 | asosa\n",
      "Processing Record 1 of set 11 | lengshuitan\n",
      "Processing Record 2 of set 11 | san angelo\n",
      "Processing Record 3 of set 11 | bandrele\n",
      "Processing Record 4 of set 11 | college\n",
      "Processing Record 5 of set 11 | ornskoldsvik\n",
      "City not found....Skipping............\n",
      "Processing Record 6 of set 11 | sao joaquim\n",
      "Processing Record 7 of set 11 | perambalur\n",
      "Processing Record 8 of set 11 | shenjiamen\n",
      "Processing Record 9 of set 11 | kuruman\n",
      "Processing Record 10 of set 11 | artyom\n",
      "Processing Record 11 of set 11 | lasa\n",
      "Processing Record 12 of set 11 | hvide sande\n",
      "Processing Record 13 of set 11 | bobcaygeon\n",
      "Processing Record 14 of set 11 | mount pleasant\n",
      "Processing Record 15 of set 11 | solnechnyy\n",
      "Processing Record 16 of set 11 | tonstad\n",
      "Processing Record 17 of set 11 | la libertad\n",
      "Processing Record 18 of set 11 | deputatskiy\n",
      "Processing Record 19 of set 11 | ovada\n",
      "Processing Record 20 of set 11 | batsfjord\n",
      "Processing Record 21 of set 11 | broome\n",
      "Processing Record 22 of set 11 | alamosa\n",
      "Processing Record 23 of set 11 | honiara\n",
      "Processing Record 24 of set 11 | ejura\n",
      "Processing Record 25 of set 11 | ilam\n",
      "Processing Record 26 of set 11 | porto novo\n",
      "Processing Record 27 of set 11 | aykhal\n",
      "Processing Record 28 of set 11 | wilmington\n",
      "Processing Record 29 of set 11 | terrace\n",
      "Processing Record 30 of set 11 | topolobampo\n",
      "Processing Record 31 of set 11 | sampang\n",
      "Processing Record 32 of set 11 | anito\n",
      "Processing Record 33 of set 11 | tezu\n",
      "City not found....Skipping............\n",
      "Processing Record 34 of set 11 | mombetsu\n",
      "Processing Record 35 of set 11 | xucheng\n",
      "Processing Record 36 of set 11 | pemba\n",
      "Processing Record 37 of set 11 | la palma\n",
      "Processing Record 38 of set 11 | egvekinot\n",
      "Processing Record 39 of set 11 | boda\n",
      "Processing Record 40 of set 11 | sovetskiy\n",
      "Processing Record 41 of set 11 | xique-xique\n",
      "City not found....Skipping............\n",
      "Processing Record 42 of set 11 | veraval\n",
      "Processing Record 43 of set 11 | calatayud\n",
      "Processing Record 44 of set 11 | voi\n",
      "Processing Record 45 of set 11 | port hedland\n",
      "Processing Record 46 of set 11 | inongo\n",
      "Processing Record 47 of set 11 | nueve de julio\n",
      "Processing Record 48 of set 11 | vila franca do campo\n",
      "Processing Record 49 of set 11 | huarmey\n",
      "Processing Record 50 of set 11 | chagoda\n"
     ]
    },
    {
     "name": "stdout",
     "output_type": "stream",
     "text": [
      "Processing Record 1 of set 12 | sayyan\n",
      "Processing Record 2 of set 12 | alenquer\n",
      "Processing Record 3 of set 12 | kungurtug\n",
      "Processing Record 4 of set 12 | cacu\n",
      "Processing Record 5 of set 12 | new orleans\n",
      "City not found....Skipping............\n",
      "Processing Record 6 of set 12 | rovaniemi\n",
      "Processing Record 7 of set 12 | komsomolskiy\n",
      "Processing Record 8 of set 12 | fort walton beach\n",
      "Processing Record 9 of set 12 | bell ville\n",
      "Processing Record 10 of set 12 | san quintin\n",
      "Processing Record 11 of set 12 | mayachnyy\n",
      "Processing Record 12 of set 12 | wattegama\n",
      "City not found....Skipping............\n",
      "City not found....Skipping............\n",
      "Processing Record 13 of set 12 | marawi\n",
      "Processing Record 14 of set 12 | alekseyevka\n",
      "Processing Record 15 of set 12 | mokhsogollokh\n",
      "Processing Record 16 of set 12 | gisborne\n",
      "\n",
      "-----------------------------\n",
      "Data Retrieval Complete\n",
      "-----------------------------\n"
     ]
    }
   ],
   "source": [
    "#Set variables needed for analysis\n",
    "city_weather = []\n",
    "cou = []\n",
    "lat = []\n",
    "long = []\n",
    "temp = []\n",
    "humid = []\n",
    "cloud = []\n",
    "wind = []\n",
    "city_num = 1\n",
    "city_set = 1 \n",
    "\n",
    "# Language to show processing\n",
    "print('''\n",
    "-----------------------------\n",
    "Beginning Data Retrieval\n",
    "-----------------------------''')\n",
    "\n",
    "# Pull data to create dataframe\n",
    "for city in cities:\n",
    "    try:\n",
    "        final_url = fill_url(query_url + city)\n",
    "#         print(final_url)\n",
    "        response = requests.get(final_url).json()\n",
    "#         print(response)\n",
    "        city_weather.append(response['name'])\n",
    "        cou.append(response['sys']['country'])\n",
    "        lat.append(response['coord']['lat'])\n",
    "        long.append(response['coord']['lon'])\n",
    "        temp.append(response['main']['temp'])\n",
    "        humid.append(response['main']['humidity'])\n",
    "        cloud.append(response['clouds']['all'])\n",
    "        wind.append(response['wind']['speed'])\n",
    "\n",
    "        print(f\"Processing Record {city_num} of set {city_set} | {city}\")\n",
    "        \n",
    "        # Add one to city count\n",
    "        city_num += 1 \n",
    "    \n",
    "    except (KeyError):\n",
    "        print(\"City not found....Skipping............\")\n",
    "        \n",
    "    #Create sets of 50\n",
    "    if city_num == 51:\n",
    "        city_set += 1\n",
    "        city_num = 1\n",
    "\n",
    "print('''\n",
    "-----------------------------\n",
    "Data Retrieval Complete\n",
    "-----------------------------''')"
   ]
  },
  {
   "cell_type": "markdown",
   "metadata": {},
   "source": [
    "### Convert Raw Data to DataFrame\n",
    "* Export the city data into a .csv.\n",
    "* Display the DataFrame"
   ]
  },
  {
   "cell_type": "code",
   "execution_count": 45,
   "metadata": {},
   "outputs": [
    {
     "data": {
      "text/html": [
       "<div>\n",
       "<style scoped>\n",
       "    .dataframe tbody tr th:only-of-type {\n",
       "        vertical-align: middle;\n",
       "    }\n",
       "\n",
       "    .dataframe tbody tr th {\n",
       "        vertical-align: top;\n",
       "    }\n",
       "\n",
       "    .dataframe thead th {\n",
       "        text-align: right;\n",
       "    }\n",
       "</style>\n",
       "<table border=\"1\" class=\"dataframe\">\n",
       "  <thead>\n",
       "    <tr style=\"text-align: right;\">\n",
       "      <th></th>\n",
       "      <th>City</th>\n",
       "      <th>County</th>\n",
       "      <th>Latitude</th>\n",
       "      <th>Longitude</th>\n",
       "      <th>Tempurature</th>\n",
       "      <th>Humidity</th>\n",
       "      <th>Cloudiness</th>\n",
       "      <th>Wind Speed</th>\n",
       "    </tr>\n",
       "  </thead>\n",
       "  <tbody>\n",
       "    <tr>\n",
       "      <th>0</th>\n",
       "      <td>Hilo</td>\n",
       "      <td>US</td>\n",
       "      <td>19.7297</td>\n",
       "      <td>-155.0900</td>\n",
       "      <td>18.77</td>\n",
       "      <td>68</td>\n",
       "      <td>90</td>\n",
       "      <td>1.54</td>\n",
       "    </tr>\n",
       "    <tr>\n",
       "      <th>1</th>\n",
       "      <td>Mar del Plata</td>\n",
       "      <td>AR</td>\n",
       "      <td>-38.0023</td>\n",
       "      <td>-57.5575</td>\n",
       "      <td>20.17</td>\n",
       "      <td>64</td>\n",
       "      <td>40</td>\n",
       "      <td>8.23</td>\n",
       "    </tr>\n",
       "    <tr>\n",
       "      <th>2</th>\n",
       "      <td>Chokurdakh</td>\n",
       "      <td>RU</td>\n",
       "      <td>70.6333</td>\n",
       "      <td>147.9167</td>\n",
       "      <td>-24.08</td>\n",
       "      <td>88</td>\n",
       "      <td>13</td>\n",
       "      <td>1.96</td>\n",
       "    </tr>\n",
       "    <tr>\n",
       "      <th>3</th>\n",
       "      <td>Berëzovka</td>\n",
       "      <td>BY</td>\n",
       "      <td>53.7214</td>\n",
       "      <td>25.4993</td>\n",
       "      <td>-11.72</td>\n",
       "      <td>96</td>\n",
       "      <td>93</td>\n",
       "      <td>2.74</td>\n",
       "    </tr>\n",
       "    <tr>\n",
       "      <th>4</th>\n",
       "      <td>Lompoc</td>\n",
       "      <td>US</td>\n",
       "      <td>34.6391</td>\n",
       "      <td>-120.4579</td>\n",
       "      <td>10.71</td>\n",
       "      <td>76</td>\n",
       "      <td>90</td>\n",
       "      <td>1.00</td>\n",
       "    </tr>\n",
       "    <tr>\n",
       "      <th>...</th>\n",
       "      <td>...</td>\n",
       "      <td>...</td>\n",
       "      <td>...</td>\n",
       "      <td>...</td>\n",
       "      <td>...</td>\n",
       "      <td>...</td>\n",
       "      <td>...</td>\n",
       "      <td>...</td>\n",
       "    </tr>\n",
       "    <tr>\n",
       "      <th>561</th>\n",
       "      <td>Wattegama</td>\n",
       "      <td>LK</td>\n",
       "      <td>6.7989</td>\n",
       "      <td>81.4808</td>\n",
       "      <td>20.82</td>\n",
       "      <td>85</td>\n",
       "      <td>58</td>\n",
       "      <td>3.22</td>\n",
       "    </tr>\n",
       "    <tr>\n",
       "      <th>562</th>\n",
       "      <td>Marawi</td>\n",
       "      <td>PH</td>\n",
       "      <td>7.9986</td>\n",
       "      <td>124.2928</td>\n",
       "      <td>23.33</td>\n",
       "      <td>94</td>\n",
       "      <td>93</td>\n",
       "      <td>1.34</td>\n",
       "    </tr>\n",
       "    <tr>\n",
       "      <th>563</th>\n",
       "      <td>Alekseyevka</td>\n",
       "      <td>RU</td>\n",
       "      <td>50.6309</td>\n",
       "      <td>38.6903</td>\n",
       "      <td>-6.01</td>\n",
       "      <td>97</td>\n",
       "      <td>100</td>\n",
       "      <td>3.64</td>\n",
       "    </tr>\n",
       "    <tr>\n",
       "      <th>564</th>\n",
       "      <td>Mokhsogollokh</td>\n",
       "      <td>RU</td>\n",
       "      <td>61.4681</td>\n",
       "      <td>128.9203</td>\n",
       "      <td>-30.92</td>\n",
       "      <td>87</td>\n",
       "      <td>78</td>\n",
       "      <td>1.63</td>\n",
       "    </tr>\n",
       "    <tr>\n",
       "      <th>565</th>\n",
       "      <td>Gisborne</td>\n",
       "      <td>NZ</td>\n",
       "      <td>-38.6533</td>\n",
       "      <td>178.0042</td>\n",
       "      <td>22.22</td>\n",
       "      <td>67</td>\n",
       "      <td>100</td>\n",
       "      <td>2.24</td>\n",
       "    </tr>\n",
       "  </tbody>\n",
       "</table>\n",
       "<p>566 rows × 8 columns</p>\n",
       "</div>"
      ],
      "text/plain": [
       "              City County  Latitude  Longitude  Tempurature  Humidity  \\\n",
       "0             Hilo     US   19.7297  -155.0900        18.77        68   \n",
       "1    Mar del Plata     AR  -38.0023   -57.5575        20.17        64   \n",
       "2       Chokurdakh     RU   70.6333   147.9167       -24.08        88   \n",
       "3        Berëzovka     BY   53.7214    25.4993       -11.72        96   \n",
       "4           Lompoc     US   34.6391  -120.4579        10.71        76   \n",
       "..             ...    ...       ...        ...          ...       ...   \n",
       "561      Wattegama     LK    6.7989    81.4808        20.82        85   \n",
       "562         Marawi     PH    7.9986   124.2928        23.33        94   \n",
       "563    Alekseyevka     RU   50.6309    38.6903        -6.01        97   \n",
       "564  Mokhsogollokh     RU   61.4681   128.9203       -30.92        87   \n",
       "565       Gisborne     NZ  -38.6533   178.0042        22.22        67   \n",
       "\n",
       "     Cloudiness  Wind Speed  \n",
       "0            90        1.54  \n",
       "1            40        8.23  \n",
       "2            13        1.96  \n",
       "3            93        2.74  \n",
       "4            90        1.00  \n",
       "..          ...         ...  \n",
       "561          58        3.22  \n",
       "562          93        1.34  \n",
       "563         100        3.64  \n",
       "564          78        1.63  \n",
       "565         100        2.24  \n",
       "\n",
       "[566 rows x 8 columns]"
      ]
     },
     "execution_count": 45,
     "metadata": {},
     "output_type": "execute_result"
    }
   ],
   "source": [
    "# Create a dictionary to hold all cities\n",
    "weather_dict = {\n",
    "    'City' : city_weather,\n",
    "    'County' : cou, \n",
    "    'Latitude' : lat,\n",
    "    'Longitude' : long,\n",
    "    'Tempurature' : temp,\n",
    "    'Humidity' : humid,\n",
    "    'Cloudiness' : cloud, \n",
    "    'Wind Speed': wind\n",
    "}\n",
    "\n",
    "# Convert to DataFrame\n",
    "weather_data = pd.DataFrame(weather_dict)\n",
    "\n",
    "#Export to CSV\n",
    "weather_data.to_csv(\"Outputs/Weather_Data\", index=False, header=True)\n",
    "\n",
    "weather_data"
   ]
  },
  {
   "cell_type": "code",
   "execution_count": 8,
   "metadata": {},
   "outputs": [
    {
     "data": {
      "text/html": [
       "<div>\n",
       "<style scoped>\n",
       "    .dataframe tbody tr th:only-of-type {\n",
       "        vertical-align: middle;\n",
       "    }\n",
       "\n",
       "    .dataframe tbody tr th {\n",
       "        vertical-align: top;\n",
       "    }\n",
       "\n",
       "    .dataframe thead th {\n",
       "        text-align: right;\n",
       "    }\n",
       "</style>\n",
       "<table border=\"1\" class=\"dataframe\">\n",
       "  <thead>\n",
       "    <tr style=\"text-align: right;\">\n",
       "      <th></th>\n",
       "      <th>Latitude</th>\n",
       "      <th>Longitude</th>\n",
       "      <th>Tempurature</th>\n",
       "      <th>Humidity</th>\n",
       "      <th>Cloudiness</th>\n",
       "      <th>Wind Speed</th>\n",
       "    </tr>\n",
       "  </thead>\n",
       "  <tbody>\n",
       "    <tr>\n",
       "      <th>count</th>\n",
       "      <td>566.000000</td>\n",
       "      <td>566.000000</td>\n",
       "      <td>566.000000</td>\n",
       "      <td>566.000000</td>\n",
       "      <td>566.000000</td>\n",
       "      <td>566.000000</td>\n",
       "    </tr>\n",
       "    <tr>\n",
       "      <th>mean</th>\n",
       "      <td>19.032773</td>\n",
       "      <td>12.557688</td>\n",
       "      <td>10.209523</td>\n",
       "      <td>72.176678</td>\n",
       "      <td>55.526502</td>\n",
       "      <td>3.596343</td>\n",
       "    </tr>\n",
       "    <tr>\n",
       "      <th>std</th>\n",
       "      <td>33.607656</td>\n",
       "      <td>89.401477</td>\n",
       "      <td>18.634301</td>\n",
       "      <td>19.652572</td>\n",
       "      <td>38.649665</td>\n",
       "      <td>2.630875</td>\n",
       "    </tr>\n",
       "    <tr>\n",
       "      <th>min</th>\n",
       "      <td>-54.800000</td>\n",
       "      <td>-179.166700</td>\n",
       "      <td>-43.000000</td>\n",
       "      <td>9.000000</td>\n",
       "      <td>0.000000</td>\n",
       "      <td>0.080000</td>\n",
       "    </tr>\n",
       "    <tr>\n",
       "      <th>25%</th>\n",
       "      <td>-8.416125</td>\n",
       "      <td>-65.615500</td>\n",
       "      <td>-4.217500</td>\n",
       "      <td>63.000000</td>\n",
       "      <td>20.000000</td>\n",
       "      <td>1.587500</td>\n",
       "    </tr>\n",
       "    <tr>\n",
       "      <th>50%</th>\n",
       "      <td>21.555600</td>\n",
       "      <td>17.184750</td>\n",
       "      <td>16.925000</td>\n",
       "      <td>77.000000</td>\n",
       "      <td>69.000000</td>\n",
       "      <td>2.985000</td>\n",
       "    </tr>\n",
       "    <tr>\n",
       "      <th>75%</th>\n",
       "      <td>49.420850</td>\n",
       "      <td>88.277075</td>\n",
       "      <td>25.210000</td>\n",
       "      <td>87.000000</td>\n",
       "      <td>92.000000</td>\n",
       "      <td>4.862500</td>\n",
       "    </tr>\n",
       "    <tr>\n",
       "      <th>max</th>\n",
       "      <td>78.218600</td>\n",
       "      <td>179.316700</td>\n",
       "      <td>38.200000</td>\n",
       "      <td>100.000000</td>\n",
       "      <td>100.000000</td>\n",
       "      <td>16.460000</td>\n",
       "    </tr>\n",
       "  </tbody>\n",
       "</table>\n",
       "</div>"
      ],
      "text/plain": [
       "         Latitude   Longitude  Tempurature    Humidity  Cloudiness  Wind Speed\n",
       "count  566.000000  566.000000   566.000000  566.000000  566.000000  566.000000\n",
       "mean    19.032773   12.557688    10.209523   72.176678   55.526502    3.596343\n",
       "std     33.607656   89.401477    18.634301   19.652572   38.649665    2.630875\n",
       "min    -54.800000 -179.166700   -43.000000    9.000000    0.000000    0.080000\n",
       "25%     -8.416125  -65.615500    -4.217500   63.000000   20.000000    1.587500\n",
       "50%     21.555600   17.184750    16.925000   77.000000   69.000000    2.985000\n",
       "75%     49.420850   88.277075    25.210000   87.000000   92.000000    4.862500\n",
       "max     78.218600  179.316700    38.200000  100.000000  100.000000   16.460000"
      ]
     },
     "execution_count": 8,
     "metadata": {},
     "output_type": "execute_result"
    }
   ],
   "source": [
    "#Statistical summary\n",
    "weather_data.describe()"
   ]
  },
  {
   "cell_type": "markdown",
   "metadata": {},
   "source": [
    "## Inspect the data and remove the cities where the humidity > 100%.\n",
    "----\n",
    "Skip this step if there are no cities that have humidity > 100%. "
   ]
  },
  {
   "cell_type": "code",
   "execution_count": 17,
   "metadata": {},
   "outputs": [
    {
     "data": {
      "text/plain": [
       "Int64Index([], dtype='int64')"
      ]
     },
     "execution_count": 17,
     "metadata": {},
     "output_type": "execute_result"
    }
   ],
   "source": [
    "#  Get the indices of cities that have humidity over 100%.\n"
   ]
  },
  {
   "cell_type": "code",
   "execution_count": 19,
   "metadata": {},
   "outputs": [
    {
     "data": {
      "text/html": [
       "<div>\n",
       "<style scoped>\n",
       "    .dataframe tbody tr th:only-of-type {\n",
       "        vertical-align: middle;\n",
       "    }\n",
       "\n",
       "    .dataframe tbody tr th {\n",
       "        vertical-align: top;\n",
       "    }\n",
       "\n",
       "    .dataframe thead th {\n",
       "        text-align: right;\n",
       "    }\n",
       "</style>\n",
       "<table border=\"1\" class=\"dataframe\">\n",
       "  <thead>\n",
       "    <tr style=\"text-align: right;\">\n",
       "      <th></th>\n",
       "      <th>City</th>\n",
       "      <th>Lat</th>\n",
       "      <th>Lng</th>\n",
       "      <th>Max Temp</th>\n",
       "      <th>Humidity</th>\n",
       "      <th>Cloudiness</th>\n",
       "      <th>Wind Speed</th>\n",
       "      <th>Country</th>\n",
       "      <th>Date</th>\n",
       "    </tr>\n",
       "  </thead>\n",
       "  <tbody>\n",
       "    <tr>\n",
       "      <td>0</td>\n",
       "      <td>butaritari</td>\n",
       "      <td>3.07</td>\n",
       "      <td>172.79</td>\n",
       "      <td>83.32</td>\n",
       "      <td>74</td>\n",
       "      <td>84</td>\n",
       "      <td>10.42</td>\n",
       "      <td>KI</td>\n",
       "      <td>1593605283</td>\n",
       "    </tr>\n",
       "    <tr>\n",
       "      <td>1</td>\n",
       "      <td>yerbogachen</td>\n",
       "      <td>61.28</td>\n",
       "      <td>108.01</td>\n",
       "      <td>79.52</td>\n",
       "      <td>58</td>\n",
       "      <td>20</td>\n",
       "      <td>7.70</td>\n",
       "      <td>RU</td>\n",
       "      <td>1593605121</td>\n",
       "    </tr>\n",
       "    <tr>\n",
       "      <td>2</td>\n",
       "      <td>cape town</td>\n",
       "      <td>-33.93</td>\n",
       "      <td>18.42</td>\n",
       "      <td>73.00</td>\n",
       "      <td>77</td>\n",
       "      <td>27</td>\n",
       "      <td>4.70</td>\n",
       "      <td>ZA</td>\n",
       "      <td>1593605039</td>\n",
       "    </tr>\n",
       "    <tr>\n",
       "      <td>3</td>\n",
       "      <td>touba</td>\n",
       "      <td>8.28</td>\n",
       "      <td>-7.68</td>\n",
       "      <td>79.97</td>\n",
       "      <td>75</td>\n",
       "      <td>82</td>\n",
       "      <td>3.58</td>\n",
       "      <td>CI</td>\n",
       "      <td>1593605284</td>\n",
       "    </tr>\n",
       "    <tr>\n",
       "      <td>4</td>\n",
       "      <td>jamestown</td>\n",
       "      <td>42.10</td>\n",
       "      <td>-79.24</td>\n",
       "      <td>64.00</td>\n",
       "      <td>88</td>\n",
       "      <td>1</td>\n",
       "      <td>6.93</td>\n",
       "      <td>US</td>\n",
       "      <td>1593605284</td>\n",
       "    </tr>\n",
       "  </tbody>\n",
       "</table>\n",
       "</div>"
      ],
      "text/plain": [
       "          City    Lat     Lng  Max Temp  Humidity  Cloudiness  Wind Speed  \\\n",
       "0   butaritari   3.07  172.79     83.32        74          84       10.42   \n",
       "1  yerbogachen  61.28  108.01     79.52        58          20        7.70   \n",
       "2    cape town -33.93   18.42     73.00        77          27        4.70   \n",
       "3        touba   8.28   -7.68     79.97        75          82        3.58   \n",
       "4    jamestown  42.10  -79.24     64.00        88           1        6.93   \n",
       "\n",
       "  Country        Date  \n",
       "0      KI  1593605283  \n",
       "1      RU  1593605121  \n",
       "2      ZA  1593605039  \n",
       "3      CI  1593605284  \n",
       "4      US  1593605284  "
      ]
     },
     "execution_count": 19,
     "metadata": {},
     "output_type": "execute_result"
    }
   ],
   "source": [
    "# Make a new DataFrame equal to the city data to drop all humidity outliers by index.\n",
    "# Passing \"inplace=False\" will make a copy of the city_data DataFrame, which we call \"clean_city_data\".\n"
   ]
  },
  {
   "cell_type": "code",
   "execution_count": null,
   "metadata": {},
   "outputs": [],
   "source": [
    "\n"
   ]
  },
  {
   "cell_type": "markdown",
   "metadata": {},
   "source": [
    "## Plotting the Data\n",
    "* Use proper labeling of the plots using plot titles (including date of analysis) and axes labels.\n",
    "* Save the plotted figures as .pngs."
   ]
  },
  {
   "cell_type": "markdown",
   "metadata": {},
   "source": [
    "## Latitude vs. Temperature Plot"
   ]
  },
  {
   "cell_type": "code",
   "execution_count": 47,
   "metadata": {
    "scrolled": true
   },
   "outputs": [
    {
     "data": {
      "image/png": "[encoded data removed]",
      "text/plain": [
       "<Figure size 432x288 with 1 Axes>"
      ]
     },
     "metadata": {
      "needs_background": "light"
     },
     "output_type": "display_data"
    }
   ],
   "source": [
    "#Define variables\n",
    "lat = weather_data['Latitude']\n",
    "temp = weather_data['Tempurature']\n",
    "\n",
    "#Plot\n",
    "plt.scatter(lat, temp, color='green')\n",
    "\n",
    "#Lable\n",
    "plt.xlabel('Latitude')\n",
    "plt.ylabel('Tempuratures (C)')\n",
    "plt.title('Latitude vs. Temperature')\n",
    "plt.grid('true')\n",
    "\n",
    "#Save file as png\n",
    "plt.savefig(\"Outputs/Latitude vs. Temperature.png\")"
   ]
  },
  {
   "cell_type": "markdown",
   "metadata": {},
   "source": [
    "The plot above shows how the temperature changes across the globe. Since we know the equator to be zero we can see that the highest temperatures are closest to zero and the temperature decreases as you move away from the equator, latitude 0."
   ]
  },
  {
   "cell_type": "markdown",
   "metadata": {},
   "source": [
    "## Latitude vs. Humidity Plot"
   ]
  },
  {
   "cell_type": "code",
   "execution_count": 61,
   "metadata": {},
   "outputs": [
    {
     "data": {
      "image/png": "[encoded data removed]",
      "text/plain": [
       "<Figure size 432x288 with 1 Axes>"
      ]
     },
     "metadata": {
      "needs_background": "light"
     },
     "output_type": "display_data"
    }
   ],
   "source": [
    "#Define new variables\n",
    "humid = weather_data['Humidity']\n",
    "\n",
    "#Plot\n",
    "plt.scatter(lat, humid, color='orange')\n",
    "\n",
    "#Label\n",
    "plt.xlabel('Latitude')\n",
    "plt.ylabel('Humidity (%)')\n",
    "plt.title('Latitude vs. Humidity')\n",
    "plt.grid('true')\n",
    "\n",
    "#Save file as png\n",
    "plt.savefig(\"Outputs/Latitude vs. Humidity.png\")"
   ]
  },
  {
   "cell_type": "markdown",
   "metadata": {},
   "source": [
    "The plot above shows humidity levels across the globe. There does not seem to be a correlation between humidity and location."
   ]
  },
  {
   "cell_type": "markdown",
   "metadata": {},
   "source": [
    "## Latitude vs. Cloudiness Plot"
   ]
  },
  {
   "cell_type": "code",
   "execution_count": 49,
   "metadata": {},
   "outputs": [
    {
     "data": {
      "image/png": "[encoded data removed]",
      "text/plain": [
       "<Figure size 432x288 with 1 Axes>"
      ]
     },
     "metadata": {
      "needs_background": "light"
     },
     "output_type": "display_data"
    }
   ],
   "source": [
    "#Define new variables \n",
    "cloud = weather_data['Cloudiness']\n",
    "\n",
    "#Plot\n",
    "plt.scatter(lat, cloud, color='purple')\n",
    "\n",
    "#Label\n",
    "plt.xlabel('Latitude')\n",
    "plt.ylabel('Cloudiness (%)')\n",
    "plt.title('Latitude vs. Cloudiness')\n",
    "plt.grid('true')\n",
    "\n",
    "\n",
    "#Save file as png\n",
    "plt.savefig(\"Outputs/Latitude vs. Cloudiness.png\")"
   ]
  },
  {
   "cell_type": "markdown",
   "metadata": {},
   "source": [
    "The plot above shows percent cloudiness across the globe. There appears to be some consistency between some temperatures and cloudiness but more statistical tests are needed to established correlation."
   ]
  },
  {
   "cell_type": "markdown",
   "metadata": {},
   "source": [
    "## Latitude vs. Wind Speed Plot"
   ]
  },
  {
   "cell_type": "code",
   "execution_count": 51,
   "metadata": {},
   "outputs": [
    {
     "data": {
      "image/png": "[encoded data removed]",
      "text/plain": [
       "<Figure size 432x288 with 1 Axes>"
      ]
     },
     "metadata": {
      "needs_background": "light"
     },
     "output_type": "display_data"
    }
   ],
   "source": [
    "#Add new variables \n",
    "wind = weather_data['Wind Speed']\n",
    "\n",
    "#Plot\n",
    "plt.scatter(lat, wind, color='skyblue')\n",
    "\n",
    "#Label\n",
    "plt.xlabel('Latitude')\n",
    "plt.ylabel('Wind Speed')\n",
    "plt.title('Latitude vs. Wind Speed')\n",
    "plt.grid('true')\n",
    "\n",
    "#Save file as png\n",
    "plt.savefig(\"Outputs/Latitude vs. Wind Speed.png\")"
   ]
  },
  {
   "cell_type": "markdown",
   "metadata": {},
   "source": [
    "The plot above shows the windspeed across the globe. In general, there seems to be few instances of extremely high wind speed as most speeds are clustered around the bottom of the plot."
   ]
  },
  {
   "cell_type": "markdown",
   "metadata": {},
   "source": [
    "## Linear Regression"
   ]
  },
  {
   "cell_type": "code",
   "execution_count": 77,
   "metadata": {},
   "outputs": [
    {
     "data": {
      "text/html": [
       "<div>\n",
       "<style scoped>\n",
       "    .dataframe tbody tr th:only-of-type {\n",
       "        vertical-align: middle;\n",
       "    }\n",
       "\n",
       "    .dataframe tbody tr th {\n",
       "        vertical-align: top;\n",
       "    }\n",
       "\n",
       "    .dataframe thead th {\n",
       "        text-align: right;\n",
       "    }\n",
       "</style>\n",
       "<table border=\"1\" class=\"dataframe\">\n",
       "  <thead>\n",
       "    <tr style=\"text-align: right;\">\n",
       "      <th></th>\n",
       "      <th>City</th>\n",
       "      <th>County</th>\n",
       "      <th>Latitude</th>\n",
       "      <th>Longitude</th>\n",
       "      <th>Tempurature</th>\n",
       "      <th>Humidity</th>\n",
       "      <th>Cloudiness</th>\n",
       "      <th>Wind Speed</th>\n",
       "    </tr>\n",
       "  </thead>\n",
       "  <tbody>\n",
       "    <tr>\n",
       "      <th>0</th>\n",
       "      <td>Hilo</td>\n",
       "      <td>US</td>\n",
       "      <td>19.7297</td>\n",
       "      <td>-155.0900</td>\n",
       "      <td>18.77</td>\n",
       "      <td>68</td>\n",
       "      <td>90</td>\n",
       "      <td>1.54</td>\n",
       "    </tr>\n",
       "    <tr>\n",
       "      <th>2</th>\n",
       "      <td>Chokurdakh</td>\n",
       "      <td>RU</td>\n",
       "      <td>70.6333</td>\n",
       "      <td>147.9167</td>\n",
       "      <td>-24.08</td>\n",
       "      <td>88</td>\n",
       "      <td>13</td>\n",
       "      <td>1.96</td>\n",
       "    </tr>\n",
       "    <tr>\n",
       "      <th>3</th>\n",
       "      <td>Berëzovka</td>\n",
       "      <td>BY</td>\n",
       "      <td>53.7214</td>\n",
       "      <td>25.4993</td>\n",
       "      <td>-11.72</td>\n",
       "      <td>96</td>\n",
       "      <td>93</td>\n",
       "      <td>2.74</td>\n",
       "    </tr>\n",
       "    <tr>\n",
       "      <th>4</th>\n",
       "      <td>Lompoc</td>\n",
       "      <td>US</td>\n",
       "      <td>34.6391</td>\n",
       "      <td>-120.4579</td>\n",
       "      <td>10.71</td>\n",
       "      <td>76</td>\n",
       "      <td>90</td>\n",
       "      <td>1.00</td>\n",
       "    </tr>\n",
       "    <tr>\n",
       "      <th>6</th>\n",
       "      <td>Saint Paul Harbor</td>\n",
       "      <td>US</td>\n",
       "      <td>57.7900</td>\n",
       "      <td>-152.4072</td>\n",
       "      <td>-1.00</td>\n",
       "      <td>80</td>\n",
       "      <td>90</td>\n",
       "      <td>2.00</td>\n",
       "    </tr>\n",
       "  </tbody>\n",
       "</table>\n",
       "</div>"
      ],
      "text/plain": [
       "                City County  Latitude  Longitude  Tempurature  Humidity  \\\n",
       "0               Hilo     US   19.7297  -155.0900        18.77        68   \n",
       "2         Chokurdakh     RU   70.6333   147.9167       -24.08        88   \n",
       "3          Berëzovka     BY   53.7214    25.4993       -11.72        96   \n",
       "4             Lompoc     US   34.6391  -120.4579        10.71        76   \n",
       "6  Saint Paul Harbor     US   57.7900  -152.4072        -1.00        80   \n",
       "\n",
       "   Cloudiness  Wind Speed  \n",
       "0          90        1.54  \n",
       "2          13        1.96  \n",
       "3          93        2.74  \n",
       "4          90        1.00  \n",
       "6          90        2.00  "
      ]
     },
     "execution_count": 77,
     "metadata": {},
     "output_type": "execute_result"
    }
   ],
   "source": [
    "#Establish north and south hemisphere dataframes\n",
    "\n",
    "north = weather_data.loc[weather_data['Latitude'] >= 0]\n",
    "north.head()\n",
    "# print(len(north))\n",
    "south = weather_data.loc[weather_data['Latitude'] < 0]\n",
    "# print(len(south))"
   ]
  },
  {
   "cell_type": "markdown",
   "metadata": {},
   "source": [
    "####  Northern Hemisphere - Tempurature vs. Latitude Linear Regression"
   ]
  },
  {
   "cell_type": "code",
   "execution_count": 112,
   "metadata": {},
   "outputs": [
    {
     "name": "stdout",
     "output_type": "stream",
     "text": [
      "The r-value is: 0.7763821438628354\n"
     ]
    },
    {
     "data": {
      "image/png": "[encoded data removed]",
      "text/plain": [
       "<Figure size 432x288 with 1 Axes>"
      ]
     },
     "metadata": {
      "needs_background": "light"
     },
     "output_type": "display_data"
    }
   ],
   "source": [
    "from scipy import stats\n",
    "\n",
    "#Add associated y_axis\n",
    "north_lat = north['Latitude']\n",
    "north_temp = north['Tempurature']\n",
    "\n",
    "# Linear regression\n",
    "# Perform a linear regression on temperature vs. latitude\n",
    "(slope, intercept, rvalue, pvalue, stderr) = stats.linregress(north_lat, north_temp)\n",
    "\n",
    "# Get regression values\n",
    "regress_values = north_lat * slope + intercept\n",
    "\n",
    "#Create line equation for graph\n",
    "lneq = \"y = \" + str(round(slope,2)) + \"x + \" + str(round(intercept,2))\n",
    "\n",
    "#Plot\n",
    "plt.scatter(north_lat, north_temp)\n",
    "plt.plot(north_lat,regress_values,\"r-\")\n",
    "\n",
    "#Label\n",
    "plt.xlabel('Latitude')\n",
    "plt.ylabel('Tempurature (C)')\n",
    "plt.title('Northern Hemisphere: Tempurature vs. Latitude')\n",
    "plt.annotate(lneq,(40,30),fontsize=15,color=\"red\")\n",
    "print(f\"The r-value is: {rvalue**2}\")"
   ]
  },
  {
   "cell_type": "markdown",
   "metadata": {},
   "source": [
    "####  Southern Hemisphere - Tempurature vs. Latitude Linear Regression"
   ]
  },
  {
   "cell_type": "code",
   "execution_count": 113,
   "metadata": {},
   "outputs": [
    {
     "name": "stdout",
     "output_type": "stream",
     "text": [
      "The r-value is: 0.34535118000503556\n"
     ]
    },
    {
     "data": {
      "image/png": "[encoded data removed]",
      "text/plain": [
       "<Figure size 432x288 with 1 Axes>"
      ]
     },
     "metadata": {
      "needs_background": "light"
     },
     "output_type": "display_data"
    }
   ],
   "source": [
    "#Add associated y_axis\n",
    "south_lat = south['Latitude']\n",
    "south_temp = south['Tempurature']\n",
    "\n",
    "# Linear regression\n",
    "# Perform a linear regression on temperature vs. latitude\n",
    "(slope, intercept, rvalue, pvalue, stderr) = stats.linregress(south_lat, south_temp)\n",
    "\n",
    "# Get regression values\n",
    "regress_values = south_lat * slope + intercept\n",
    "\n",
    "#Create line equation for graph\n",
    "lneq = \"y = \" + str(round(slope,2)) + \"x + \" + str(round(intercept,2))\n",
    "\n",
    "#Plot\n",
    "plt.scatter(south_lat, south_temp)\n",
    "plt.plot(south_lat,regress_values,\"r-\")\n",
    "\n",
    "#Label\n",
    "plt.xlabel('Latitude')\n",
    "plt.ylabel('Tempurature (C)')\n",
    "plt.title('Southern Hemisphere: Tempurature vs. Latitude')\n",
    "plt.annotate(lneq,(-30, 10),fontsize=15,color=\"red\")\n",
    "print(f\"The r-value is: {rvalue**2}\")"
   ]
  },
  {
   "cell_type": "markdown",
   "metadata": {},
   "source": [
    "####  Northern Hemisphere - Humidity (%) vs. Latitude Linear Regression"
   ]
  },
  {
   "cell_type": "code",
   "execution_count": 114,
   "metadata": {},
   "outputs": [
    {
     "name": "stdout",
     "output_type": "stream",
     "text": [
      "The r-value is: 0.14581671139361171\n"
     ]
    },
    {
     "data": {
      "image/png": "[encoded data removed]",
      "text/plain": [
       "<Figure size 432x288 with 1 Axes>"
      ]
     },
     "metadata": {
      "needs_background": "light"
     },
     "output_type": "display_data"
    }
   ],
   "source": [
    "#Add associated y_axis\n",
    "north_hum = north['Humidity']\n",
    "\n",
    "# Linear regression\n",
    "# Perform a linear regression on temperature vs. latitude\n",
    "(slope, intercept, rvalue, pvalue, stderr) = stats.linregress(north_lat, north_hum)\n",
    "\n",
    "# Get regression values\n",
    "regress_values = north_lat * slope + intercept\n",
    "\n",
    "#Create line equation for graph\n",
    "lneq = \"y = \" + str(round(slope,2)) + \"x + \" + str(round(intercept,2))\n",
    "\n",
    "#Plot\n",
    "plt.scatter(north_lat, north_hum)\n",
    "plt.plot(north_lat,regress_values,\"r-\")\n",
    "\n",
    "#Label\n",
    "plt.xlabel('Latitude')\n",
    "plt.ylabel('Humidity (%)')\n",
    "plt.title('Northern Hemisphere: Humidity vs. Latitude')\n",
    "plt.annotate(lneq,(45,15),fontsize=15,color=\"red\")\n",
    "print(f\"The r-value is: {rvalue**2}\")"
   ]
  },
  {
   "cell_type": "markdown",
   "metadata": {},
   "source": [
    "####  Southern Hemisphere - Humidity (%) vs. Latitude Linear Regression"
   ]
  },
  {
   "cell_type": "code",
   "execution_count": 116,
   "metadata": {},
   "outputs": [
    {
     "name": "stdout",
     "output_type": "stream",
     "text": [
      "The r-value is: 0.03235274474216011\n"
     ]
    },
    {
     "data": {
      "image/png": "[encoded data removed]",
      "text/plain": [
       "<Figure size 432x288 with 1 Axes>"
      ]
     },
     "metadata": {
      "needs_background": "light"
     },
     "output_type": "display_data"
    }
   ],
   "source": [
    "#Add associated y_axis\n",
    "south_lat = south['Latitude']\n",
    "south_hum = south['Humidity']\n",
    "\n",
    "# Linear regression\n",
    "# Perform a linear regression on temperature vs. latitude\n",
    "(slope, intercept, rvalue, pvalue, stderr) = stats.linregress(south_lat, south_hum)\n",
    "\n",
    "# Get regression values\n",
    "regress_values = south_lat * slope + intercept\n",
    "\n",
    "#Create line equation for graph\n",
    "lneq = \"y = \" + str(round(slope,2)) + \"x + \" + str(round(intercept,2))\n",
    "\n",
    "#Plot\n",
    "plt.scatter(south_lat, south_hum)\n",
    "plt.plot(south_lat,regress_values,\"r-\")\n",
    "\n",
    "#Label\n",
    "plt.xlabel('Latitude')\n",
    "plt.ylabel('Humidity (%)')\n",
    "plt.title('Southern Hemisphere: Humidity vs. Latitude')\n",
    "plt.annotate(lneq,(-25, 17),fontsize=15,color=\"red\")\n",
    "print(f\"The r-value is: {rvalue**2}\")"
   ]
  },
  {
   "cell_type": "markdown",
   "metadata": {},
   "source": [
    "####  Northern Hemisphere - Cloudiness (%) vs. Latitude Linear Regression"
   ]
  },
  {
   "cell_type": "code",
   "execution_count": 29,
   "metadata": {},
   "outputs": [
    {
     "name": "stdout",
     "output_type": "stream",
     "text": [
      "The r-value is: 0.0020898727664228514\n"
     ]
    },
    {
     "data": {
      "image/png": "[encoded data removed]",
      "text/plain": [
       "<Figure size 432x288 with 1 Axes>"
      ]
     },
     "metadata": {
      "needs_background": "light"
     },
     "output_type": "display_data"
    }
   ],
   "source": []
  },
  {
   "cell_type": "markdown",
   "metadata": {},
   "source": [
    "####  Southern Hemisphere - Cloudiness (%) vs. Latitude Linear Regression"
   ]
  },
  {
   "cell_type": "code",
   "execution_count": 30,
   "metadata": {},
   "outputs": [
    {
     "name": "stdout",
     "output_type": "stream",
     "text": [
      "The r-value is: 0.0035263772085582894\n"
     ]
    },
    {
     "data": {
      "image/png": "[encoded data removed]",
      "text/plain": [
       "<Figure size 432x288 with 1 Axes>"
      ]
     },
     "metadata": {
      "needs_background": "light"
     },
     "output_type": "display_data"
    }
   ],
   "source": []
  },
  {
   "cell_type": "markdown",
   "metadata": {},
   "source": [
    "####  Northern Hemisphere - Wind Speed (mph) vs. Latitude Linear Regression"
   ]
  },
  {
   "cell_type": "code",
   "execution_count": 31,
   "metadata": {},
   "outputs": [
    {
     "name": "stdout",
     "output_type": "stream",
     "text": [
      "The r-value is: 0.04019723576144484\n"
     ]
    },
    {
     "data": {
      "image/png": "[encoded data removed]",
      "text/plain": [
       "<Figure size 432x288 with 1 Axes>"
      ]
     },
     "metadata": {
      "needs_background": "light"
     },
     "output_type": "display_data"
    }
   ],
   "source": []
  },
  {
   "cell_type": "markdown",
   "metadata": {},
   "source": [
    "####  Southern Hemisphere - Wind Speed (mph) vs. Latitude Linear Regression"
   ]
  },
  {
   "cell_type": "code",
   "execution_count": 32,
   "metadata": {},
   "outputs": [
    {
     "name": "stdout",
     "output_type": "stream",
     "text": [
      "The r-value is: 0.017128274759839232\n"
     ]
    },
    {
     "data": {
      "image/png": "[encoded data removed]",
      "text/plain": [
       "<Figure size 432x288 with 1 Axes>"
      ]
     },
     "metadata": {
      "needs_background": "light"
     },
     "output_type": "display_data"
    }
   ],
   "source": []
  },
  {
   "cell_type": "code",
   "execution_count": null,
   "metadata": {},
   "outputs": [],
   "source": []
  }
 ],
 "metadata": {
  "anaconda-cloud": {},
  "kernel_info": {
   "name": "python3"
  },
  "kernelspec": {
   "display_name": "Python 3",
   "language": "python",
   "name": "python3"
  },
  "language_info": {
   "codemirror_mode": {
    "name": "ipython",
    "version": 3
   },
   "file_extension": ".py",
   "mimetype": "text/x-python",
   "name": "python",
   "nbconvert_exporter": "python",
   "pygments_lexer": "ipython3",
   "version": "3.8.5"
  },
  "latex_envs": {
   "LaTeX_envs_menu_present": true,
   "autoclose": false,
   "autocomplete": true,
   "bibliofile": "biblio.bib",
   "cite_by": "apalike",
   "current_citInitial": 1,
   "eqLabelWithNumbers": true,
   "eqNumInitial": 1,
   "hotkeys": {
    "equation": "Ctrl-E",
    "itemize": "Ctrl-I"
   },
   "labels_anchors": false,
   "latex_user_defs": false,
   "report_style_numbering": false,
   "user_envs_cfg": false
  },
  "nteract": {
   "version": "0.12.3"
  }
 },
 "nbformat": 4,
 "nbformat_minor": 2
}
