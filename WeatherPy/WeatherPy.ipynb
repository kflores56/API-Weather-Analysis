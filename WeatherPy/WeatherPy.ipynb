{
 "cells": [
  {
   "cell_type": "markdown",
   "metadata": {},
   "source": [
    "# WeatherPy"
   ]
  },
  {
   "cell_type": "code",
   "execution_count": 1,
   "metadata": {
    "scrolled": true
   },
   "outputs": [],
   "source": [
    "# Dependencies and Setup\n",
    "import matplotlib.pyplot as plt\n",
    "import pandas as pd\n",
    "import numpy as np\n",
    "import requests\n",
    "from requests.utils import requote_uri\n",
    "import time\n",
    "from scipy.stats import linregress\n",
    "\n",
    "# Import API key\n",
    "from api_keys import weather_api_key\n",
    "\n",
    "# Incorporated citipy to determine city based on latitude and longitude\n",
    "from citipy import citipy\n",
    "\n",
    "# Output File (CSV)\n",
    "output_data_file = \"output_data/cities.csv\"\n",
    "\n",
    "# Range of latitudes and longitudes\n",
    "lat_range = (-90, 90)\n",
    "lng_range = (-180, 180)\n",
    "\n",
    "# Save config information.\n",
    "url = \"http://api.openweathermap.org/data/2.5/weather?\"\n",
    "units = \"metric\"\n",
    "\n",
    "# Build partial query URL\n",
    "fill_url = requests.utils.requote_uri\n",
    "query_url = f\"{url}appid={weather_api_key}&units={units}&q=\""
   ]
  },
  {
   "cell_type": "markdown",
   "metadata": {},
   "source": [
    "## Generate Cities List"
   ]
  },
  {
   "cell_type": "code",
   "execution_count": 2,
   "metadata": {},
   "outputs": [
    {
     "name": "stdout",
     "output_type": "stream",
     "text": [
      "\n",
      "Total number of cities: 621\n"
     ]
    }
   ],
   "source": [
    "# List for holding lat_lngs and cities\n",
    "lat_lngs = []\n",
    "cities = []\n",
    "\n",
    "# Create a set of random lat and lng combinations\n",
    "lats = np.random.uniform(lat_range[0], lat_range[1], size=1500)\n",
    "lngs = np.random.uniform(lng_range[0], lng_range[1], size=1500)\n",
    "lat_lngs = zip(lats, lngs)\n",
    "\n",
    "# Identify nearest city for each lat, lng combination\n",
    "for lat_lng in lat_lngs:\n",
    "    city = citipy.nearest_city(lat_lng[0], lat_lng[1]).city_name\n",
    "    \n",
    "    # If the city is unique, then add it to a our cities list\n",
    "    if city not in cities:\n",
    "        cities.append(city)\n",
    "\n",
    "# Print the city count to confirm sufficient count\n",
    "total_cities = len(cities)\n",
    "print()\n",
    "print(f\"Total number of cities: {total_cities}\")"
   ]
  },
  {
   "cell_type": "markdown",
   "metadata": {},
   "source": [
    "### Perform API Calls\n",
    "* Perform a weather check on each city using a series of successive API calls.\n",
    "* Include a print log of each city as it'sbeing processed (with the city number and city name).\n"
   ]
  },
  {
   "cell_type": "code",
   "execution_count": 3,
   "metadata": {
    "scrolled": true
   },
   "outputs": [
    {
     "name": "stdout",
     "output_type": "stream",
     "text": [
      "\n",
      "-----------------------------\n",
      "Beginning Data Retrieval\n",
      "-----------------------------\n",
      "Processing Record 1 of set 1 | bluff\n",
      "Processing Record 2 of set 1 | ushuaia\n",
      "Processing Record 3 of set 1 | tumalim\n",
      "Processing Record 4 of set 1 | rikitea\n",
      "Processing Record 5 of set 1 | lashma\n",
      "Processing Record 6 of set 1 | mataura\n",
      "City not found....Skipping............\n",
      "Processing Record 7 of set 1 | norman wells\n",
      "Processing Record 8 of set 1 | emba\n",
      "City not found....Skipping............\n",
      "Processing Record 9 of set 1 | busselton\n",
      "Processing Record 10 of set 1 | bredasdorp\n",
      "Processing Record 11 of set 1 | bandarbeyla\n",
      "Processing Record 12 of set 1 | lavrentiya\n",
      "Processing Record 13 of set 1 | leeton\n",
      "Processing Record 14 of set 1 | provideniya\n",
      "Processing Record 15 of set 1 | albany\n",
      "Processing Record 16 of set 1 | tasiilaq\n",
      "Processing Record 17 of set 1 | butaritari\n",
      "Processing Record 18 of set 1 | mikhaylovka\n",
      "Processing Record 19 of set 1 | port alfred\n",
      "Processing Record 20 of set 1 | vao\n",
      "Processing Record 21 of set 1 | trofors\n",
      "Processing Record 22 of set 1 | hvolsvollur\n",
      "Processing Record 23 of set 1 | kavieng\n",
      "Processing Record 24 of set 1 | dingle\n",
      "Processing Record 25 of set 1 | udachnyy\n",
      "Processing Record 26 of set 1 | puerto ayora\n",
      "Processing Record 27 of set 1 | cape town\n",
      "Processing Record 28 of set 1 | teknaf\n",
      "Processing Record 29 of set 1 | taoudenni\n",
      "Processing Record 30 of set 1 | kati\n",
      "Processing Record 31 of set 1 | vanavara\n",
      "Processing Record 32 of set 1 | georgetown\n",
      "Processing Record 33 of set 1 | tuktoyaktuk\n",
      "City not found....Skipping............\n",
      "Processing Record 34 of set 1 | kapaa\n",
      "Processing Record 35 of set 1 | preobrazheniye\n",
      "Processing Record 36 of set 1 | coahuayana\n",
      "Processing Record 37 of set 1 | hambantota\n",
      "Processing Record 38 of set 1 | puerto del rosario\n",
      "Processing Record 39 of set 1 | avarua\n",
      "Processing Record 40 of set 1 | hermanus\n",
      "Processing Record 41 of set 1 | sisimiut\n",
      "Processing Record 42 of set 1 | ramanagaram\n",
      "Processing Record 43 of set 1 | flinders\n",
      "Processing Record 44 of set 1 | haines junction\n",
      "Processing Record 45 of set 1 | geraldton\n",
      "Processing Record 46 of set 1 | ponta do sol\n",
      "Processing Record 47 of set 1 | atuona\n",
      "Processing Record 48 of set 1 | saint-alexandre\n",
      "Processing Record 49 of set 1 | pishin\n",
      "City not found....Skipping............\n",
      "City not found....Skipping............\n",
      "Processing Record 50 of set 1 | babu\n",
      "Processing Record 1 of set 2 | thompson\n",
      "Processing Record 2 of set 2 | barrow\n",
      "Processing Record 3 of set 2 | hobart\n",
      "City not found....Skipping............\n",
      "Processing Record 4 of set 2 | ketchikan\n",
      "Processing Record 5 of set 2 | saint-philippe\n",
      "Processing Record 6 of set 2 | san pedro\n",
      "City not found....Skipping............\n",
      "Processing Record 7 of set 2 | waipawa\n",
      "Processing Record 8 of set 2 | narsaq\n",
      "Processing Record 9 of set 2 | mormugao\n",
      "Processing Record 10 of set 2 | saint-francois\n",
      "Processing Record 11 of set 2 | kavaratti\n",
      "Processing Record 12 of set 2 | abu kamal\n",
      "Processing Record 13 of set 2 | arraial do cabo\n",
      "Processing Record 14 of set 2 | oskarshamn\n",
      "Processing Record 15 of set 2 | punta arenas\n",
      "Processing Record 16 of set 2 | palmer\n",
      "Processing Record 17 of set 2 | saskylakh\n",
      "Processing Record 18 of set 2 | port arthur\n",
      "Processing Record 19 of set 2 | gamba\n",
      "Processing Record 20 of set 2 | wattegama\n",
      "Processing Record 21 of set 2 | broome\n",
      "Processing Record 22 of set 2 | qaanaaq\n",
      "Processing Record 23 of set 2 | shimoda\n",
      "City not found....Skipping............\n",
      "Processing Record 24 of set 2 | bintulu\n",
      "Processing Record 25 of set 2 | kailua\n",
      "City not found....Skipping............\n",
      "Processing Record 26 of set 2 | ucluelet\n",
      "Processing Record 27 of set 2 | dawei\n",
      "Processing Record 28 of set 2 | tazovskiy\n",
      "Processing Record 29 of set 2 | touros\n",
      "Processing Record 30 of set 2 | allapalli\n",
      "Processing Record 31 of set 2 | torbay\n",
      "City not found....Skipping............\n",
      "Processing Record 32 of set 2 | maxixe\n",
      "Processing Record 33 of set 2 | katsuura\n",
      "Processing Record 34 of set 2 | port blair\n",
      "Processing Record 35 of set 2 | fort smith\n",
      "Processing Record 36 of set 2 | east london\n",
      "Processing Record 37 of set 2 | chuy\n",
      "Processing Record 38 of set 2 | hilo\n",
      "Processing Record 39 of set 2 | ulaanbaatar\n",
      "Processing Record 40 of set 2 | port lincoln\n",
      "Processing Record 41 of set 2 | portugalete\n",
      "Processing Record 42 of set 2 | pevek\n",
      "Processing Record 43 of set 2 | kokoda\n",
      "Processing Record 44 of set 2 | tepelene\n",
      "Processing Record 45 of set 2 | bilibino\n",
      "Processing Record 46 of set 2 | hervey bay\n",
      "Processing Record 47 of set 2 | axim\n",
      "Processing Record 48 of set 2 | svetlogorsk\n",
      "Processing Record 49 of set 2 | coihaique\n",
      "Processing Record 50 of set 2 | tuatapere\n",
      "Processing Record 1 of set 3 | grand gaube\n",
      "Processing Record 2 of set 3 | vila franca do campo\n",
      "Processing Record 3 of set 3 | hargeysa\n",
      "Processing Record 4 of set 3 | fortuna\n",
      "Processing Record 5 of set 3 | joshimath\n",
      "Processing Record 6 of set 3 | airai\n",
      "Processing Record 7 of set 3 | emerald\n",
      "Processing Record 8 of set 3 | erzin\n",
      "Processing Record 9 of set 3 | uyuni\n",
      "Processing Record 10 of set 3 | belmonte\n",
      "Processing Record 11 of set 3 | buala\n",
      "City not found....Skipping............\n",
      "Processing Record 12 of set 3 | te anau\n",
      "City not found....Skipping............\n",
      "City not found....Skipping............\n",
      "Processing Record 13 of set 3 | askarovo\n",
      "Processing Record 14 of set 3 | rantepao\n",
      "Processing Record 15 of set 3 | sao filipe\n",
      "Processing Record 16 of set 3 | ihosy\n",
      "Processing Record 17 of set 3 | alice springs\n",
      "Processing Record 18 of set 3 | faanui\n",
      "Processing Record 19 of set 3 | auray\n",
      "Processing Record 20 of set 3 | labrea\n",
      "Processing Record 21 of set 3 | mar del plata\n",
      "City not found....Skipping............\n",
      "Processing Record 22 of set 3 | antonina\n",
      "Processing Record 23 of set 3 | vaini\n",
      "Processing Record 24 of set 3 | edson\n",
      "Processing Record 25 of set 3 | yumen\n",
      "City not found....Skipping............\n",
      "Processing Record 26 of set 3 | jalu\n",
      "City not found....Skipping............\n",
      "Processing Record 27 of set 3 | malumfashi\n",
      "Processing Record 28 of set 3 | jamestown\n",
      "City not found....Skipping............\n",
      "Processing Record 29 of set 3 | myitkyina\n",
      "Processing Record 30 of set 3 | saint george\n",
      "Processing Record 31 of set 3 | les cayes\n",
      "Processing Record 32 of set 3 | lebu\n",
      "Processing Record 33 of set 3 | batemans bay\n",
      "Processing Record 34 of set 3 | buckeye\n",
      "Processing Record 35 of set 3 | beckley\n",
      "Processing Record 36 of set 3 | tamiahua\n",
      "City not found....Skipping............\n",
      "City not found....Skipping............\n",
      "Processing Record 37 of set 3 | zhigansk\n",
      "Processing Record 38 of set 3 | chokurdakh\n",
      "Processing Record 39 of set 3 | karratha\n",
      "Processing Record 40 of set 3 | marrakesh\n",
      "Processing Record 41 of set 3 | vagay\n",
      "Processing Record 42 of set 3 | lorengau\n",
      "Processing Record 43 of set 3 | urumqi\n",
      "Processing Record 44 of set 3 | ponta delgada\n",
      "Processing Record 45 of set 3 | pavino\n",
      "Processing Record 46 of set 3 | eatonton\n",
      "Processing Record 47 of set 3 | soron\n",
      "Processing Record 48 of set 3 | burgeo\n",
      "Processing Record 49 of set 3 | balkanabat\n",
      "Processing Record 50 of set 3 | hassleholm\n",
      "Processing Record 1 of set 4 | the pas\n",
      "Processing Record 2 of set 4 | novoraychikhinsk\n",
      "Processing Record 3 of set 4 | port hardy\n",
      "Processing Record 4 of set 4 | pangnirtung\n",
      "Processing Record 5 of set 4 | bethel\n",
      "City not found....Skipping............\n",
      "Processing Record 6 of set 4 | okhotsk\n",
      "Processing Record 7 of set 4 | nikolskoye\n",
      "Processing Record 8 of set 4 | henderson\n",
      "Processing Record 9 of set 4 | sechura\n",
      "Processing Record 10 of set 4 | henties bay\n",
      "Processing Record 11 of set 4 | sola\n",
      "Processing Record 12 of set 4 | abu dhabi\n",
      "Processing Record 13 of set 4 | upernavik\n",
      "Processing Record 14 of set 4 | roald\n",
      "Processing Record 15 of set 4 | faya\n",
      "Processing Record 16 of set 4 | kuusamo\n",
      "Processing Record 17 of set 4 | rawson\n",
      "Processing Record 18 of set 4 | victoria\n",
      "Processing Record 19 of set 4 | luderitz\n",
      "Processing Record 20 of set 4 | ranong\n",
      "Processing Record 21 of set 4 | hofn\n",
      "Processing Record 22 of set 4 | college\n",
      "Processing Record 23 of set 4 | castro\n",
      "Processing Record 24 of set 4 | naze\n",
      "Processing Record 25 of set 4 | ilulissat\n",
      "Processing Record 26 of set 4 | aasiaat\n",
      "Processing Record 27 of set 4 | sarkand\n",
      "Processing Record 28 of set 4 | lata\n",
      "Processing Record 29 of set 4 | port elizabeth\n",
      "Processing Record 30 of set 4 | carnarvon\n"
     ]
    },
    {
     "name": "stdout",
     "output_type": "stream",
     "text": [
      "Processing Record 31 of set 4 | homer\n",
      "Processing Record 32 of set 4 | laurencekirk\n",
      "Processing Record 33 of set 4 | fairbanks\n",
      "Processing Record 34 of set 4 | zemes\n",
      "City not found....Skipping............\n",
      "Processing Record 35 of set 4 | miri\n",
      "Processing Record 36 of set 4 | baykit\n",
      "Processing Record 37 of set 4 | batagay-alyta\n",
      "Processing Record 38 of set 4 | kaitangata\n",
      "Processing Record 39 of set 4 | hastings\n",
      "Processing Record 40 of set 4 | cherskiy\n",
      "Processing Record 41 of set 4 | kirakira\n",
      "Processing Record 42 of set 4 | khandyga\n",
      "Processing Record 43 of set 4 | raudeberg\n",
      "Processing Record 44 of set 4 | nhulunbuy\n",
      "Processing Record 45 of set 4 | guerrero negro\n",
      "Processing Record 46 of set 4 | orange walk\n",
      "Processing Record 47 of set 4 | hirara\n",
      "Processing Record 48 of set 4 | tilichiki\n",
      "Processing Record 49 of set 4 | ribeira grande\n",
      "Processing Record 50 of set 4 | lagoa\n",
      "Processing Record 1 of set 5 | kushima\n",
      "Processing Record 2 of set 5 | kahului\n",
      "Processing Record 3 of set 5 | camacupa\n",
      "Processing Record 4 of set 5 | bambous virieux\n",
      "Processing Record 5 of set 5 | chifeng\n",
      "Processing Record 6 of set 5 | los llanos de aridane\n",
      "Processing Record 7 of set 5 | ancud\n",
      "Processing Record 8 of set 5 | kloulklubed\n",
      "Processing Record 9 of set 5 | zhangye\n",
      "Processing Record 10 of set 5 | karpogory\n",
      "Processing Record 11 of set 5 | dikson\n",
      "Processing Record 12 of set 5 | asau\n",
      "Processing Record 13 of set 5 | san vicente\n",
      "Processing Record 14 of set 5 | mananjary\n",
      "Processing Record 15 of set 5 | sept-iles\n",
      "Processing Record 16 of set 5 | oistins\n",
      "Processing Record 17 of set 5 | callaway\n",
      "Processing Record 18 of set 5 | nouadhibou\n",
      "Processing Record 19 of set 5 | tautira\n",
      "Processing Record 20 of set 5 | mattru\n",
      "Processing Record 21 of set 5 | twentynine palms\n",
      "Processing Record 22 of set 5 | gat\n",
      "Processing Record 23 of set 5 | ahipara\n",
      "Processing Record 24 of set 5 | sorong\n",
      "Processing Record 25 of set 5 | mahebourg\n",
      "Processing Record 26 of set 5 | vega de alatorre\n",
      "Processing Record 27 of set 5 | itarema\n",
      "Processing Record 28 of set 5 | mpika\n",
      "Processing Record 29 of set 5 | parana\n",
      "Processing Record 30 of set 5 | cidreira\n",
      "Processing Record 31 of set 5 | jiuquan\n",
      "City not found....Skipping............\n",
      "Processing Record 32 of set 5 | codrington\n",
      "City not found....Skipping............\n",
      "Processing Record 33 of set 5 | la chapelle-sur-erdre\n",
      "Processing Record 34 of set 5 | constitucion\n",
      "Processing Record 35 of set 5 | gazanjyk\n",
      "Processing Record 36 of set 5 | rio grande\n",
      "Processing Record 37 of set 5 | saint-augustin\n",
      "City not found....Skipping............\n",
      "City not found....Skipping............\n",
      "Processing Record 38 of set 5 | luanda\n",
      "Processing Record 39 of set 5 | bumbuna\n",
      "Processing Record 40 of set 5 | khrebtovaya\n",
      "Processing Record 41 of set 5 | raton\n",
      "Processing Record 42 of set 5 | conde\n",
      "Processing Record 43 of set 5 | tokur\n",
      "Processing Record 44 of set 5 | rota\n",
      "Processing Record 45 of set 5 | vostok\n",
      "Processing Record 46 of set 5 | kodiak\n",
      "Processing Record 47 of set 5 | nuuk\n",
      "Processing Record 48 of set 5 | new norfolk\n",
      "Processing Record 49 of set 5 | de aar\n",
      "Processing Record 50 of set 5 | klaksvik\n",
      "Processing Record 1 of set 6 | nalut\n",
      "City not found....Skipping............\n",
      "Processing Record 2 of set 6 | wojkowice\n",
      "Processing Record 3 of set 6 | kushmurun\n",
      "Processing Record 4 of set 6 | dauphin\n",
      "Processing Record 5 of set 6 | tomatlan\n",
      "Processing Record 6 of set 6 | te karaka\n",
      "Processing Record 7 of set 6 | kanye\n",
      "Processing Record 8 of set 6 | hasaki\n",
      "Processing Record 9 of set 6 | mareeba\n",
      "Processing Record 10 of set 6 | portland\n",
      "Processing Record 11 of set 6 | jesup\n",
      "Processing Record 12 of set 6 | samarai\n",
      "Processing Record 13 of set 6 | mali\n",
      "Processing Record 14 of set 6 | esperance\n",
      "Processing Record 15 of set 6 | felipe carrillo puerto\n",
      "Processing Record 16 of set 6 | susanville\n",
      "Processing Record 17 of set 6 | celestun\n",
      "Processing Record 18 of set 6 | inhambane\n",
      "Processing Record 19 of set 6 | corinto\n",
      "Processing Record 20 of set 6 | strezhevoy\n",
      "Processing Record 21 of set 6 | yellowknife\n",
      "City not found....Skipping............\n",
      "Processing Record 22 of set 6 | souillac\n",
      "Processing Record 23 of set 6 | talnakh\n",
      "Processing Record 24 of set 6 | innisfail\n",
      "Processing Record 25 of set 6 | launceston\n",
      "Processing Record 26 of set 6 | fasa\n",
      "Processing Record 27 of set 6 | kaa-khem\n",
      "Processing Record 28 of set 6 | port shepstone\n",
      "Processing Record 29 of set 6 | valdivia\n",
      "Processing Record 30 of set 6 | huarmey\n",
      "Processing Record 31 of set 6 | zemio\n",
      "Processing Record 32 of set 6 | byron bay\n",
      "Processing Record 33 of set 6 | kutum\n",
      "Processing Record 34 of set 6 | grindavik\n",
      "Processing Record 35 of set 6 | bengkulu\n",
      "Processing Record 36 of set 6 | merauke\n",
      "Processing Record 37 of set 6 | mercedes\n",
      "Processing Record 38 of set 6 | vardo\n",
      "Processing Record 39 of set 6 | port-cartier\n",
      "Processing Record 40 of set 6 | najran\n",
      "Processing Record 41 of set 6 | nelson bay\n",
      "Processing Record 42 of set 6 | northport\n",
      "Processing Record 43 of set 6 | itoman\n",
      "Processing Record 44 of set 6 | leningradskiy\n",
      "City not found....Skipping............\n",
      "Processing Record 45 of set 6 | salalah\n",
      "Processing Record 46 of set 6 | pictou\n",
      "Processing Record 47 of set 6 | tres lagoas\n",
      "Processing Record 48 of set 6 | santa rosa\n",
      "Processing Record 49 of set 6 | salima\n",
      "Processing Record 50 of set 6 | porto novo\n",
      "Processing Record 1 of set 7 | warri\n",
      "City not found....Skipping............\n",
      "Processing Record 2 of set 7 | novaya malykla\n",
      "Processing Record 3 of set 7 | salo\n",
      "City not found....Skipping............\n",
      "City not found....Skipping............\n",
      "Processing Record 4 of set 7 | aripuana\n",
      "Processing Record 5 of set 7 | kabanjahe\n",
      "Processing Record 6 of set 7 | manaus\n",
      "Processing Record 7 of set 7 | zharkent\n",
      "City not found....Skipping............\n",
      "Processing Record 8 of set 7 | macas\n",
      "Processing Record 9 of set 7 | opuwo\n",
      "Processing Record 10 of set 7 | birjand\n",
      "Processing Record 11 of set 7 | santa isabel do rio negro\n",
      "Processing Record 12 of set 7 | tura\n",
      "Processing Record 13 of set 7 | imeni morozova\n",
      "Processing Record 14 of set 7 | katobu\n",
      "City not found....Skipping............\n",
      "Processing Record 15 of set 7 | port-gentil\n",
      "Processing Record 16 of set 7 | bathsheba\n",
      "Processing Record 17 of set 7 | olafsvik\n",
      "Processing Record 18 of set 7 | albanel\n",
      "Processing Record 19 of set 7 | warora\n",
      "Processing Record 20 of set 7 | tiksi\n",
      "Processing Record 21 of set 7 | el alto\n",
      "Processing Record 22 of set 7 | evensk\n",
      "Processing Record 23 of set 7 | namibe\n",
      "Processing Record 24 of set 7 | channel-port aux basques\n",
      "City not found....Skipping............\n",
      "Processing Record 25 of set 7 | bubaque\n",
      "City not found....Skipping............\n",
      "Processing Record 26 of set 7 | toguchin\n",
      "Processing Record 27 of set 7 | yichun\n",
      "Processing Record 28 of set 7 | moose factory\n",
      "City not found....Skipping............\n",
      "Processing Record 29 of set 7 | praya\n",
      "Processing Record 30 of set 7 | banda aceh\n",
      "Processing Record 31 of set 7 | yershov\n",
      "Processing Record 32 of set 7 | ulladulla\n",
      "Processing Record 33 of set 7 | salym\n",
      "Processing Record 34 of set 7 | solnechnyy\n",
      "Processing Record 35 of set 7 | kitimat\n",
      "Processing Record 36 of set 7 | ajdabiya\n",
      "Processing Record 37 of set 7 | marsh harbour\n",
      "Processing Record 38 of set 7 | eureka\n",
      "Processing Record 39 of set 7 | abha\n",
      "Processing Record 40 of set 7 | atar\n",
      "City not found....Skipping............\n",
      "Processing Record 41 of set 7 | nanakuli\n",
      "Processing Record 42 of set 7 | zhangzhou\n",
      "Processing Record 43 of set 7 | khatanga\n",
      "Processing Record 44 of set 7 | tucurui\n",
      "Processing Record 45 of set 7 | qax\n",
      "Processing Record 46 of set 7 | magadan\n",
      "Processing Record 47 of set 7 | qasigiannguit\n",
      "Processing Record 48 of set 7 | dese\n",
      "Processing Record 49 of set 7 | bira\n",
      "City not found....Skipping............\n",
      "City not found....Skipping............\n",
      "Processing Record 50 of set 7 | lac du bonnet\n",
      "Processing Record 1 of set 8 | tsaratanana\n",
      "Processing Record 2 of set 8 | pisco\n",
      "Processing Record 3 of set 8 | sawtell\n",
      "Processing Record 4 of set 8 | novaya igirma\n",
      "Processing Record 5 of set 8 | sassandra\n",
      "Processing Record 6 of set 8 | brae\n",
      "Processing Record 7 of set 8 | nemuro\n",
      "Processing Record 8 of set 8 | bonthe\n",
      "Processing Record 9 of set 8 | bilma\n",
      "Processing Record 10 of set 8 | west wendover\n",
      "Processing Record 11 of set 8 | sozimskiy\n",
      "Processing Record 12 of set 8 | hithadhoo\n",
      "Processing Record 13 of set 8 | rocha\n"
     ]
    },
    {
     "name": "stdout",
     "output_type": "stream",
     "text": [
      "Processing Record 14 of set 8 | cabo san lucas\n",
      "Processing Record 15 of set 8 | marawi\n",
      "Processing Record 16 of set 8 | ust-ilimsk\n",
      "Processing Record 17 of set 8 | nabire\n",
      "City not found....Skipping............\n",
      "Processing Record 18 of set 8 | talcahuano\n",
      "Processing Record 19 of set 8 | ariquemes\n",
      "Processing Record 20 of set 8 | korla\n",
      "Processing Record 21 of set 8 | ngunguru\n",
      "Processing Record 22 of set 8 | peterhead\n",
      "Processing Record 23 of set 8 | eravur\n",
      "Processing Record 24 of set 8 | lubao\n",
      "Processing Record 25 of set 8 | san cristobal\n",
      "Processing Record 26 of set 8 | devonport\n",
      "Processing Record 27 of set 8 | tiznit\n",
      "Processing Record 28 of set 8 | jackson\n",
      "Processing Record 29 of set 8 | hirado\n",
      "Processing Record 30 of set 8 | urucara\n",
      "Processing Record 31 of set 8 | vila velha\n",
      "Processing Record 32 of set 8 | umm lajj\n",
      "City not found....Skipping............\n",
      "Processing Record 33 of set 8 | tineo\n",
      "Processing Record 34 of set 8 | pilar\n",
      "Processing Record 35 of set 8 | nanortalik\n",
      "Processing Record 36 of set 8 | batsfjord\n",
      "Processing Record 37 of set 8 | zalantun\n",
      "Processing Record 38 of set 8 | cabatuan\n",
      "Processing Record 39 of set 8 | kruisfontein\n",
      "Processing Record 40 of set 8 | chulman\n",
      "City not found....Skipping............\n",
      "Processing Record 41 of set 8 | sungairaya\n",
      "Processing Record 42 of set 8 | olga\n",
      "Processing Record 43 of set 8 | cabedelo\n",
      "Processing Record 44 of set 8 | komsomolskiy\n",
      "Processing Record 45 of set 8 | mwaro\n",
      "Processing Record 46 of set 8 | bosanski brod\n",
      "Processing Record 47 of set 8 | san patricio\n",
      "Processing Record 48 of set 8 | dakar\n",
      "Processing Record 49 of set 8 | berlevag\n",
      "Processing Record 50 of set 8 | tigil\n",
      "City not found....Skipping............\n",
      "Processing Record 1 of set 9 | shirgaon\n",
      "Processing Record 2 of set 9 | necochea\n",
      "Processing Record 3 of set 9 | slupca\n",
      "Processing Record 4 of set 9 | wageningen\n",
      "Processing Record 5 of set 9 | longyearbyen\n",
      "Processing Record 6 of set 9 | nukus\n",
      "Processing Record 7 of set 9 | varna\n",
      "Processing Record 8 of set 9 | santarem\n",
      "Processing Record 9 of set 9 | prestea\n",
      "City not found....Skipping............\n",
      "City not found....Skipping............\n",
      "City not found....Skipping............\n",
      "Processing Record 10 of set 9 | cockburn town\n",
      "Processing Record 11 of set 9 | verkhnyaya toyma\n",
      "Processing Record 12 of set 9 | yueyang\n",
      "Processing Record 13 of set 9 | umm kaddadah\n",
      "Processing Record 14 of set 9 | russell\n",
      "Processing Record 15 of set 9 | utiel\n",
      "City not found....Skipping............\n",
      "Processing Record 16 of set 9 | micheweni\n",
      "Processing Record 17 of set 9 | quatre cocos\n",
      "Processing Record 18 of set 9 | santa fe\n",
      "Processing Record 19 of set 9 | mnogovershinnyy\n",
      "Processing Record 20 of set 9 | rio verde de mato grosso\n",
      "City not found....Skipping............\n",
      "City not found....Skipping............\n",
      "Processing Record 21 of set 9 | tambacounda\n",
      "City not found....Skipping............\n",
      "Processing Record 22 of set 9 | catalina\n",
      "Processing Record 23 of set 9 | oga\n",
      "Processing Record 24 of set 9 | vung tau\n",
      "Processing Record 25 of set 9 | maragogi\n",
      "Processing Record 26 of set 9 | dalby\n",
      "Processing Record 27 of set 9 | tehri\n",
      "Processing Record 28 of set 9 | manggar\n",
      "Processing Record 29 of set 9 | golden\n",
      "Processing Record 30 of set 9 | kilindoni\n",
      "Processing Record 31 of set 9 | chhatak\n",
      "Processing Record 32 of set 9 | sydney\n",
      "Processing Record 33 of set 9 | hartford\n",
      "Processing Record 34 of set 9 | inta\n",
      "Processing Record 35 of set 9 | tiarei\n",
      "Processing Record 36 of set 9 | tubuala\n",
      "Processing Record 37 of set 9 | lerwick\n",
      "Processing Record 38 of set 9 | wanning\n",
      "Processing Record 39 of set 9 | turukhansk\n",
      "Processing Record 40 of set 9 | hit\n",
      "City not found....Skipping............\n",
      "Processing Record 41 of set 9 | midland\n",
      "Processing Record 42 of set 9 | mayo\n",
      "Processing Record 43 of set 9 | bauchi\n",
      "Processing Record 44 of set 9 | la ronge\n",
      "Processing Record 45 of set 9 | hami\n",
      "Processing Record 46 of set 9 | punta de piedra\n",
      "Processing Record 47 of set 9 | banff\n",
      "Processing Record 48 of set 9 | dudinka\n",
      "Processing Record 49 of set 9 | san juan\n",
      "Processing Record 50 of set 9 | klenovyy\n",
      "Processing Record 1 of set 10 | odessa\n",
      "Processing Record 2 of set 10 | ous\n",
      "Processing Record 3 of set 10 | vestmannaeyjar\n",
      "Processing Record 4 of set 10 | jiexiu\n",
      "Processing Record 5 of set 10 | talara\n",
      "Processing Record 6 of set 10 | goderich\n",
      "Processing Record 7 of set 10 | caravelas\n",
      "Processing Record 8 of set 10 | noumea\n",
      "Processing Record 9 of set 10 | alofi\n",
      "Processing Record 10 of set 10 | sirsa\n",
      "Processing Record 11 of set 10 | salmon arm\n",
      "Processing Record 12 of set 10 | mount gambier\n",
      "Processing Record 13 of set 10 | anse-bertrand\n",
      "Processing Record 14 of set 10 | quelimane\n",
      "Processing Record 15 of set 10 | perth\n",
      "Processing Record 16 of set 10 | ahuimanu\n",
      "Processing Record 17 of set 10 | lagos\n",
      "Processing Record 18 of set 10 | sitka\n",
      "Processing Record 19 of set 10 | neiafu\n",
      "Processing Record 20 of set 10 | jiangyou\n",
      "Processing Record 21 of set 10 | carndonagh\n",
      "Processing Record 22 of set 10 | quang ngai\n",
      "Processing Record 23 of set 10 | tallahassee\n",
      "Processing Record 24 of set 10 | hoi an\n",
      "Processing Record 25 of set 10 | cayenne\n",
      "Processing Record 26 of set 10 | biala podlaska\n",
      "Processing Record 27 of set 10 | nantucket\n",
      "Processing Record 28 of set 10 | kaohsiung\n",
      "Processing Record 29 of set 10 | saldanha\n",
      "Processing Record 30 of set 10 | shingu\n",
      "Processing Record 31 of set 10 | charters towers\n",
      "Processing Record 32 of set 10 | mildura\n",
      "Processing Record 33 of set 10 | khorixas\n",
      "Processing Record 34 of set 10 | iqaluit\n",
      "Processing Record 35 of set 10 | miyang\n",
      "Processing Record 36 of set 10 | macon\n",
      "Processing Record 37 of set 10 | botosani\n",
      "Processing Record 38 of set 10 | snyder\n",
      "Processing Record 39 of set 10 | lompoc\n",
      "Processing Record 40 of set 10 | safford\n",
      "Processing Record 41 of set 10 | ryotsu\n",
      "Processing Record 42 of set 10 | raga\n",
      "Processing Record 43 of set 10 | sainte-agathe-des-monts\n",
      "Processing Record 44 of set 10 | kantunilkin\n",
      "Processing Record 45 of set 10 | metro\n",
      "Processing Record 46 of set 10 | port augusta\n",
      "Processing Record 47 of set 10 | mega\n",
      "City not found....Skipping............\n",
      "Processing Record 48 of set 10 | santiago del estero\n",
      "Processing Record 49 of set 10 | awbari\n",
      "Processing Record 50 of set 10 | ewa beach\n",
      "Processing Record 1 of set 11 | husavik\n",
      "Processing Record 2 of set 11 | barcelos\n",
      "Processing Record 3 of set 11 | pangody\n",
      "Processing Record 4 of set 11 | larap\n",
      "Processing Record 5 of set 11 | coquimbo\n",
      "Processing Record 6 of set 11 | meulaboh\n",
      "Processing Record 7 of set 11 | valdemarpils\n",
      "Processing Record 8 of set 11 | flin flon\n",
      "Processing Record 9 of set 11 | santa maria\n",
      "City not found....Skipping............\n",
      "Processing Record 10 of set 11 | derzhavinsk\n",
      "Processing Record 11 of set 11 | morehead\n",
      "Processing Record 12 of set 11 | sal rei\n",
      "Processing Record 13 of set 11 | richards bay\n",
      "Processing Record 14 of set 11 | walvis bay\n",
      "Processing Record 15 of set 11 | xiaoweizhai\n",
      "City not found....Skipping............\n",
      "Processing Record 16 of set 11 | clyde river\n",
      "Processing Record 17 of set 11 | nha trang\n",
      "Processing Record 18 of set 11 | buchanan\n",
      "Processing Record 19 of set 11 | lasa\n",
      "Processing Record 20 of set 11 | honiara\n",
      "Processing Record 21 of set 11 | pochutla\n",
      "City not found....Skipping............\n",
      "Processing Record 22 of set 11 | inirida\n",
      "Processing Record 23 of set 11 | myski\n",
      "City not found....Skipping............\n",
      "Processing Record 24 of set 11 | ushtobe\n",
      "Processing Record 25 of set 11 | vasarosnameny\n",
      "Processing Record 26 of set 11 | biskamzha\n",
      "Processing Record 27 of set 11 | isangel\n",
      "Processing Record 28 of set 11 | urengoy\n",
      "Processing Record 29 of set 11 | mbini\n",
      "Processing Record 30 of set 11 | slave lake\n",
      "Processing Record 31 of set 11 | ust-omchug\n",
      "Processing Record 32 of set 11 | taltal\n",
      "Processing Record 33 of set 11 | ugoofaaru\n",
      "Processing Record 34 of set 11 | bull savanna\n",
      "Processing Record 35 of set 11 | chokwe\n",
      "Processing Record 36 of set 11 | lunenburg\n",
      "Processing Record 37 of set 11 | nome\n",
      "Processing Record 38 of set 11 | fare\n",
      "Processing Record 39 of set 11 | torit\n",
      "Processing Record 40 of set 11 | andenes\n",
      "Processing Record 41 of set 11 | machiques\n",
      "Processing Record 42 of set 11 | sylvan lake\n",
      "Processing Record 43 of set 11 | mayumba\n",
      "Processing Record 44 of set 11 | tucupita\n",
      "Processing Record 45 of set 11 | auki\n"
     ]
    },
    {
     "name": "stdout",
     "output_type": "stream",
     "text": [
      "Processing Record 46 of set 11 | divnogorsk\n",
      "Processing Record 47 of set 11 | jiblah\n",
      "Processing Record 48 of set 11 | pringsewu\n",
      "Processing Record 49 of set 11 | lima\n",
      "Processing Record 50 of set 11 | pindiga\n",
      "Processing Record 1 of set 12 | orlik\n",
      "Processing Record 2 of set 12 | namatanai\n",
      "Processing Record 3 of set 12 | lazdijai\n",
      "Processing Record 4 of set 12 | tonantins\n",
      "Processing Record 5 of set 12 | muravlenko\n",
      "Processing Record 6 of set 12 | kemi\n",
      "City not found....Skipping............\n",
      "Processing Record 7 of set 12 | oranjemund\n",
      "Processing Record 8 of set 12 | biak\n",
      "Processing Record 9 of set 12 | shizunai\n",
      "Processing Record 10 of set 12 | havre-saint-pierre\n",
      "Processing Record 11 of set 12 | lipari\n",
      "Processing Record 12 of set 12 | sarvar\n",
      "Processing Record 13 of set 12 | abu samrah\n",
      "Processing Record 14 of set 12 | binga\n",
      "\n",
      "-----------------------------\n",
      "Data Retrieval Complete\n",
      "-----------------------------\n"
     ]
    }
   ],
   "source": [
    "#Set variables needed for analysis\n",
    "city_weather = []\n",
    "cou = []\n",
    "lat = []\n",
    "long = []\n",
    "temp = []\n",
    "humid = []\n",
    "cloud = []\n",
    "wind = []\n",
    "city_num = 1\n",
    "city_set = 1 \n",
    "\n",
    "# Language to show processing\n",
    "print('''\n",
    "-----------------------------\n",
    "Beginning Data Retrieval\n",
    "-----------------------------''')\n",
    "\n",
    "# Pull data to create dataframe\n",
    "for city in cities:\n",
    "    try:\n",
    "        final_url = fill_url(query_url + city)\n",
    "#         print(final_url)\n",
    "        response = requests.get(final_url).json()\n",
    "#         print(response)\n",
    "        city_weather.append(response['name'])\n",
    "        cou.append(response['sys']['country'])\n",
    "        lat.append(response['coord']['lat'])\n",
    "        long.append(response['coord']['lon'])\n",
    "        temp.append(response['main']['temp'])\n",
    "        humid.append(response['main']['humidity'])\n",
    "        cloud.append(response['clouds']['all'])\n",
    "        wind.append(response['wind']['speed'])\n",
    "\n",
    "        print(f\"Processing Record {city_num} of set {city_set} | {city}\")\n",
    "        \n",
    "        # Add one to city count\n",
    "        city_num += 1 \n",
    "    \n",
    "    except (KeyError):\n",
    "        print(\"City not found....Skipping............\")\n",
    "        \n",
    "    #Create sets of 50\n",
    "    if city_num == 51:\n",
    "        city_set += 1\n",
    "        city_num = 1\n",
    "\n",
    "print('''\n",
    "-----------------------------\n",
    "Data Retrieval Complete\n",
    "-----------------------------''')"
   ]
  },
  {
   "cell_type": "markdown",
   "metadata": {},
   "source": [
    "### Convert Raw Data to DataFrame\n",
    "* Export the city data into a .csv.\n",
    "* Display the DataFrame"
   ]
  },
  {
   "cell_type": "code",
   "execution_count": 4,
   "metadata": {},
   "outputs": [
    {
     "data": {
      "text/html": [
       "<div>\n",
       "<style scoped>\n",
       "    .dataframe tbody tr th:only-of-type {\n",
       "        vertical-align: middle;\n",
       "    }\n",
       "\n",
       "    .dataframe tbody tr th {\n",
       "        vertical-align: top;\n",
       "    }\n",
       "\n",
       "    .dataframe thead th {\n",
       "        text-align: right;\n",
       "    }\n",
       "</style>\n",
       "<table border=\"1\" class=\"dataframe\">\n",
       "  <thead>\n",
       "    <tr style=\"text-align: right;\">\n",
       "      <th></th>\n",
       "      <th>City</th>\n",
       "      <th>County</th>\n",
       "      <th>Latitude</th>\n",
       "      <th>Longitude</th>\n",
       "      <th>Temperature</th>\n",
       "      <th>Humidity</th>\n",
       "      <th>Cloudiness</th>\n",
       "      <th>Wind Speed</th>\n",
       "    </tr>\n",
       "  </thead>\n",
       "  <tbody>\n",
       "    <tr>\n",
       "      <th>0</th>\n",
       "      <td>Bluff</td>\n",
       "      <td>NZ</td>\n",
       "      <td>-46.6000</td>\n",
       "      <td>168.3333</td>\n",
       "      <td>12.24</td>\n",
       "      <td>92</td>\n",
       "      <td>100</td>\n",
       "      <td>12.91</td>\n",
       "    </tr>\n",
       "    <tr>\n",
       "      <th>1</th>\n",
       "      <td>Ushuaia</td>\n",
       "      <td>AR</td>\n",
       "      <td>-54.8000</td>\n",
       "      <td>-68.3000</td>\n",
       "      <td>20.00</td>\n",
       "      <td>52</td>\n",
       "      <td>0</td>\n",
       "      <td>3.68</td>\n",
       "    </tr>\n",
       "    <tr>\n",
       "      <th>2</th>\n",
       "      <td>Tumalim</td>\n",
       "      <td>PH</td>\n",
       "      <td>14.0801</td>\n",
       "      <td>120.7231</td>\n",
       "      <td>25.69</td>\n",
       "      <td>89</td>\n",
       "      <td>75</td>\n",
       "      <td>1.54</td>\n",
       "    </tr>\n",
       "    <tr>\n",
       "      <th>3</th>\n",
       "      <td>Rikitea</td>\n",
       "      <td>PF</td>\n",
       "      <td>-23.1203</td>\n",
       "      <td>-134.9692</td>\n",
       "      <td>25.60</td>\n",
       "      <td>75</td>\n",
       "      <td>50</td>\n",
       "      <td>4.06</td>\n",
       "    </tr>\n",
       "    <tr>\n",
       "      <th>4</th>\n",
       "      <td>Lashma</td>\n",
       "      <td>RU</td>\n",
       "      <td>54.9321</td>\n",
       "      <td>41.1438</td>\n",
       "      <td>-13.63</td>\n",
       "      <td>94</td>\n",
       "      <td>100</td>\n",
       "      <td>3.11</td>\n",
       "    </tr>\n",
       "    <tr>\n",
       "      <th>...</th>\n",
       "      <td>...</td>\n",
       "      <td>...</td>\n",
       "      <td>...</td>\n",
       "      <td>...</td>\n",
       "      <td>...</td>\n",
       "      <td>...</td>\n",
       "      <td>...</td>\n",
       "      <td>...</td>\n",
       "    </tr>\n",
       "    <tr>\n",
       "      <th>559</th>\n",
       "      <td>Havre-St-Pierre</td>\n",
       "      <td>CA</td>\n",
       "      <td>50.2334</td>\n",
       "      <td>-63.5986</td>\n",
       "      <td>-17.00</td>\n",
       "      <td>55</td>\n",
       "      <td>1</td>\n",
       "      <td>6.69</td>\n",
       "    </tr>\n",
       "    <tr>\n",
       "      <th>560</th>\n",
       "      <td>Lipari</td>\n",
       "      <td>IT</td>\n",
       "      <td>38.4674</td>\n",
       "      <td>14.9540</td>\n",
       "      <td>20.56</td>\n",
       "      <td>44</td>\n",
       "      <td>66</td>\n",
       "      <td>0.45</td>\n",
       "    </tr>\n",
       "    <tr>\n",
       "      <th>561</th>\n",
       "      <td>Sárvár</td>\n",
       "      <td>HU</td>\n",
       "      <td>47.2539</td>\n",
       "      <td>16.9352</td>\n",
       "      <td>2.21</td>\n",
       "      <td>100</td>\n",
       "      <td>90</td>\n",
       "      <td>2.06</td>\n",
       "    </tr>\n",
       "    <tr>\n",
       "      <th>562</th>\n",
       "      <td>Abu Samrah</td>\n",
       "      <td>SY</td>\n",
       "      <td>35.3029</td>\n",
       "      <td>37.1841</td>\n",
       "      <td>16.13</td>\n",
       "      <td>52</td>\n",
       "      <td>0</td>\n",
       "      <td>6.84</td>\n",
       "    </tr>\n",
       "    <tr>\n",
       "      <th>563</th>\n",
       "      <td>Binga</td>\n",
       "      <td>ZW</td>\n",
       "      <td>-17.6203</td>\n",
       "      <td>27.3414</td>\n",
       "      <td>24.64</td>\n",
       "      <td>75</td>\n",
       "      <td>100</td>\n",
       "      <td>1.60</td>\n",
       "    </tr>\n",
       "  </tbody>\n",
       "</table>\n",
       "<p>564 rows × 8 columns</p>\n",
       "</div>"
      ],
      "text/plain": [
       "                City County  Latitude  Longitude  Temperature  Humidity  \\\n",
       "0              Bluff     NZ  -46.6000   168.3333        12.24        92   \n",
       "1            Ushuaia     AR  -54.8000   -68.3000        20.00        52   \n",
       "2            Tumalim     PH   14.0801   120.7231        25.69        89   \n",
       "3            Rikitea     PF  -23.1203  -134.9692        25.60        75   \n",
       "4             Lashma     RU   54.9321    41.1438       -13.63        94   \n",
       "..               ...    ...       ...        ...          ...       ...   \n",
       "559  Havre-St-Pierre     CA   50.2334   -63.5986       -17.00        55   \n",
       "560           Lipari     IT   38.4674    14.9540        20.56        44   \n",
       "561           Sárvár     HU   47.2539    16.9352         2.21       100   \n",
       "562       Abu Samrah     SY   35.3029    37.1841        16.13        52   \n",
       "563            Binga     ZW  -17.6203    27.3414        24.64        75   \n",
       "\n",
       "     Cloudiness  Wind Speed  \n",
       "0           100       12.91  \n",
       "1             0        3.68  \n",
       "2            75        1.54  \n",
       "3            50        4.06  \n",
       "4           100        3.11  \n",
       "..          ...         ...  \n",
       "559           1        6.69  \n",
       "560          66        0.45  \n",
       "561          90        2.06  \n",
       "562           0        6.84  \n",
       "563         100        1.60  \n",
       "\n",
       "[564 rows x 8 columns]"
      ]
     },
     "execution_count": 4,
     "metadata": {},
     "output_type": "execute_result"
    }
   ],
   "source": [
    "# Create a dictionary to hold all cities\n",
    "weather_dict = {\n",
    "    'City' : city_weather,\n",
    "    'County' : cou, \n",
    "    'Latitude' : lat,\n",
    "    'Longitude' : long,\n",
    "    'Temperature' : temp,\n",
    "    'Humidity' : humid,\n",
    "    'Cloudiness' : cloud, \n",
    "    'Wind Speed': wind\n",
    "}\n",
    "\n",
    "# Convert to DataFrame\n",
    "weather_data = pd.DataFrame(weather_dict)\n",
    "\n",
    "#Export to CSV\n",
    "weather_data.to_csv(\"Outputs/Weather_Data\", index=False, header=True)\n",
    "\n",
    "weather_data"
   ]
  },
  {
   "cell_type": "code",
   "execution_count": 5,
   "metadata": {},
   "outputs": [
    {
     "data": {
      "text/html": [
       "<div>\n",
       "<style scoped>\n",
       "    .dataframe tbody tr th:only-of-type {\n",
       "        vertical-align: middle;\n",
       "    }\n",
       "\n",
       "    .dataframe tbody tr th {\n",
       "        vertical-align: top;\n",
       "    }\n",
       "\n",
       "    .dataframe thead th {\n",
       "        text-align: right;\n",
       "    }\n",
       "</style>\n",
       "<table border=\"1\" class=\"dataframe\">\n",
       "  <thead>\n",
       "    <tr style=\"text-align: right;\">\n",
       "      <th></th>\n",
       "      <th>Latitude</th>\n",
       "      <th>Longitude</th>\n",
       "      <th>Temperature</th>\n",
       "      <th>Humidity</th>\n",
       "      <th>Cloudiness</th>\n",
       "      <th>Wind Speed</th>\n",
       "    </tr>\n",
       "  </thead>\n",
       "  <tbody>\n",
       "    <tr>\n",
       "      <th>count</th>\n",
       "      <td>564.000000</td>\n",
       "      <td>564.000000</td>\n",
       "      <td>564.000000</td>\n",
       "      <td>564.000000</td>\n",
       "      <td>564.000000</td>\n",
       "      <td>564.000000</td>\n",
       "    </tr>\n",
       "    <tr>\n",
       "      <th>mean</th>\n",
       "      <td>20.192792</td>\n",
       "      <td>18.244390</td>\n",
       "      <td>10.026082</td>\n",
       "      <td>71.140071</td>\n",
       "      <td>51.102837</td>\n",
       "      <td>3.646330</td>\n",
       "    </tr>\n",
       "    <tr>\n",
       "      <th>std</th>\n",
       "      <td>33.453837</td>\n",
       "      <td>91.736326</td>\n",
       "      <td>18.965972</td>\n",
       "      <td>20.346987</td>\n",
       "      <td>39.210821</td>\n",
       "      <td>2.528504</td>\n",
       "    </tr>\n",
       "    <tr>\n",
       "      <th>min</th>\n",
       "      <td>-54.800000</td>\n",
       "      <td>-175.200000</td>\n",
       "      <td>-42.000000</td>\n",
       "      <td>4.000000</td>\n",
       "      <td>0.000000</td>\n",
       "      <td>0.190000</td>\n",
       "    </tr>\n",
       "    <tr>\n",
       "      <th>25%</th>\n",
       "      <td>-7.258875</td>\n",
       "      <td>-61.643600</td>\n",
       "      <td>-4.167500</td>\n",
       "      <td>62.000000</td>\n",
       "      <td>6.000000</td>\n",
       "      <td>1.790000</td>\n",
       "    </tr>\n",
       "    <tr>\n",
       "      <th>50%</th>\n",
       "      <td>23.647550</td>\n",
       "      <td>20.887250</td>\n",
       "      <td>16.770000</td>\n",
       "      <td>74.000000</td>\n",
       "      <td>54.000000</td>\n",
       "      <td>3.090000</td>\n",
       "    </tr>\n",
       "    <tr>\n",
       "      <th>75%</th>\n",
       "      <td>48.306575</td>\n",
       "      <td>99.952600</td>\n",
       "      <td>25.690000</td>\n",
       "      <td>87.000000</td>\n",
       "      <td>90.000000</td>\n",
       "      <td>4.822500</td>\n",
       "    </tr>\n",
       "    <tr>\n",
       "      <th>max</th>\n",
       "      <td>78.218600</td>\n",
       "      <td>178.416700</td>\n",
       "      <td>40.990000</td>\n",
       "      <td>100.000000</td>\n",
       "      <td>100.000000</td>\n",
       "      <td>15.380000</td>\n",
       "    </tr>\n",
       "  </tbody>\n",
       "</table>\n",
       "</div>"
      ],
      "text/plain": [
       "         Latitude   Longitude  Temperature    Humidity  Cloudiness  Wind Speed\n",
       "count  564.000000  564.000000   564.000000  564.000000  564.000000  564.000000\n",
       "mean    20.192792   18.244390    10.026082   71.140071   51.102837    3.646330\n",
       "std     33.453837   91.736326    18.965972   20.346987   39.210821    2.528504\n",
       "min    -54.800000 -175.200000   -42.000000    4.000000    0.000000    0.190000\n",
       "25%     -7.258875  -61.643600    -4.167500   62.000000    6.000000    1.790000\n",
       "50%     23.647550   20.887250    16.770000   74.000000   54.000000    3.090000\n",
       "75%     48.306575   99.952600    25.690000   87.000000   90.000000    4.822500\n",
       "max     78.218600  178.416700    40.990000  100.000000  100.000000   15.380000"
      ]
     },
     "execution_count": 5,
     "metadata": {},
     "output_type": "execute_result"
    }
   ],
   "source": [
    "#Statistical summary\n",
    "weather_data.describe()"
   ]
  },
  {
   "cell_type": "markdown",
   "metadata": {},
   "source": [
    "## Plotting the Data\n",
    "* Use proper labeling of the plots using plot titles (including date of analysis) and axes labels.\n",
    "* Save the plotted figures as .pngs."
   ]
  },
  {
   "cell_type": "markdown",
   "metadata": {},
   "source": [
    "### Latitude vs. Temperature Plot"
   ]
  },
  {
   "cell_type": "code",
   "execution_count": 6,
   "metadata": {
    "scrolled": true
   },
   "outputs": [
    {
     "data": {
      "image/png": "[encoded data removed]",
      "text/plain": [
       "<Figure size 432x288 with 1 Axes>"
      ]
     },
     "metadata": {
      "needs_background": "light"
     },
     "output_type": "display_data"
    }
   ],
   "source": [
    "#Define variables\n",
    "lat = weather_data['Latitude']\n",
    "temp = weather_data['Temperature']\n",
    "\n",
    "#Plot\n",
    "plt.scatter(lat, temp, color='green')\n",
    "\n",
    "#Lable\n",
    "plt.xlabel('Latitude')\n",
    "plt.ylabel('Temperature (C)')\n",
    "plt.title('Latitude vs. Temperature')\n",
    "plt.grid('true')\n",
    "\n",
    "#Save file as png\n",
    "plt.savefig(\"Outputs/Latitude vs. Temperature.png\")"
   ]
  },
  {
   "cell_type": "markdown",
   "metadata": {},
   "source": [
    "The plot above shows how the temperature changes across the globe. Since we know the equator to be zero we can see that the highest temperatures are closest to zero and the temperature decreases as you move away from the equator, latitude 0."
   ]
  },
  {
   "cell_type": "markdown",
   "metadata": {},
   "source": [
    "### Latitude vs. Humidity Plot"
   ]
  },
  {
   "cell_type": "code",
   "execution_count": 7,
   "metadata": {},
   "outputs": [
    {
     "data": {
      "image/png": "[encoded data removed]",
      "text/plain": [
       "<Figure size 432x288 with 1 Axes>"
      ]
     },
     "metadata": {
      "needs_background": "light"
     },
     "output_type": "display_data"
    }
   ],
   "source": [
    "#Define new variables\n",
    "humid = weather_data['Humidity']\n",
    "\n",
    "#Plot\n",
    "plt.scatter(lat, humid, color='orange')\n",
    "\n",
    "#Label\n",
    "plt.xlabel('Latitude')\n",
    "plt.ylabel('Humidity (%)')\n",
    "plt.title('Latitude vs. Humidity')\n",
    "plt.grid('true')\n",
    "\n",
    "#Save file as png\n",
    "plt.savefig(\"Outputs/Latitude vs. Humidity.png\")"
   ]
  },
  {
   "cell_type": "markdown",
   "metadata": {},
   "source": [
    "The plot above shows humidity levels across the globe. There does not seem to be a correlation between humidity and location."
   ]
  },
  {
   "cell_type": "markdown",
   "metadata": {},
   "source": [
    "### Latitude vs. Cloudiness Plot"
   ]
  },
  {
   "cell_type": "code",
   "execution_count": 8,
   "metadata": {},
   "outputs": [
    {
     "data": {
      "image/png": "[encoded data removed]",
      "text/plain": [
       "<Figure size 432x288 with 1 Axes>"
      ]
     },
     "metadata": {
      "needs_background": "light"
     },
     "output_type": "display_data"
    }
   ],
   "source": [
    "#Define new variables \n",
    "cloud = weather_data['Cloudiness']\n",
    "\n",
    "#Plot\n",
    "plt.scatter(lat, cloud, color='purple')\n",
    "\n",
    "#Label\n",
    "plt.xlabel('Latitude')\n",
    "plt.ylabel('Cloudiness (%)')\n",
    "plt.title('Latitude vs. Cloudiness')\n",
    "plt.grid('true')\n",
    "\n",
    "\n",
    "#Save file as png\n",
    "plt.savefig(\"Outputs/Latitude vs. Cloudiness.png\")"
   ]
  },
  {
   "cell_type": "markdown",
   "metadata": {},
   "source": [
    "The plot above shows percent cloudiness across the globe. There appears to be some consistency between some temperatures and cloudiness but more statistical tests are needed to established correlation."
   ]
  },
  {
   "cell_type": "markdown",
   "metadata": {},
   "source": [
    "### Latitude vs. Wind Speed Plot"
   ]
  },
  {
   "cell_type": "code",
   "execution_count": 19,
   "metadata": {},
   "outputs": [
    {
     "data": {
      "image/png": "[encoded data removed]",
      "text/plain": [
       "<Figure size 432x288 with 1 Axes>"
      ]
     },
     "metadata": {
      "needs_background": "light"
     },
     "output_type": "display_data"
    }
   ],
   "source": [
    "#Add new variables \n",
    "wind = weather_data['Wind Speed']\n",
    "\n",
    "#Plot\n",
    "plt.scatter(lat, wind, color='skyblue')\n",
    "\n",
    "#Label\n",
    "plt.xlabel('Latitude')\n",
    "plt.ylabel('Wind Speed (mph)')\n",
    "plt.title('Latitude vs. Wind Speed')\n",
    "plt.grid('true')\n",
    "\n",
    "#Save file as png\n",
    "plt.savefig(\"Outputs/Latitude vs. Wind Speed.png\")"
   ]
  },
  {
   "cell_type": "markdown",
   "metadata": {},
   "source": [
    "The plot above shows the windspeed across the globe. In general, there seems to be few instances of extremely high wind speed as most speeds are clustered around the bottom of the plot."
   ]
  },
  {
   "cell_type": "markdown",
   "metadata": {},
   "source": [
    "## Linear Regression"
   ]
  },
  {
   "cell_type": "code",
   "execution_count": 10,
   "metadata": {},
   "outputs": [],
   "source": [
    "#Establish north and south hemisphere dataframes\n",
    "\n",
    "north = weather_data.loc[weather_data['Latitude'] >= 0]\n",
    "north.head()\n",
    "# print(len(north))\n",
    "south = weather_data.loc[weather_data['Latitude'] < 0]\n",
    "# print(len(south))"
   ]
  },
  {
   "cell_type": "markdown",
   "metadata": {},
   "source": [
    "### Temperature vs. Latitude Linear Regression"
   ]
  },
  {
   "cell_type": "markdown",
   "metadata": {},
   "source": [
    "####  Northern Hemisphere - Temperature vs. Latitude Linear Regression"
   ]
  },
  {
   "cell_type": "code",
   "execution_count": 11,
   "metadata": {},
   "outputs": [
    {
     "name": "stdout",
     "output_type": "stream",
     "text": [
      "The r-value is: 0.7810206432459412\n"
     ]
    },
    {
     "data": {
      "image/png": "[encoded data removed]",
      "text/plain": [
       "<Figure size 432x288 with 1 Axes>"
      ]
     },
     "metadata": {
      "needs_background": "light"
     },
     "output_type": "display_data"
    }
   ],
   "source": [
    "from scipy import stats\n",
    "\n",
    "#Add associated y_axis\n",
    "north_lat = north['Latitude']\n",
    "north_temp = north['Temperature']\n",
    "\n",
    "# Linear regression\n",
    "# Perform a linear regression on temperature vs. latitude\n",
    "(slope, intercept, rvalue, pvalue, stderr) = stats.linregress(north_lat, north_temp)\n",
    "\n",
    "# Get regression values\n",
    "regress_values = north_lat * slope + intercept\n",
    "\n",
    "#Create line equation for graph\n",
    "lneq = \"y = \" + str(round(slope,2)) + \"x + \" + str(round(intercept,2))\n",
    "\n",
    "#Plot\n",
    "plt.scatter(north_lat, north_temp)\n",
    "plt.plot(north_lat,regress_values,\"r-\")\n",
    "\n",
    "#Label\n",
    "plt.xlabel('Latitude')\n",
    "plt.ylabel('Temperature (C)')\n",
    "plt.title('Northern Hemisphere: Temperature vs. Latitude')\n",
    "plt.annotate(lneq,(40,30),fontsize=15,color=\"red\")\n",
    "print(f\"The r-value is: {rvalue**2}\")"
   ]
  },
  {
   "cell_type": "markdown",
   "metadata": {},
   "source": [
    "####  Southern Hemisphere - Temperature vs. Latitude Linear Regression"
   ]
  },
  {
   "cell_type": "code",
   "execution_count": 12,
   "metadata": {},
   "outputs": [
    {
     "name": "stdout",
     "output_type": "stream",
     "text": [
      "The r-value is: 0.3254506514883708\n"
     ]
    },
    {
     "data": {
      "image/png": "[encoded data removed]",
      "text/plain": [
       "<Figure size 432x288 with 1 Axes>"
      ]
     },
     "metadata": {
      "needs_background": "light"
     },
     "output_type": "display_data"
    }
   ],
   "source": [
    "#Add associated y_axis\n",
    "south_lat = south['Latitude']\n",
    "south_temp = south['Temperature']\n",
    "\n",
    "# Linear regression\n",
    "# Perform a linear regression on temperature vs. latitude\n",
    "(slope, intercept, rvalue, pvalue, stderr) = stats.linregress(south_lat, south_temp)\n",
    "\n",
    "# Get regression values\n",
    "regress_values = south_lat * slope + intercept\n",
    "\n",
    "#Create line equation for graph\n",
    "lneq = \"y = \" + str(round(slope,2)) + \"x + \" + str(round(intercept,2))\n",
    "\n",
    "#Plot\n",
    "plt.scatter(south_lat, south_temp)\n",
    "plt.plot(south_lat,regress_values,\"r-\")\n",
    "\n",
    "#Label\n",
    "plt.xlabel('Latitude')\n",
    "plt.ylabel('Temperature (C)')\n",
    "plt.title('Southern Hemisphere: Temperature vs. Latitude')\n",
    "plt.annotate(lneq,(-30, 10),fontsize=15,color=\"red\")\n",
    "print(f\"The r-value is: {rvalue**2}\")"
   ]
  },
  {
   "cell_type": "markdown",
   "metadata": {},
   "source": [
    "When looking at temperature vs latitude in the Northern and Southern Hemispheres it is clear that the closer to the equator the higher the temperature. This is shown in the Northern Hemisphere as the temperature decreases as latitude moves further away from 0. This is shown in the Southern Hemisphere as the temperature increases as latitude moves closer to 0. "
   ]
  },
  {
   "cell_type": "markdown",
   "metadata": {},
   "source": [
    "## Humidity (%) vs. Latitude Linear Regression"
   ]
  },
  {
   "cell_type": "markdown",
   "metadata": {},
   "source": [
    "####  Northern Hemisphere - Humidity (%) vs. Latitude Linear Regression"
   ]
  },
  {
   "cell_type": "code",
   "execution_count": 23,
   "metadata": {},
   "outputs": [
    {
     "name": "stdout",
     "output_type": "stream",
     "text": [
      "The r-value is: 0.1303930291538063\n"
     ]
    },
    {
     "data": {
      "image/png": "[encoded data removed]",
      "text/plain": [
       "<Figure size 432x288 with 1 Axes>"
      ]
     },
     "metadata": {
      "needs_background": "light"
     },
     "output_type": "display_data"
    }
   ],
   "source": [
    "#Add associated y_axis\n",
    "north_hum = north['Humidity']\n",
    "\n",
    "# Linear regression\n",
    "# Perform a linear regression on temperature vs. latitude\n",
    "(slope, intercept, rvalue, pvalue, stderr) = stats.linregress(north_lat, north_hum)\n",
    "\n",
    "# Get regression values\n",
    "regress_values = north_lat * slope + intercept\n",
    "\n",
    "#Create line equation for graph\n",
    "lneq = \"y = \" + str(round(slope,2)) + \"x + \" + str(round(intercept,2))\n",
    "\n",
    "#Plot\n",
    "plt.scatter(north_lat, north_hum)\n",
    "plt.plot(north_lat,regress_values,\"r-\")\n",
    "\n",
    "#Label\n",
    "plt.xlabel('Latitude')\n",
    "plt.ylabel('Humidity (%)')\n",
    "plt.title('Northern Hemisphere: Humidity vs. Latitude')\n",
    "plt.annotate(lneq,(45,10),fontsize=15,color=\"red\")\n",
    "print(f\"The r-value is: {rvalue**2}\")"
   ]
  },
  {
   "cell_type": "markdown",
   "metadata": {},
   "source": [
    "####  Southern Hemisphere - Humidity (%) vs. Latitude Linear Regression"
   ]
  },
  {
   "cell_type": "code",
   "execution_count": 14,
   "metadata": {},
   "outputs": [
    {
     "name": "stdout",
     "output_type": "stream",
     "text": [
      "The r-value is: 0.059188350222431504\n"
     ]
    },
    {
     "data": {
      "image/png": "[encoded data removed]",
      "text/plain": [
       "<Figure size 432x288 with 1 Axes>"
      ]
     },
     "metadata": {
      "needs_background": "light"
     },
     "output_type": "display_data"
    }
   ],
   "source": [
    "#Add associated y_axis\n",
    "south_hum = south['Humidity']\n",
    "\n",
    "# Linear regression\n",
    "# Perform a linear regression on temperature vs. latitude\n",
    "(slope, intercept, rvalue, pvalue, stderr) = stats.linregress(south_lat, south_hum)\n",
    "\n",
    "# Get regression values\n",
    "regress_values = south_lat * slope + intercept\n",
    "\n",
    "#Create line equation for graph\n",
    "lneq = \"y = \" + str(round(slope,2)) + \"x + \" + str(round(intercept,2))\n",
    "\n",
    "#Plot\n",
    "plt.scatter(south_lat, south_hum)\n",
    "plt.plot(south_lat,regress_values,\"r-\")\n",
    "\n",
    "#Label\n",
    "plt.xlabel('Latitude')\n",
    "plt.ylabel('Humidity (%)')\n",
    "plt.title('Southern Hemisphere: Humidity vs. Latitude')\n",
    "plt.annotate(lneq,(-25, 17),fontsize=15,color=\"red\")\n",
    "print(f\"The r-value is: {rvalue**2}\")"
   ]
  },
  {
   "cell_type": "markdown",
   "metadata": {},
   "source": [
    "When looking at latitude and humidity there is very little correlation as noted by the low r values. However, it is interesting to note that most humidity across the world lingers, on average, above 50%. "
   ]
  },
  {
   "cell_type": "markdown",
   "metadata": {},
   "source": [
    "## Cloudiness (%) vs. Latitude Linear Regression"
   ]
  },
  {
   "cell_type": "markdown",
   "metadata": {},
   "source": [
    "####  Northern Hemisphere - Cloudiness (%) vs. Latitude Linear Regression"
   ]
  },
  {
   "cell_type": "code",
   "execution_count": 20,
   "metadata": {},
   "outputs": [
    {
     "name": "stdout",
     "output_type": "stream",
     "text": [
      "The r-value is: 0.00732583992105408\n"
     ]
    },
    {
     "data": {
      "image/png": "[encoded data removed]",
      "text/plain": [
       "<Figure size 432x288 with 1 Axes>"
      ]
     },
     "metadata": {
      "needs_background": "light"
     },
     "output_type": "display_data"
    }
   ],
   "source": [
    "#Add associated y_axis\n",
    "north_cloud = north['Cloudiness']\n",
    "\n",
    "# Linear regression\n",
    "# Perform a linear regression on temperature vs. latitude\n",
    "(slope, intercept, rvalue, pvalue, stderr) = stats.linregress(north_lat, north_cloud)\n",
    "\n",
    "# Get regression values\n",
    "regress_values = north_lat * slope + intercept\n",
    "\n",
    "#Create line equation for graph\n",
    "lneq = \"y = \" + str(round(slope,2)) + \"x + \" + str(round(intercept,2))\n",
    "\n",
    "#Plot\n",
    "plt.scatter(north_lat, north_cloud)\n",
    "plt.plot(north_lat,regress_values,\"r-\")\n",
    "\n",
    "#Label\n",
    "plt.xlabel('Latitude')\n",
    "plt.ylabel('Cloudiness (%)')\n",
    "plt.title('Northern Hemisphere: Cloudiness vs. Latitude')\n",
    "plt.annotate(lneq,(15,60),fontsize=15,color=\"red\")\n",
    "print(f\"The r-value is: {rvalue**2}\")"
   ]
  },
  {
   "cell_type": "markdown",
   "metadata": {},
   "source": [
    "####  Southern Hemisphere - Cloudiness (%) vs. Latitude Linear Regression"
   ]
  },
  {
   "cell_type": "code",
   "execution_count": 16,
   "metadata": {},
   "outputs": [
    {
     "name": "stdout",
     "output_type": "stream",
     "text": [
      "The r-value is: 0.13756861576929696\n"
     ]
    },
    {
     "data": {
      "image/png": "[encoded data removed]",
      "text/plain": [
       "<Figure size 432x288 with 1 Axes>"
      ]
     },
     "metadata": {
      "needs_background": "light"
     },
     "output_type": "display_data"
    }
   ],
   "source": [
    "#Add associated y_axis\n",
    "south_cloud = south['Cloudiness']\n",
    "\n",
    "# Linear regression\n",
    "# Perform a linear regression on temperature vs. latitude\n",
    "(slope, intercept, rvalue, pvalue, stderr) = stats.linregress(south_lat, south_cloud)\n",
    "\n",
    "# Get regression values\n",
    "regress_values = south_lat * slope + intercept\n",
    "\n",
    "#Create line equation for graph\n",
    "lneq = \"y = \" + str(round(slope,2)) + \"x + \" + str(round(intercept,2))\n",
    "\n",
    "#Plot\n",
    "plt.scatter(south_lat, south_cloud)\n",
    "plt.plot(south_lat,regress_values,\"r-\")\n",
    "\n",
    "#Label\n",
    "plt.xlabel('Latitude')\n",
    "plt.ylabel('Cloudiness (%)')\n",
    "plt.title('Southern Hemisphere: Cloudiness vs. Latitude')\n",
    "plt.annotate(lneq,(-55, 55),fontsize=15,color=\"red\")\n",
    "print(f\"The r-value is: {rvalue**2}\")"
   ]
  },
  {
   "cell_type": "markdown",
   "metadata": {},
   "source": [
    "Cloudiness and latitude also have little correlation as noted by the small r value and by the generally even distribution of data points on the plots above."
   ]
  },
  {
   "cell_type": "markdown",
   "metadata": {},
   "source": [
    "## Wind Speed vs Latitude Linear Regression"
   ]
  },
  {
   "cell_type": "markdown",
   "metadata": {},
   "source": [
    "####  Northern Hemisphere - Wind Speed vs. Latitude Linear Regression"
   ]
  },
  {
   "cell_type": "code",
   "execution_count": 17,
   "metadata": {},
   "outputs": [
    {
     "name": "stdout",
     "output_type": "stream",
     "text": [
      "The r-value is: 0.010054125731503757\n"
     ]
    },
    {
     "data": {
      "image/png": "[encoded data removed]",
      "text/plain": [
       "<Figure size 432x288 with 1 Axes>"
      ]
     },
     "metadata": {
      "needs_background": "light"
     },
     "output_type": "display_data"
    }
   ],
   "source": [
    "#Add associated y_axis\n",
    "north_wind = north['Wind Speed']\n",
    "\n",
    "# Linear regression\n",
    "# Perform a linear regression on temperature vs. latitude\n",
    "(slope, intercept, rvalue, pvalue, stderr) = stats.linregress(north_lat, north_wind)\n",
    "\n",
    "# Get regression values\n",
    "regress_values = north_lat * slope + intercept\n",
    "\n",
    "#Create line equation for graph\n",
    "lneq = \"y = \" + str(round(slope,2)) + \"x + \" + str(round(intercept,2))\n",
    "\n",
    "#Plot\n",
    "plt.scatter(north_lat, north_wind)\n",
    "plt.plot(north_lat,regress_values,\"r-\")\n",
    "\n",
    "#Label\n",
    "plt.xlabel('Latitude')\n",
    "plt.ylabel('Wind Speed (mph)')\n",
    "plt.title('Northern Hemisphere: Wind Speed vs. Latitude')\n",
    "plt.annotate(lneq,(45,13),fontsize=15,color=\"red\")\n",
    "print(f\"The r-value is: {rvalue**2}\")"
   ]
  },
  {
   "cell_type": "markdown",
   "metadata": {},
   "source": [
    "####  Southern Hemisphere - Wind Speed (mph) vs. Latitude Linear Regression"
   ]
  },
  {
   "cell_type": "code",
   "execution_count": 18,
   "metadata": {},
   "outputs": [
    {
     "name": "stdout",
     "output_type": "stream",
     "text": [
      "The r-value is: 0.02593922126431013\n"
     ]
    },
    {
     "data": {
      "image/png": "[encoded data removed]",
      "text/plain": [
       "<Figure size 432x288 with 1 Axes>"
      ]
     },
     "metadata": {
      "needs_background": "light"
     },
     "output_type": "display_data"
    }
   ],
   "source": [
    "#Add associated y_axis\n",
    "south_wind = south['Wind Speed']\n",
    "\n",
    "# Linear regression\n",
    "# Perform a linear regression on temperature vs. latitude\n",
    "(slope, intercept, rvalue, pvalue, stderr) = stats.linregress(south_lat, south_wind)\n",
    "\n",
    "# Get regression values\n",
    "regress_values = south_lat * slope + intercept\n",
    "\n",
    "#Create line equation for graph\n",
    "lneq = \"y = \" + str(round(slope,2)) + \"x + \" + str(round(intercept,2))\n",
    "\n",
    "#Plot\n",
    "plt.scatter(south_lat, south_wind)\n",
    "plt.plot(south_lat,regress_values,\"r-\")\n",
    "\n",
    "#Label\n",
    "plt.xlabel('Latitude')\n",
    "plt.ylabel('Wind Speed (mph)')\n",
    "plt.title('Southern Hemisphere: Wind Speed vs. Latitude')\n",
    "plt.annotate(lneq,(-23, 11.5),fontsize=15,color=\"red\")\n",
    "print(f\"The r-value is: {rvalue**2}\")"
   ]
  },
  {
   "cell_type": "markdown",
   "metadata": {},
   "source": [
    "Wind speed and latitude had the smallest r value meaning they have the lowest correlation. However, it is interesting to note most wind speeds across the globe do not exceed 10 miles per hour. "
   ]
  }
 ],
 "metadata": {
  "anaconda-cloud": {},
  "kernel_info": {
   "name": "python3"
  },
  "kernelspec": {
   "display_name": "Python 3",
   "language": "python",
   "name": "python3"
  },
  "language_info": {
   "codemirror_mode": {
    "name": "ipython",
    "version": 3
   },
   "file_extension": ".py",
   "mimetype": "text/x-python",
   "name": "python",
   "nbconvert_exporter": "python",
   "pygments_lexer": "ipython3",
   "version": "3.8.5"
  },
  "latex_envs": {
   "LaTeX_envs_menu_present": true,
   "autoclose": false,
   "autocomplete": true,
   "bibliofile": "biblio.bib",
   "cite_by": "apalike",
   "current_citInitial": 1,
   "eqLabelWithNumbers": true,
   "eqNumInitial": 1,
   "hotkeys": {
    "equation": "Ctrl-E",
    "itemize": "Ctrl-I"
   },
   "labels_anchors": false,
   "latex_user_defs": false,
   "report_style_numbering": false,
   "user_envs_cfg": false
  },
  "nteract": {
   "version": "0.12.3"
  }
 },
 "nbformat": 4,
 "nbformat_minor": 2
}
