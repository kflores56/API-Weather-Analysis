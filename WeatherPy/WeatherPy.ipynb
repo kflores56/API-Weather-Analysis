{
 "cells": [
  {
   "cell_type": "markdown",
   "metadata": {},
   "source": [
    "# WeatherPy"
   ]
  },
  {
   "cell_type": "code",
   "execution_count": 2,
   "metadata": {
    "scrolled": true
   },
   "outputs": [],
   "source": [
    "# Dependencies and Setup\n",
    "import matplotlib.pyplot as plt\n",
    "import pandas as pd\n",
    "import numpy as np\n",
    "import requests\n",
    "from requests.utils import requote_uri\n",
    "import time\n",
    "from scipy.stats import linregress\n",
    "\n",
    "# Import API key\n",
    "from api_keys import weather_api_key\n",
    "\n",
    "# Incorporated citipy to determine city based on latitude and longitude\n",
    "from citipy import citipy\n",
    "\n",
    "# Output File (CSV)\n",
    "output_data_file = \"output_data/cities.csv\"\n",
    "\n",
    "# Range of latitudes and longitudes\n",
    "lat_range = (-90, 90)\n",
    "lng_range = (-180, 180)\n",
    "\n",
    "# Save config information.\n",
    "url = \"http://api.openweathermap.org/data/2.5/weather?\"\n",
    "units = \"metric\"\n",
    "\n",
    "# Build partial query URL\n",
    "fill_url = requests.utils.requote_uri\n",
    "query_url = f\"{url}appid={weather_api_key}&units={units}&q=\""
   ]
  },
  {
   "cell_type": "markdown",
   "metadata": {},
   "source": [
    "## Generate Cities List"
   ]
  },
  {
   "cell_type": "code",
   "execution_count": 3,
   "metadata": {},
   "outputs": [
    {
     "name": "stdout",
     "output_type": "stream",
     "text": [
      "\n",
      "Total number of cities: 606\n"
     ]
    }
   ],
   "source": [
    "# List for holding lat_lngs and cities\n",
    "lat_lngs = []\n",
    "cities = []\n",
    "\n",
    "# Create a set of random lat and lng combinations\n",
    "lats = np.random.uniform(lat_range[0], lat_range[1], size=1500)\n",
    "lngs = np.random.uniform(lng_range[0], lng_range[1], size=1500)\n",
    "lat_lngs = zip(lats, lngs)\n",
    "\n",
    "# Identify nearest city for each lat, lng combination\n",
    "for lat_lng in lat_lngs:\n",
    "    city = citipy.nearest_city(lat_lng[0], lat_lng[1]).city_name\n",
    "    \n",
    "    # If the city is unique, then add it to a our cities list\n",
    "    if city not in cities:\n",
    "        cities.append(city)\n",
    "\n",
    "# Print the city count to confirm sufficient count\n",
    "total_cities = len(cities)\n",
    "print()\n",
    "print(f\"Total number of cities: {total_cities}\")"
   ]
  },
  {
   "cell_type": "markdown",
   "metadata": {},
   "source": [
    "### Perform API Calls\n",
    "* Perform a weather check on each city using a series of successive API calls.\n",
    "* Include a print log of each city as it'sbeing processed (with the city number and city name).\n"
   ]
  },
  {
   "cell_type": "code",
   "execution_count": 4,
   "metadata": {
    "scrolled": true
   },
   "outputs": [
    {
     "name": "stdout",
     "output_type": "stream",
     "text": [
      "\n",
      "-----------------------------\n",
      "Beginning Data Retrieval\n",
      "-----------------------------\n",
      "Processing Record 1 of set 1 | sao joao da barra\n",
      "Processing Record 2 of set 1 | coihaique\n",
      "Processing Record 3 of set 1 | saint-philippe\n",
      "Processing Record 4 of set 1 | arraial do cabo\n",
      "Processing Record 5 of set 1 | dikson\n",
      "Processing Record 6 of set 1 | thompson\n",
      "Processing Record 7 of set 1 | puerto ayora\n",
      "City not found....Skipping............\n",
      "Processing Record 8 of set 1 | abha\n",
      "Processing Record 9 of set 1 | new norfolk\n",
      "Processing Record 10 of set 1 | butaritari\n",
      "Processing Record 11 of set 1 | sola\n",
      "Processing Record 12 of set 1 | manono\n",
      "Processing Record 13 of set 1 | ancud\n",
      "Processing Record 14 of set 1 | pevek\n",
      "Processing Record 15 of set 1 | axim\n",
      "Processing Record 16 of set 1 | provideniya\n",
      "Processing Record 17 of set 1 | thinadhoo\n",
      "Processing Record 18 of set 1 | ushuaia\n",
      "Processing Record 19 of set 1 | suntar\n",
      "Processing Record 20 of set 1 | igrim\n",
      "Processing Record 21 of set 1 | te anau\n",
      "Processing Record 22 of set 1 | parrita\n",
      "Processing Record 23 of set 1 | khatanga\n",
      "Processing Record 24 of set 1 | ribas do rio pardo\n",
      "Processing Record 25 of set 1 | salalah\n",
      "Processing Record 26 of set 1 | cabo san lucas\n",
      "Processing Record 27 of set 1 | mataura\n",
      "Processing Record 28 of set 1 | tasiilaq\n",
      "Processing Record 29 of set 1 | hithadhoo\n",
      "City not found....Skipping............\n",
      "Processing Record 30 of set 1 | hay river\n",
      "Processing Record 31 of set 1 | albany\n",
      "Processing Record 32 of set 1 | road town\n",
      "City not found....Skipping............\n",
      "Processing Record 33 of set 1 | rikitea\n",
      "Processing Record 34 of set 1 | punta arenas\n",
      "Processing Record 35 of set 1 | manaus\n",
      "Processing Record 36 of set 1 | colares\n",
      "Processing Record 37 of set 1 | nagato\n",
      "Processing Record 38 of set 1 | pisco\n",
      "Processing Record 39 of set 1 | ous\n",
      "Processing Record 40 of set 1 | perth\n",
      "Processing Record 41 of set 1 | severo-kurilsk\n",
      "Processing Record 42 of set 1 | brighton\n",
      "Processing Record 43 of set 1 | nizhniy kuranakh\n",
      "Processing Record 44 of set 1 | busselton\n",
      "Processing Record 45 of set 1 | hobart\n",
      "Processing Record 46 of set 1 | jamestown\n",
      "Processing Record 47 of set 1 | jiangyou\n",
      "Processing Record 48 of set 1 | iskateley\n",
      "Processing Record 49 of set 1 | saint george\n",
      "Processing Record 50 of set 1 | katsuura\n",
      "Processing Record 1 of set 2 | bredasdorp\n",
      "City not found....Skipping............\n",
      "Processing Record 2 of set 2 | port-cartier\n",
      "Processing Record 3 of set 2 | avarua\n",
      "City not found....Skipping............\n",
      "Processing Record 4 of set 2 | west bay\n",
      "City not found....Skipping............\n",
      "Processing Record 5 of set 2 | kapaa\n",
      "Processing Record 6 of set 2 | chicama\n",
      "City not found....Skipping............\n",
      "Processing Record 7 of set 2 | port hardy\n",
      "Processing Record 8 of set 2 | east london\n",
      "Processing Record 9 of set 2 | nemuro\n",
      "Processing Record 10 of set 2 | fortuna\n",
      "Processing Record 11 of set 2 | port alfred\n",
      "Processing Record 12 of set 2 | muli\n",
      "City not found....Skipping............\n",
      "Processing Record 13 of set 2 | metu\n",
      "Processing Record 14 of set 2 | coahuayana\n",
      "City not found....Skipping............\n",
      "Processing Record 15 of set 2 | kavaratti\n",
      "Processing Record 16 of set 2 | vaini\n",
      "Processing Record 17 of set 2 | havre-saint-pierre\n",
      "Processing Record 18 of set 2 | coquimbo\n",
      "Processing Record 19 of set 2 | bluff\n",
      "Processing Record 20 of set 2 | livramento\n",
      "Processing Record 21 of set 2 | carnarvon\n",
      "Processing Record 22 of set 2 | alta\n",
      "Processing Record 23 of set 2 | bengkulu\n",
      "Processing Record 24 of set 2 | marana\n",
      "Processing Record 25 of set 2 | atuona\n",
      "Processing Record 26 of set 2 | castro\n",
      "Processing Record 27 of set 2 | nishihara\n",
      "Processing Record 28 of set 2 | cape town\n",
      "Processing Record 29 of set 2 | vila velha\n",
      "Processing Record 30 of set 2 | kirs\n",
      "Processing Record 31 of set 2 | katherine\n",
      "Processing Record 32 of set 2 | mahebourg\n",
      "Processing Record 33 of set 2 | hilo\n",
      "Processing Record 34 of set 2 | georgetown\n",
      "Processing Record 35 of set 2 | avera\n",
      "City not found....Skipping............\n",
      "Processing Record 36 of set 2 | iqaluit\n",
      "Processing Record 37 of set 2 | banyo\n",
      "Processing Record 38 of set 2 | shchigry\n",
      "City not found....Skipping............\n",
      "Processing Record 39 of set 2 | quatre cocos\n",
      "City not found....Skipping............\n",
      "Processing Record 40 of set 2 | chuy\n",
      "Processing Record 41 of set 2 | longyearbyen\n",
      "Processing Record 42 of set 2 | saint anthony\n",
      "Processing Record 43 of set 2 | rodrigues alves\n",
      "City not found....Skipping............\n",
      "Processing Record 44 of set 2 | lagoa\n",
      "Processing Record 45 of set 2 | narsaq\n",
      "Processing Record 46 of set 2 | lima\n",
      "Processing Record 47 of set 2 | bambous virieux\n",
      "Processing Record 48 of set 2 | najran\n",
      "Processing Record 49 of set 2 | broome\n",
      "Processing Record 50 of set 2 | qui nhon\n",
      "Processing Record 1 of set 3 | esperance\n",
      "Processing Record 2 of set 3 | nador\n",
      "Processing Record 3 of set 3 | mombasa\n",
      "Processing Record 4 of set 3 | nshamba\n",
      "Processing Record 5 of set 3 | vila\n",
      "Processing Record 6 of set 3 | ustka\n",
      "Processing Record 7 of set 3 | pasighat\n",
      "Processing Record 8 of set 3 | jalu\n",
      "Processing Record 9 of set 3 | fomboni\n",
      "Processing Record 10 of set 3 | bafq\n",
      "Processing Record 11 of set 3 | inhambane\n",
      "Processing Record 12 of set 3 | santa catarina de tepehuanes\n",
      "Processing Record 13 of set 3 | tuktoyaktuk\n",
      "Processing Record 14 of set 3 | kutum\n",
      "Processing Record 15 of set 3 | aksay\n",
      "Processing Record 16 of set 3 | honningsvag\n",
      "Processing Record 17 of set 3 | tabuk\n",
      "Processing Record 18 of set 3 | cherskiy\n",
      "Processing Record 19 of set 3 | chokurdakh\n",
      "Processing Record 20 of set 3 | qaqortoq\n",
      "Processing Record 21 of set 3 | shimoda\n",
      "Processing Record 22 of set 3 | kahului\n",
      "Processing Record 23 of set 3 | norman wells\n",
      "Processing Record 24 of set 3 | el sauzal\n",
      "Processing Record 25 of set 3 | puerto del rosario\n",
      "Processing Record 26 of set 3 | lavrentiya\n",
      "Processing Record 27 of set 3 | haskovo\n",
      "Processing Record 28 of set 3 | ilulissat\n",
      "Processing Record 29 of set 3 | meiganga\n",
      "Processing Record 30 of set 3 | mbumi\n",
      "City not found....Skipping............\n",
      "Processing Record 31 of set 3 | airai\n",
      "Processing Record 32 of set 3 | hermanus\n",
      "Processing Record 33 of set 3 | moerai\n",
      "City not found....Skipping............\n",
      "Processing Record 34 of set 3 | saskylakh\n",
      "Processing Record 35 of set 3 | birin\n",
      "Processing Record 36 of set 3 | panacan\n",
      "Processing Record 37 of set 3 | digby\n",
      "Processing Record 38 of set 3 | sao filipe\n",
      "Processing Record 39 of set 3 | lompoc\n",
      "Processing Record 40 of set 3 | kodiak\n",
      "Processing Record 41 of set 3 | asfi\n",
      "City not found....Skipping............\n",
      "Processing Record 42 of set 3 | aguimes\n",
      "Processing Record 43 of set 3 | nikolskoye\n",
      "Processing Record 44 of set 3 | puerto cabezas\n",
      "Processing Record 45 of set 3 | lorengau\n",
      "Processing Record 46 of set 3 | lufilufi\n",
      "Processing Record 47 of set 3 | lebu\n",
      "Processing Record 48 of set 3 | luoyang\n",
      "Processing Record 49 of set 3 | ossora\n",
      "Processing Record 50 of set 3 | ozernovskiy\n",
      "City not found....Skipping............\n",
      "Processing Record 1 of set 4 | ostuni\n",
      "Processing Record 2 of set 4 | yellowknife\n",
      "City not found....Skipping............\n",
      "Processing Record 3 of set 4 | port elizabeth\n",
      "Processing Record 4 of set 4 | san cristobal\n",
      "Processing Record 5 of set 4 | machilipatnam\n",
      "Processing Record 6 of set 4 | bethel\n",
      "Processing Record 7 of set 4 | camacha\n",
      "Processing Record 8 of set 4 | rio grande\n",
      "Processing Record 9 of set 4 | svetlogorsk\n",
      "Processing Record 10 of set 4 | taoudenni\n",
      "Processing Record 11 of set 4 | algeciras\n",
      "City not found....Skipping............\n",
      "Processing Record 12 of set 4 | sal rei\n",
      "Processing Record 13 of set 4 | mana\n",
      "Processing Record 14 of set 4 | cidreira\n",
      "City not found....Skipping............\n",
      "Processing Record 15 of set 4 | qaanaaq\n",
      "Processing Record 16 of set 4 | north bend\n",
      "Processing Record 17 of set 4 | grindavik\n",
      "Processing Record 18 of set 4 | gushikawa\n",
      "Processing Record 19 of set 4 | yabelo\n",
      "Processing Record 20 of set 4 | chapais\n",
      "Processing Record 21 of set 4 | aleksandrovsk-sakhalinskiy\n",
      "Processing Record 22 of set 4 | namtsy\n",
      "City not found....Skipping............\n",
      "Processing Record 23 of set 4 | rosetta\n",
      "Processing Record 24 of set 4 | radhanpur\n",
      "Processing Record 25 of set 4 | byron bay\n",
      "Processing Record 26 of set 4 | cartagena del chaira\n",
      "Processing Record 27 of set 4 | adamovka\n"
     ]
    },
    {
     "name": "stdout",
     "output_type": "stream",
     "text": [
      "Processing Record 28 of set 4 | saint-pierre\n",
      "Processing Record 29 of set 4 | mitsamiouli\n",
      "Processing Record 30 of set 4 | bathsheba\n",
      "Processing Record 31 of set 4 | matay\n",
      "Processing Record 32 of set 4 | hofn\n",
      "Processing Record 33 of set 4 | buala\n",
      "City not found....Skipping............\n",
      "Processing Record 34 of set 4 | manuk mangkaw\n",
      "Processing Record 35 of set 4 | ribeira grande\n",
      "Processing Record 36 of set 4 | ponta do sol\n",
      "Processing Record 37 of set 4 | panuco\n",
      "Processing Record 38 of set 4 | faanui\n",
      "Processing Record 39 of set 4 | upata\n",
      "Processing Record 40 of set 4 | zhigansk\n",
      "Processing Record 41 of set 4 | dingle\n",
      "Processing Record 42 of set 4 | sampit\n",
      "Processing Record 43 of set 4 | teya\n",
      "City not found....Skipping............\n",
      "Processing Record 44 of set 4 | ishigaki\n",
      "Processing Record 45 of set 4 | manjacaze\n",
      "Processing Record 46 of set 4 | banff\n",
      "Processing Record 47 of set 4 | leh\n",
      "Processing Record 48 of set 4 | batemans bay\n",
      "Processing Record 49 of set 4 | abonnema\n",
      "Processing Record 50 of set 4 | komsomolskiy\n",
      "Processing Record 1 of set 5 | victoria\n",
      "Processing Record 2 of set 5 | caravelas\n",
      "Processing Record 3 of set 5 | talnakh\n",
      "Processing Record 4 of set 5 | belaya gora\n",
      "Processing Record 5 of set 5 | ahipara\n",
      "Processing Record 6 of set 5 | isangel\n",
      "Processing Record 7 of set 5 | waddan\n",
      "Processing Record 8 of set 5 | mar del plata\n",
      "Processing Record 9 of set 5 | aksu\n",
      "Processing Record 10 of set 5 | great yarmouth\n",
      "Processing Record 11 of set 5 | bloemfontein\n",
      "Processing Record 12 of set 5 | kissamos\n",
      "City not found....Skipping............\n",
      "Processing Record 13 of set 5 | aklavik\n",
      "Processing Record 14 of set 5 | kralendijk\n",
      "Processing Record 15 of set 5 | luena\n",
      "Processing Record 16 of set 5 | marsh harbour\n",
      "Processing Record 17 of set 5 | lincoln\n",
      "Processing Record 18 of set 5 | jacareacanga\n",
      "Processing Record 19 of set 5 | kavieng\n",
      "Processing Record 20 of set 5 | barrow\n",
      "Processing Record 21 of set 5 | chiredzi\n",
      "Processing Record 22 of set 5 | suamico\n",
      "Processing Record 23 of set 5 | sioux lookout\n",
      "Processing Record 24 of set 5 | yumen\n",
      "Processing Record 25 of set 5 | chimbote\n",
      "Processing Record 26 of set 5 | colon\n",
      "Processing Record 27 of set 5 | mount isa\n",
      "Processing Record 28 of set 5 | vila franca do campo\n",
      "Processing Record 29 of set 5 | pangnirtung\n",
      "Processing Record 30 of set 5 | kieta\n",
      "City not found....Skipping............\n",
      "Processing Record 31 of set 5 | port blair\n",
      "Processing Record 32 of set 5 | mascota\n",
      "Processing Record 33 of set 5 | kankan\n",
      "Processing Record 34 of set 5 | anau\n",
      "Processing Record 35 of set 5 | harbour breton\n",
      "Processing Record 36 of set 5 | gotsu\n",
      "Processing Record 37 of set 5 | sinfra\n",
      "Processing Record 38 of set 5 | lamani\n",
      "Processing Record 39 of set 5 | lakatoro\n",
      "Processing Record 40 of set 5 | torbay\n",
      "Processing Record 41 of set 5 | tromso\n",
      "Processing Record 42 of set 5 | maniitsoq\n",
      "Processing Record 43 of set 5 | sao joao de pirabas\n",
      "Processing Record 44 of set 5 | toba\n",
      "Processing Record 45 of set 5 | padang\n",
      "Processing Record 46 of set 5 | goderich\n",
      "Processing Record 47 of set 5 | moratuwa\n",
      "City not found....Skipping............\n",
      "Processing Record 48 of set 5 | kiruna\n",
      "Processing Record 49 of set 5 | saldanha\n",
      "City not found....Skipping............\n",
      "Processing Record 50 of set 5 | vanimo\n",
      "Processing Record 1 of set 6 | sur\n",
      "Processing Record 2 of set 6 | kendari\n",
      "Processing Record 3 of set 6 | calvia\n",
      "Processing Record 4 of set 6 | along\n",
      "Processing Record 5 of set 6 | namatanai\n",
      "Processing Record 6 of set 6 | bandarbeyla\n",
      "Processing Record 7 of set 6 | jimma\n",
      "Processing Record 8 of set 6 | mocuba\n",
      "Processing Record 9 of set 6 | tadine\n",
      "Processing Record 10 of set 6 | tura\n",
      "Processing Record 11 of set 6 | beloha\n",
      "Processing Record 12 of set 6 | henties bay\n",
      "Processing Record 13 of set 6 | anjozorobe\n",
      "Processing Record 14 of set 6 | san quintin\n",
      "Processing Record 15 of set 6 | lasa\n",
      "Processing Record 16 of set 6 | monrovia\n",
      "Processing Record 17 of set 6 | itaguai\n",
      "Processing Record 18 of set 6 | ariogala\n",
      "Processing Record 19 of set 6 | marakkanam\n",
      "Processing Record 20 of set 6 | karratha\n",
      "Processing Record 21 of set 6 | boende\n",
      "Processing Record 22 of set 6 | camana\n",
      "Processing Record 23 of set 6 | arys\n",
      "Processing Record 24 of set 6 | cayenne\n",
      "Processing Record 25 of set 6 | leningradskiy\n",
      "Processing Record 26 of set 6 | yulara\n",
      "Processing Record 27 of set 6 | challapata\n",
      "Processing Record 28 of set 6 | cabra\n",
      "Processing Record 29 of set 6 | ludvika\n",
      "Processing Record 30 of set 6 | kadiri\n",
      "Processing Record 31 of set 6 | riberalta\n",
      "Processing Record 32 of set 6 | sarbogard\n",
      "Processing Record 33 of set 6 | poum\n",
      "Processing Record 34 of set 6 | ruwi\n",
      "Processing Record 35 of set 6 | trzebiatow\n",
      "Processing Record 36 of set 6 | zheleznodorozhnyy\n",
      "Processing Record 37 of set 6 | portland\n",
      "Processing Record 38 of set 6 | kushima\n",
      "Processing Record 39 of set 6 | novyye lyady\n",
      "Processing Record 40 of set 6 | antofagasta\n",
      "Processing Record 41 of set 6 | san juan\n",
      "Processing Record 42 of set 6 | salacgriva\n",
      "Processing Record 43 of set 6 | santana\n",
      "Processing Record 44 of set 6 | grand gaube\n",
      "Processing Record 45 of set 6 | fairbanks\n",
      "Processing Record 46 of set 6 | havelock\n",
      "Processing Record 47 of set 6 | santa rosa\n",
      "Processing Record 48 of set 6 | shakawe\n",
      "Processing Record 49 of set 6 | husavik\n",
      "Processing Record 50 of set 6 | astana\n",
      "Processing Record 1 of set 7 | ugoofaaru\n",
      "Processing Record 2 of set 7 | bardiyah\n",
      "Processing Record 3 of set 7 | souillac\n",
      "City not found....Skipping............\n",
      "Processing Record 4 of set 7 | flinders\n",
      "Processing Record 5 of set 7 | arecibo\n",
      "Processing Record 6 of set 7 | tiksi\n",
      "Processing Record 7 of set 7 | usinsk\n",
      "City not found....Skipping............\n",
      "Processing Record 8 of set 7 | srikakulam\n",
      "Processing Record 9 of set 7 | khunzakh\n",
      "Processing Record 10 of set 7 | solnechnyy\n",
      "Processing Record 11 of set 7 | helong\n",
      "City not found....Skipping............\n",
      "Processing Record 12 of set 7 | mahasamund\n",
      "Processing Record 13 of set 7 | koumac\n",
      "Processing Record 14 of set 7 | sampang\n",
      "City not found....Skipping............\n",
      "Processing Record 15 of set 7 | phangnga\n",
      "Processing Record 16 of set 7 | marystown\n",
      "Processing Record 17 of set 7 | nuuk\n",
      "Processing Record 18 of set 7 | nanortalik\n",
      "Processing Record 19 of set 7 | virginia beach\n",
      "Processing Record 20 of set 7 | aripuana\n",
      "Processing Record 21 of set 7 | lalmohan\n",
      "City not found....Skipping............\n",
      "City not found....Skipping............\n",
      "Processing Record 22 of set 7 | tinskoy\n",
      "Processing Record 23 of set 7 | chara\n",
      "Processing Record 24 of set 7 | mount gambier\n",
      "Processing Record 25 of set 7 | bremerton\n",
      "Processing Record 26 of set 7 | bac lieu\n",
      "City not found....Skipping............\n",
      "Processing Record 27 of set 7 | turukhansk\n",
      "Processing Record 28 of set 7 | savonlinna\n",
      "Processing Record 29 of set 7 | upernavik\n",
      "Processing Record 30 of set 7 | tabas\n",
      "Processing Record 31 of set 7 | gold coast\n",
      "City not found....Skipping............\n",
      "Processing Record 32 of set 7 | sangar\n",
      "Processing Record 33 of set 7 | qianan\n",
      "Processing Record 34 of set 7 | kuytun\n",
      "Processing Record 35 of set 7 | veraval\n",
      "Processing Record 36 of set 7 | sambava\n",
      "Processing Record 37 of set 7 | treinta y tres\n",
      "Processing Record 38 of set 7 | sitka\n",
      "Processing Record 39 of set 7 | clyde river\n",
      "Processing Record 40 of set 7 | tsalka\n",
      "Processing Record 41 of set 7 | taltal\n",
      "Processing Record 42 of set 7 | strelka\n",
      "Processing Record 43 of set 7 | alyangula\n",
      "Processing Record 44 of set 7 | felanitx\n",
      "Processing Record 45 of set 7 | port hedland\n",
      "Processing Record 46 of set 7 | high level\n",
      "Processing Record 47 of set 7 | rincon\n",
      "Processing Record 48 of set 7 | chitrakonda\n",
      "Processing Record 49 of set 7 | krasnorechenskiy\n",
      "Processing Record 50 of set 7 | broken hill\n",
      "City not found....Skipping............\n",
      "Processing Record 1 of set 8 | sisophon\n",
      "Processing Record 2 of set 8 | pailon\n",
      "Processing Record 3 of set 8 | basco\n",
      "Processing Record 4 of set 8 | port lincoln\n",
      "Processing Record 5 of set 8 | aksarka\n",
      "Processing Record 6 of set 8 | muriti\n",
      "Processing Record 7 of set 8 | hovd\n",
      "Processing Record 8 of set 8 | berdigestyakh\n",
      "Processing Record 9 of set 8 | green river\n",
      "Processing Record 10 of set 8 | petrovskaya\n",
      "Processing Record 11 of set 8 | fort nelson\n",
      "Processing Record 12 of set 8 | richards bay\n",
      "City not found....Skipping............\n"
     ]
    },
    {
     "name": "stdout",
     "output_type": "stream",
     "text": [
      "Processing Record 13 of set 8 | leirvik\n",
      "Processing Record 14 of set 8 | jumla\n",
      "Processing Record 15 of set 8 | aykhal\n",
      "Processing Record 16 of set 8 | qasigiannguit\n",
      "Processing Record 17 of set 8 | otane\n",
      "City not found....Skipping............\n",
      "Processing Record 18 of set 8 | leshukonskoye\n",
      "Processing Record 19 of set 8 | baykit\n",
      "City not found....Skipping............\n",
      "Processing Record 20 of set 8 | puteyets\n",
      "Processing Record 21 of set 8 | fez\n",
      "Processing Record 22 of set 8 | cooma\n",
      "Processing Record 23 of set 8 | praia da vitoria\n",
      "Processing Record 24 of set 8 | batie\n",
      "Processing Record 25 of set 8 | camargo\n",
      "Processing Record 26 of set 8 | hasaki\n",
      "Processing Record 27 of set 8 | yar-sale\n",
      "Processing Record 28 of set 8 | morgan city\n",
      "Processing Record 29 of set 8 | kamenka\n",
      "Processing Record 30 of set 8 | buraydah\n",
      "Processing Record 31 of set 8 | colomi\n",
      "Processing Record 32 of set 8 | liverpool\n",
      "Processing Record 33 of set 8 | varnamo\n",
      "Processing Record 34 of set 8 | sihora\n",
      "Processing Record 35 of set 8 | porbandar\n",
      "Processing Record 36 of set 8 | ambon\n",
      "Processing Record 37 of set 8 | takoradi\n",
      "Processing Record 38 of set 8 | saint-francois\n",
      "Processing Record 39 of set 8 | olhao\n",
      "City not found....Skipping............\n",
      "City not found....Skipping............\n",
      "Processing Record 40 of set 8 | severo-yeniseyskiy\n",
      "Processing Record 41 of set 8 | pombas\n",
      "Processing Record 42 of set 8 | ngunguru\n",
      "Processing Record 43 of set 8 | aquiraz\n",
      "Processing Record 44 of set 8 | luderitz\n",
      "Processing Record 45 of set 8 | pangoa\n",
      "Processing Record 46 of set 8 | hervey bay\n",
      "Processing Record 47 of set 8 | leova\n",
      "Processing Record 48 of set 8 | mbini\n",
      "City not found....Skipping............\n",
      "Processing Record 49 of set 8 | timra\n",
      "Processing Record 50 of set 8 | angoche\n",
      "Processing Record 1 of set 9 | andenes\n",
      "Processing Record 2 of set 9 | vanavara\n",
      "Processing Record 3 of set 9 | saint-leu\n",
      "Processing Record 4 of set 9 | cozumel\n",
      "Processing Record 5 of set 9 | kologriv\n",
      "Processing Record 6 of set 9 | talcahuano\n",
      "Processing Record 7 of set 9 | kasongo-lunda\n",
      "Processing Record 8 of set 9 | shenzhen\n",
      "Processing Record 9 of set 9 | san patricio\n",
      "City not found....Skipping............\n",
      "Processing Record 10 of set 9 | linkou\n",
      "Processing Record 11 of set 9 | whitehorse\n",
      "Processing Record 12 of set 9 | watrous\n",
      "Processing Record 13 of set 9 | parakou\n",
      "Processing Record 14 of set 9 | urusha\n",
      "Processing Record 15 of set 9 | bayanday\n",
      "Processing Record 16 of set 9 | severomuysk\n",
      "Processing Record 17 of set 9 | garowe\n",
      "Processing Record 18 of set 9 | buckeye\n",
      "Processing Record 19 of set 9 | tari\n",
      "Processing Record 20 of set 9 | eyl\n",
      "Processing Record 21 of set 9 | samarai\n",
      "Processing Record 22 of set 9 | luau\n",
      "Processing Record 23 of set 9 | la ronge\n",
      "Processing Record 24 of set 9 | mehamn\n",
      "Processing Record 25 of set 9 | anantapur\n",
      "Processing Record 26 of set 9 | saint-georges\n",
      "City not found....Skipping............\n",
      "Processing Record 27 of set 9 | balagansk\n",
      "Processing Record 28 of set 9 | montepuez\n",
      "Processing Record 29 of set 9 | cockburn town\n",
      "Processing Record 30 of set 9 | lumberton\n",
      "Processing Record 31 of set 9 | chunhuhub\n",
      "Processing Record 32 of set 9 | safaga\n",
      "Processing Record 33 of set 9 | kulhudhuffushi\n",
      "Processing Record 34 of set 9 | brandon\n",
      "Processing Record 35 of set 9 | mayya\n",
      "Processing Record 36 of set 9 | udachnyy\n",
      "Processing Record 37 of set 9 | umm kaddadah\n",
      "Processing Record 38 of set 9 | san vicente\n",
      "Processing Record 39 of set 9 | alofi\n",
      "Processing Record 40 of set 9 | reshetylivka\n",
      "Processing Record 41 of set 9 | ledyard\n",
      "Processing Record 42 of set 9 | college\n",
      "Processing Record 43 of set 9 | el alto\n",
      "Processing Record 44 of set 9 | mbanza-ngungu\n",
      "Processing Record 45 of set 9 | pochutla\n",
      "Processing Record 46 of set 9 | sistranda\n",
      "Processing Record 47 of set 9 | daru\n",
      "Processing Record 48 of set 9 | sechura\n",
      "Processing Record 49 of set 9 | hrodna\n",
      "Processing Record 50 of set 9 | sobolevo\n",
      "Processing Record 1 of set 10 | prado\n",
      "Processing Record 2 of set 10 | yerbogachen\n",
      "Processing Record 3 of set 10 | sao jose de ribamar\n",
      "Processing Record 4 of set 10 | ahuimanu\n",
      "Processing Record 5 of set 10 | havoysund\n",
      "Processing Record 6 of set 10 | puerto escondido\n",
      "Processing Record 7 of set 10 | tazmalt\n",
      "Processing Record 8 of set 10 | dryden\n",
      "Processing Record 9 of set 10 | port-gentil\n",
      "Processing Record 10 of set 10 | little current\n",
      "Processing Record 11 of set 10 | namangan\n",
      "Processing Record 12 of set 10 | pimampiro\n",
      "Processing Record 13 of set 10 | verkhnyaya toyma\n",
      "Processing Record 14 of set 10 | oriximina\n",
      "Processing Record 15 of set 10 | gogrial\n",
      "Processing Record 16 of set 10 | am timan\n",
      "Processing Record 17 of set 10 | manokwari\n",
      "Processing Record 18 of set 10 | kiama\n",
      "Processing Record 19 of set 10 | khor\n",
      "Processing Record 20 of set 10 | decatur\n",
      "Processing Record 21 of set 10 | faya\n",
      "Processing Record 22 of set 10 | manggar\n",
      "Processing Record 23 of set 10 | nampula\n",
      "Processing Record 24 of set 10 | bastia\n",
      "Processing Record 25 of set 10 | hvittingfoss\n",
      "Processing Record 26 of set 10 | mayor pablo lagerenza\n",
      "Processing Record 27 of set 10 | erenhot\n",
      "Processing Record 28 of set 10 | santa fe\n",
      "Processing Record 29 of set 10 | alta floresta\n",
      "Processing Record 30 of set 10 | tautira\n",
      "Processing Record 31 of set 10 | kruisfontein\n",
      "Processing Record 32 of set 10 | bayana\n",
      "Processing Record 33 of set 10 | santa cruz\n",
      "Processing Record 34 of set 10 | lamesa\n",
      "Processing Record 35 of set 10 | comodoro rivadavia\n",
      "Processing Record 36 of set 10 | tazovskiy\n",
      "Processing Record 37 of set 10 | lamu\n",
      "Processing Record 38 of set 10 | krasnoselkup\n",
      "Processing Record 39 of set 10 | san carlos de bariloche\n",
      "City not found....Skipping............\n",
      "Processing Record 40 of set 10 | makakilo city\n",
      "Processing Record 41 of set 10 | villablino\n",
      "Processing Record 42 of set 10 | sokolo\n",
      "City not found....Skipping............\n",
      "Processing Record 43 of set 10 | khingansk\n",
      "Processing Record 44 of set 10 | tezu\n",
      "Processing Record 45 of set 10 | haines junction\n",
      "Processing Record 46 of set 10 | palmer\n",
      "Processing Record 47 of set 10 | constitucion\n",
      "City not found....Skipping............\n",
      "Processing Record 48 of set 10 | la rioja\n",
      "Processing Record 49 of set 10 | mwense\n",
      "Processing Record 50 of set 10 | moose factory\n",
      "Processing Record 1 of set 11 | glenwood springs\n",
      "Processing Record 2 of set 11 | rancho veloz\n",
      "Processing Record 3 of set 11 | khao yoi\n",
      "Processing Record 4 of set 11 | cairns\n",
      "Processing Record 5 of set 11 | kearney\n",
      "Processing Record 6 of set 11 | gambela\n",
      "Processing Record 7 of set 11 | laguna\n",
      "Processing Record 8 of set 11 | primorsk\n",
      "Processing Record 9 of set 11 | pedro ii\n",
      "Processing Record 10 of set 11 | dunn\n",
      "Processing Record 11 of set 11 | balkanabat\n",
      "Processing Record 12 of set 11 | zabol\n",
      "Processing Record 13 of set 11 | gat\n",
      "Processing Record 14 of set 11 | palanga\n",
      "City not found....Skipping............\n",
      "Processing Record 15 of set 11 | mahon\n",
      "Processing Record 16 of set 11 | trinidad\n",
      "Processing Record 17 of set 11 | mirnyy\n",
      "Processing Record 18 of set 11 | paradise\n",
      "Processing Record 19 of set 11 | luganville\n",
      "Processing Record 20 of set 11 | geraldton\n",
      "City not found....Skipping............\n",
      "Processing Record 21 of set 11 | esmeralda\n",
      "City not found....Skipping............\n",
      "Processing Record 22 of set 11 | tuni\n",
      "Processing Record 23 of set 11 | sham churasi\n",
      "Processing Record 24 of set 11 | kerema\n",
      "City not found....Skipping............\n",
      "Processing Record 25 of set 11 | amol\n",
      "Processing Record 26 of set 11 | cordeiro\n",
      "Processing Record 27 of set 11 | tamworth\n",
      "Processing Record 28 of set 11 | hambantota\n",
      "Processing Record 29 of set 11 | codrington\n",
      "Processing Record 30 of set 11 | ibra\n",
      "Processing Record 31 of set 11 | staraya poltavka\n",
      "Processing Record 32 of set 11 | oktyabrskiy\n",
      "Processing Record 33 of set 11 | kununurra\n",
      "Processing Record 34 of set 11 | nova prata\n",
      "Processing Record 35 of set 11 | klaksvik\n",
      "Processing Record 36 of set 11 | labrea\n",
      "City not found....Skipping............\n",
      "Processing Record 37 of set 11 | homer\n",
      "Processing Record 38 of set 11 | grevena\n",
      "Processing Record 39 of set 11 | pokosnoye\n",
      "Processing Record 40 of set 11 | tibiri\n",
      "Processing Record 41 of set 11 | maningrida\n",
      "City not found....Skipping............\n",
      "Processing Record 42 of set 11 | doha\n",
      "Processing Record 43 of set 11 | clonakilty\n",
      "Processing Record 44 of set 11 | kaitangata\n",
      "Processing Record 45 of set 11 | stephenville\n"
     ]
    },
    {
     "name": "stdout",
     "output_type": "stream",
     "text": [
      "Processing Record 46 of set 11 | jadu\n",
      "Processing Record 47 of set 11 | srednekolymsk\n",
      "Processing Record 48 of set 11 | deputatskiy\n",
      "Processing Record 49 of set 11 | labuhan\n",
      "Processing Record 50 of set 11 | nong phai\n",
      "Processing Record 1 of set 12 | greymouth\n",
      "Processing Record 2 of set 12 | muros\n",
      "Processing Record 3 of set 12 | lazurne\n",
      "\n",
      "-----------------------------\n",
      "Data Retrieval Complete\n",
      "-----------------------------\n"
     ]
    }
   ],
   "source": [
    "#Set variables needed for analysis\n",
    "city_weather = []\n",
    "cou = []\n",
    "lat = []\n",
    "long = []\n",
    "temp = []\n",
    "humid = []\n",
    "cloud = []\n",
    "wind = []\n",
    "city_num = 1\n",
    "city_set = 1 \n",
    "\n",
    "# Language to show processing\n",
    "print('''\n",
    "-----------------------------\n",
    "Beginning Data Retrieval\n",
    "-----------------------------''')\n",
    "\n",
    "# Pull data to create dataframe\n",
    "for city in cities:\n",
    "    try:\n",
    "        final_url = fill_url(query_url + city)\n",
    "#         print(final_url)\n",
    "        response = requests.get(final_url).json()\n",
    "#         print(response)\n",
    "        city_weather.append(response['name'])\n",
    "        cou.append(response['sys']['country'])\n",
    "        lat.append(response['coord']['lat'])\n",
    "        long.append(response['coord']['lon'])\n",
    "        temp.append(response['main']['temp'])\n",
    "        humid.append(response['main']['humidity'])\n",
    "        cloud.append(response['clouds']['all'])\n",
    "        wind.append(response['wind']['speed'])\n",
    "\n",
    "        print(f\"Processing Record {city_num} of set {city_set} | {city}\")\n",
    "        \n",
    "        # Add one to city count\n",
    "        city_num += 1 \n",
    "    \n",
    "    except (KeyError):\n",
    "        print(\"City not found....Skipping............\")\n",
    "        \n",
    "    #Create sets of 50\n",
    "    if city_num == 51:\n",
    "        city_set += 1\n",
    "        city_num = 1\n",
    "\n",
    "print('''\n",
    "-----------------------------\n",
    "Data Retrieval Complete\n",
    "-----------------------------''')"
   ]
  },
  {
   "cell_type": "markdown",
   "metadata": {},
   "source": [
    "### Convert Raw Data to DataFrame\n",
    "* Export the city data into a .csv.\n",
    "* Display the DataFrame"
   ]
  },
  {
   "cell_type": "code",
   "execution_count": 5,
   "metadata": {},
   "outputs": [
    {
     "data": {
      "text/html": [
       "<div>\n",
       "<style scoped>\n",
       "    .dataframe tbody tr th:only-of-type {\n",
       "        vertical-align: middle;\n",
       "    }\n",
       "\n",
       "    .dataframe tbody tr th {\n",
       "        vertical-align: top;\n",
       "    }\n",
       "\n",
       "    .dataframe thead th {\n",
       "        text-align: right;\n",
       "    }\n",
       "</style>\n",
       "<table border=\"1\" class=\"dataframe\">\n",
       "  <thead>\n",
       "    <tr style=\"text-align: right;\">\n",
       "      <th></th>\n",
       "      <th>City</th>\n",
       "      <th>County</th>\n",
       "      <th>Latitude</th>\n",
       "      <th>Longitude</th>\n",
       "      <th>Tempurature</th>\n",
       "      <th>Humidity</th>\n",
       "      <th>Cloudiness</th>\n",
       "      <th>Wind Speed</th>\n",
       "    </tr>\n",
       "  </thead>\n",
       "  <tbody>\n",
       "    <tr>\n",
       "      <th>0</th>\n",
       "      <td>São João da Barra</td>\n",
       "      <td>BR</td>\n",
       "      <td>-21.6403</td>\n",
       "      <td>-41.0511</td>\n",
       "      <td>28.00</td>\n",
       "      <td>57</td>\n",
       "      <td>20</td>\n",
       "      <td>1.03</td>\n",
       "    </tr>\n",
       "    <tr>\n",
       "      <th>1</th>\n",
       "      <td>Coyhaique</td>\n",
       "      <td>CL</td>\n",
       "      <td>-45.5752</td>\n",
       "      <td>-72.0662</td>\n",
       "      <td>21.00</td>\n",
       "      <td>52</td>\n",
       "      <td>0</td>\n",
       "      <td>2.06</td>\n",
       "    </tr>\n",
       "    <tr>\n",
       "      <th>2</th>\n",
       "      <td>Saint-Philippe</td>\n",
       "      <td>RE</td>\n",
       "      <td>-21.3585</td>\n",
       "      <td>55.7679</td>\n",
       "      <td>27.17</td>\n",
       "      <td>66</td>\n",
       "      <td>0</td>\n",
       "      <td>10.29</td>\n",
       "    </tr>\n",
       "    <tr>\n",
       "      <th>3</th>\n",
       "      <td>Arraial do Cabo</td>\n",
       "      <td>BR</td>\n",
       "      <td>-22.9661</td>\n",
       "      <td>-42.0278</td>\n",
       "      <td>27.41</td>\n",
       "      <td>65</td>\n",
       "      <td>20</td>\n",
       "      <td>5.66</td>\n",
       "    </tr>\n",
       "    <tr>\n",
       "      <th>4</th>\n",
       "      <td>Dikson</td>\n",
       "      <td>RU</td>\n",
       "      <td>73.5069</td>\n",
       "      <td>80.5464</td>\n",
       "      <td>-28.98</td>\n",
       "      <td>89</td>\n",
       "      <td>100</td>\n",
       "      <td>4.48</td>\n",
       "    </tr>\n",
       "    <tr>\n",
       "      <th>...</th>\n",
       "      <td>...</td>\n",
       "      <td>...</td>\n",
       "      <td>...</td>\n",
       "      <td>...</td>\n",
       "      <td>...</td>\n",
       "      <td>...</td>\n",
       "      <td>...</td>\n",
       "      <td>...</td>\n",
       "    </tr>\n",
       "    <tr>\n",
       "      <th>548</th>\n",
       "      <td>Labuhan</td>\n",
       "      <td>ID</td>\n",
       "      <td>-6.8844</td>\n",
       "      <td>112.2051</td>\n",
       "      <td>25.63</td>\n",
       "      <td>87</td>\n",
       "      <td>100</td>\n",
       "      <td>2.12</td>\n",
       "    </tr>\n",
       "    <tr>\n",
       "      <th>549</th>\n",
       "      <td>Nong Phai</td>\n",
       "      <td>TH</td>\n",
       "      <td>15.9903</td>\n",
       "      <td>101.0618</td>\n",
       "      <td>26.11</td>\n",
       "      <td>59</td>\n",
       "      <td>10</td>\n",
       "      <td>0.88</td>\n",
       "    </tr>\n",
       "    <tr>\n",
       "      <th>550</th>\n",
       "      <td>Greymouth</td>\n",
       "      <td>NZ</td>\n",
       "      <td>-42.4667</td>\n",
       "      <td>171.2000</td>\n",
       "      <td>11.10</td>\n",
       "      <td>84</td>\n",
       "      <td>40</td>\n",
       "      <td>2.74</td>\n",
       "    </tr>\n",
       "    <tr>\n",
       "      <th>551</th>\n",
       "      <td>Muros</td>\n",
       "      <td>ES</td>\n",
       "      <td>42.7762</td>\n",
       "      <td>-9.0603</td>\n",
       "      <td>12.96</td>\n",
       "      <td>67</td>\n",
       "      <td>96</td>\n",
       "      <td>6.26</td>\n",
       "    </tr>\n",
       "    <tr>\n",
       "      <th>552</th>\n",
       "      <td>Lazurne</td>\n",
       "      <td>UA</td>\n",
       "      <td>46.0840</td>\n",
       "      <td>32.5295</td>\n",
       "      <td>10.77</td>\n",
       "      <td>82</td>\n",
       "      <td>75</td>\n",
       "      <td>4.00</td>\n",
       "    </tr>\n",
       "  </tbody>\n",
       "</table>\n",
       "<p>553 rows × 8 columns</p>\n",
       "</div>"
      ],
      "text/plain": [
       "                  City County  Latitude  Longitude  Tempurature  Humidity  \\\n",
       "0    São João da Barra     BR  -21.6403   -41.0511        28.00        57   \n",
       "1            Coyhaique     CL  -45.5752   -72.0662        21.00        52   \n",
       "2       Saint-Philippe     RE  -21.3585    55.7679        27.17        66   \n",
       "3      Arraial do Cabo     BR  -22.9661   -42.0278        27.41        65   \n",
       "4               Dikson     RU   73.5069    80.5464       -28.98        89   \n",
       "..                 ...    ...       ...        ...          ...       ...   \n",
       "548            Labuhan     ID   -6.8844   112.2051        25.63        87   \n",
       "549          Nong Phai     TH   15.9903   101.0618        26.11        59   \n",
       "550          Greymouth     NZ  -42.4667   171.2000        11.10        84   \n",
       "551              Muros     ES   42.7762    -9.0603        12.96        67   \n",
       "552            Lazurne     UA   46.0840    32.5295        10.77        82   \n",
       "\n",
       "     Cloudiness  Wind Speed  \n",
       "0            20        1.03  \n",
       "1             0        2.06  \n",
       "2             0       10.29  \n",
       "3            20        5.66  \n",
       "4           100        4.48  \n",
       "..          ...         ...  \n",
       "548         100        2.12  \n",
       "549          10        0.88  \n",
       "550          40        2.74  \n",
       "551          96        6.26  \n",
       "552          75        4.00  \n",
       "\n",
       "[553 rows x 8 columns]"
      ]
     },
     "execution_count": 5,
     "metadata": {},
     "output_type": "execute_result"
    }
   ],
   "source": [
    "# Create a dictionary to hold all cities\n",
    "weather_dict = {\n",
    "    'City' : city_weather,\n",
    "    'County' : cou, \n",
    "    'Latitude' : lat,\n",
    "    'Longitude' : long,\n",
    "    'Tempurature' : temp,\n",
    "    'Humidity' : humid,\n",
    "    'Cloudiness' : cloud, \n",
    "    'Wind Speed': wind\n",
    "}\n",
    "\n",
    "# Convert to DataFrame\n",
    "weather_data = pd.DataFrame(weather_dict)\n",
    "\n",
    "#Export to CSV\n",
    "weather_data.to_csv(\"Outputs/Weather_Data\", index=False, header=True)\n",
    "\n",
    "weather_data"
   ]
  },
  {
   "cell_type": "code",
   "execution_count": 6,
   "metadata": {},
   "outputs": [
    {
     "data": {
      "text/html": [
       "<div>\n",
       "<style scoped>\n",
       "    .dataframe tbody tr th:only-of-type {\n",
       "        vertical-align: middle;\n",
       "    }\n",
       "\n",
       "    .dataframe tbody tr th {\n",
       "        vertical-align: top;\n",
       "    }\n",
       "\n",
       "    .dataframe thead th {\n",
       "        text-align: right;\n",
       "    }\n",
       "</style>\n",
       "<table border=\"1\" class=\"dataframe\">\n",
       "  <thead>\n",
       "    <tr style=\"text-align: right;\">\n",
       "      <th></th>\n",
       "      <th>Latitude</th>\n",
       "      <th>Longitude</th>\n",
       "      <th>Tempurature</th>\n",
       "      <th>Humidity</th>\n",
       "      <th>Cloudiness</th>\n",
       "      <th>Wind Speed</th>\n",
       "    </tr>\n",
       "  </thead>\n",
       "  <tbody>\n",
       "    <tr>\n",
       "      <th>count</th>\n",
       "      <td>553.000000</td>\n",
       "      <td>553.000000</td>\n",
       "      <td>553.000000</td>\n",
       "      <td>553.000000</td>\n",
       "      <td>553.000000</td>\n",
       "      <td>553.000000</td>\n",
       "    </tr>\n",
       "    <tr>\n",
       "      <th>mean</th>\n",
       "      <td>20.328946</td>\n",
       "      <td>17.215429</td>\n",
       "      <td>10.364955</td>\n",
       "      <td>71.027125</td>\n",
       "      <td>50.743219</td>\n",
       "      <td>3.646763</td>\n",
       "    </tr>\n",
       "    <tr>\n",
       "      <th>std</th>\n",
       "      <td>33.171532</td>\n",
       "      <td>89.726443</td>\n",
       "      <td>19.356417</td>\n",
       "      <td>20.260737</td>\n",
       "      <td>39.385533</td>\n",
       "      <td>2.555847</td>\n",
       "    </tr>\n",
       "    <tr>\n",
       "      <th>min</th>\n",
       "      <td>-54.800000</td>\n",
       "      <td>-175.200000</td>\n",
       "      <td>-41.000000</td>\n",
       "      <td>5.000000</td>\n",
       "      <td>0.000000</td>\n",
       "      <td>0.150000</td>\n",
       "    </tr>\n",
       "    <tr>\n",
       "      <th>25%</th>\n",
       "      <td>-7.844700</td>\n",
       "      <td>-63.598600</td>\n",
       "      <td>-4.310000</td>\n",
       "      <td>64.000000</td>\n",
       "      <td>5.000000</td>\n",
       "      <td>1.830000</td>\n",
       "    </tr>\n",
       "    <tr>\n",
       "      <th>50%</th>\n",
       "      <td>22.690600</td>\n",
       "      <td>23.825800</td>\n",
       "      <td>17.990000</td>\n",
       "      <td>75.000000</td>\n",
       "      <td>46.000000</td>\n",
       "      <td>3.090000</td>\n",
       "    </tr>\n",
       "    <tr>\n",
       "      <th>75%</th>\n",
       "      <td>49.116700</td>\n",
       "      <td>93.034400</td>\n",
       "      <td>26.000000</td>\n",
       "      <td>87.000000</td>\n",
       "      <td>90.000000</td>\n",
       "      <td>4.630000</td>\n",
       "    </tr>\n",
       "    <tr>\n",
       "      <th>max</th>\n",
       "      <td>78.218600</td>\n",
       "      <td>178.416700</td>\n",
       "      <td>41.220000</td>\n",
       "      <td>100.000000</td>\n",
       "      <td>100.000000</td>\n",
       "      <td>14.690000</td>\n",
       "    </tr>\n",
       "  </tbody>\n",
       "</table>\n",
       "</div>"
      ],
      "text/plain": [
       "         Latitude   Longitude  Tempurature    Humidity  Cloudiness  Wind Speed\n",
       "count  553.000000  553.000000   553.000000  553.000000  553.000000  553.000000\n",
       "mean    20.328946   17.215429    10.364955   71.027125   50.743219    3.646763\n",
       "std     33.171532   89.726443    19.356417   20.260737   39.385533    2.555847\n",
       "min    -54.800000 -175.200000   -41.000000    5.000000    0.000000    0.150000\n",
       "25%     -7.844700  -63.598600    -4.310000   64.000000    5.000000    1.830000\n",
       "50%     22.690600   23.825800    17.990000   75.000000   46.000000    3.090000\n",
       "75%     49.116700   93.034400    26.000000   87.000000   90.000000    4.630000\n",
       "max     78.218600  178.416700    41.220000  100.000000  100.000000   14.690000"
      ]
     },
     "execution_count": 6,
     "metadata": {},
     "output_type": "execute_result"
    }
   ],
   "source": [
    "#Statistical summary\n",
    "weather_data.describe()"
   ]
  },
  {
   "cell_type": "markdown",
   "metadata": {},
   "source": [
    "## Plotting the Data\n",
    "* Use proper labeling of the plots using plot titles (including date of analysis) and axes labels.\n",
    "* Save the plotted figures as .pngs."
   ]
  },
  {
   "cell_type": "markdown",
   "metadata": {},
   "source": [
    "### Latitude vs. Temperature Plot"
   ]
  },
  {
   "cell_type": "code",
   "execution_count": 7,
   "metadata": {
    "scrolled": true
   },
   "outputs": [
    {
     "data": {
      "image/png": "[encoded data removed]",
      "text/plain": [
       "<Figure size 432x288 with 1 Axes>"
      ]
     },
     "metadata": {
      "needs_background": "light"
     },
     "output_type": "display_data"
    }
   ],
   "source": [
    "#Define variables\n",
    "lat = weather_data['Latitude']\n",
    "temp = weather_data['Tempurature']\n",
    "\n",
    "#Plot\n",
    "plt.scatter(lat, temp, color='green')\n",
    "\n",
    "#Lable\n",
    "plt.xlabel('Latitude')\n",
    "plt.ylabel('Tempuratures (C)')\n",
    "plt.title('Latitude vs. Temperature')\n",
    "plt.grid('true')\n",
    "\n",
    "#Save file as png\n",
    "plt.savefig(\"Outputs/Latitude vs. Temperature.png\")"
   ]
  },
  {
   "cell_type": "markdown",
   "metadata": {},
   "source": [
    "The plot above shows how the temperature changes across the globe. Since we know the equator to be zero we can see that the highest temperatures are closest to zero and the temperature decreases as you move away from the equator, latitude 0."
   ]
  },
  {
   "cell_type": "markdown",
   "metadata": {},
   "source": [
    "### Latitude vs. Humidity Plot"
   ]
  },
  {
   "cell_type": "code",
   "execution_count": 8,
   "metadata": {},
   "outputs": [
    {
     "data": {
      "image/png": "[encoded data removed]",
      "text/plain": [
       "<Figure size 432x288 with 1 Axes>"
      ]
     },
     "metadata": {
      "needs_background": "light"
     },
     "output_type": "display_data"
    }
   ],
   "source": [
    "#Define new variables\n",
    "humid = weather_data['Humidity']\n",
    "\n",
    "#Plot\n",
    "plt.scatter(lat, humid, color='orange')\n",
    "\n",
    "#Label\n",
    "plt.xlabel('Latitude')\n",
    "plt.ylabel('Humidity (%)')\n",
    "plt.title('Latitude vs. Humidity')\n",
    "plt.grid('true')\n",
    "\n",
    "#Save file as png\n",
    "plt.savefig(\"Outputs/Latitude vs. Humidity.png\")"
   ]
  },
  {
   "cell_type": "markdown",
   "metadata": {},
   "source": [
    "The plot above shows humidity levels across the globe. There does not seem to be a correlation between humidity and location."
   ]
  },
  {
   "cell_type": "markdown",
   "metadata": {},
   "source": [
    "### Latitude vs. Cloudiness Plot"
   ]
  },
  {
   "cell_type": "code",
   "execution_count": 9,
   "metadata": {},
   "outputs": [
    {
     "data": {
      "image/png": "[encoded data removed]",
      "text/plain": [
       "<Figure size 432x288 with 1 Axes>"
      ]
     },
     "metadata": {
      "needs_background": "light"
     },
     "output_type": "display_data"
    }
   ],
   "source": [
    "#Define new variables \n",
    "cloud = weather_data['Cloudiness']\n",
    "\n",
    "#Plot\n",
    "plt.scatter(lat, cloud, color='purple')\n",
    "\n",
    "#Label\n",
    "plt.xlabel('Latitude')\n",
    "plt.ylabel('Cloudiness (%)')\n",
    "plt.title('Latitude vs. Cloudiness')\n",
    "plt.grid('true')\n",
    "\n",
    "\n",
    "#Save file as png\n",
    "plt.savefig(\"Outputs/Latitude vs. Cloudiness.png\")"
   ]
  },
  {
   "cell_type": "markdown",
   "metadata": {},
   "source": [
    "The plot above shows percent cloudiness across the globe. There appears to be some consistency between some temperatures and cloudiness but more statistical tests are needed to established correlation."
   ]
  },
  {
   "cell_type": "markdown",
   "metadata": {},
   "source": [
    "### Latitude vs. Wind Speed Plot"
   ]
  },
  {
   "cell_type": "code",
   "execution_count": 10,
   "metadata": {},
   "outputs": [
    {
     "data": {
      "image/png": "[encoded data removed]",
      "text/plain": [
       "<Figure size 432x288 with 1 Axes>"
      ]
     },
     "metadata": {
      "needs_background": "light"
     },
     "output_type": "display_data"
    }
   ],
   "source": [
    "#Add new variables \n",
    "wind = weather_data['Wind Speed']\n",
    "\n",
    "#Plot\n",
    "plt.scatter(lat, wind, color='skyblue')\n",
    "\n",
    "#Label\n",
    "plt.xlabel('Latitude')\n",
    "plt.ylabel('Wind Speed')\n",
    "plt.title('Latitude vs. Wind Speed')\n",
    "plt.grid('true')\n",
    "\n",
    "#Save file as png\n",
    "plt.savefig(\"Outputs/Latitude vs. Wind Speed.png\")"
   ]
  },
  {
   "cell_type": "markdown",
   "metadata": {},
   "source": [
    "The plot above shows the windspeed across the globe. In general, there seems to be few instances of extremely high wind speed as most speeds are clustered around the bottom of the plot."
   ]
  },
  {
   "cell_type": "markdown",
   "metadata": {},
   "source": [
    "## Linear Regression"
   ]
  },
  {
   "cell_type": "code",
   "execution_count": 12,
   "metadata": {},
   "outputs": [],
   "source": [
    "#Establish north and south hemisphere dataframes\n",
    "\n",
    "north = weather_data.loc[weather_data['Latitude'] >= 0]\n",
    "north.head()\n",
    "# print(len(north))\n",
    "south = weather_data.loc[weather_data['Latitude'] < 0]\n",
    "# print(len(south))"
   ]
  },
  {
   "cell_type": "markdown",
   "metadata": {},
   "source": [
    "## Tempurature vs. Latitude Linear Regression"
   ]
  },
  {
   "cell_type": "markdown",
   "metadata": {},
   "source": [
    "####  Northern Hemisphere - Tempurature vs. Latitude Linear Regression"
   ]
  },
  {
   "cell_type": "code",
   "execution_count": 13,
   "metadata": {},
   "outputs": [
    {
     "name": "stdout",
     "output_type": "stream",
     "text": [
      "The r-value is: 0.7828313340560048\n"
     ]
    },
    {
     "data": {
      "image/png": "[encoded data removed]",
      "text/plain": [
       "<Figure size 432x288 with 1 Axes>"
      ]
     },
     "metadata": {
      "needs_background": "light"
     },
     "output_type": "display_data"
    }
   ],
   "source": [
    "from scipy import stats\n",
    "\n",
    "#Add associated y_axis\n",
    "north_lat = north['Latitude']\n",
    "north_temp = north['Tempurature']\n",
    "\n",
    "# Linear regression\n",
    "# Perform a linear regression on temperature vs. latitude\n",
    "(slope, intercept, rvalue, pvalue, stderr) = stats.linregress(north_lat, north_temp)\n",
    "\n",
    "# Get regression values\n",
    "regress_values = north_lat * slope + intercept\n",
    "\n",
    "#Create line equation for graph\n",
    "lneq = \"y = \" + str(round(slope,2)) + \"x + \" + str(round(intercept,2))\n",
    "\n",
    "#Plot\n",
    "plt.scatter(north_lat, north_temp)\n",
    "plt.plot(north_lat,regress_values,\"r-\")\n",
    "\n",
    "#Label\n",
    "plt.xlabel('Latitude')\n",
    "plt.ylabel('Tempurature (C)')\n",
    "plt.title('Northern Hemisphere: Tempurature vs. Latitude')\n",
    "plt.annotate(lneq,(40,30),fontsize=15,color=\"red\")\n",
    "print(f\"The r-value is: {rvalue**2}\")"
   ]
  },
  {
   "cell_type": "markdown",
   "metadata": {},
   "source": [
    "####  Southern Hemisphere - Tempurature vs. Latitude Linear Regression"
   ]
  },
  {
   "cell_type": "code",
   "execution_count": 16,
   "metadata": {},
   "outputs": [
    {
     "name": "stdout",
     "output_type": "stream",
     "text": [
      "The r-value is: 0.3461404853267619\n"
     ]
    },
    {
     "data": {
      "image/png": "[encoded data removed]",
      "text/plain": [
       "<Figure size 432x288 with 1 Axes>"
      ]
     },
     "metadata": {
      "needs_background": "light"
     },
     "output_type": "display_data"
    }
   ],
   "source": [
    "#Add associated y_axis\n",
    "south_lat = south['Latitude']\n",
    "south_temp = south['Tempurature']\n",
    "\n",
    "# Linear regression\n",
    "# Perform a linear regression on temperature vs. latitude\n",
    "(slope, intercept, rvalue, pvalue, stderr) = stats.linregress(south_lat, south_temp)\n",
    "\n",
    "# Get regression values\n",
    "regress_values = south_lat * slope + intercept\n",
    "\n",
    "#Create line equation for graph\n",
    "lneq = \"y = \" + str(round(slope,2)) + \"x + \" + str(round(intercept,2))\n",
    "\n",
    "#Plot\n",
    "plt.scatter(south_lat, south_temp)\n",
    "plt.plot(south_lat,regress_values,\"r-\")\n",
    "\n",
    "#Label\n",
    "plt.xlabel('Latitude')\n",
    "plt.ylabel('Tempurature (C)')\n",
    "plt.title('Southern Hemisphere: Tempurature vs. Latitude')\n",
    "plt.annotate(lneq,(-30, 10),fontsize=15,color=\"red\")\n",
    "print(f\"The r-value is: {rvalue**2}\")"
   ]
  },
  {
   "cell_type": "code",
   "execution_count": null,
   "metadata": {},
   "outputs": [],
   "source": [
    "#write up"
   ]
  },
  {
   "cell_type": "markdown",
   "metadata": {},
   "source": [
    "## Humidity (%) vs. Latitude Linear Regression"
   ]
  },
  {
   "cell_type": "markdown",
   "metadata": {},
   "source": [
    "####  Northern Hemisphere - Humidity (%) vs. Latitude Linear Regression"
   ]
  },
  {
   "cell_type": "code",
   "execution_count": 17,
   "metadata": {},
   "outputs": [
    {
     "name": "stdout",
     "output_type": "stream",
     "text": [
      "The r-value is: 0.17672487962988992\n"
     ]
    },
    {
     "data": {
      "image/png": "[encoded data removed]",
      "text/plain": [
       "<Figure size 432x288 with 1 Axes>"
      ]
     },
     "metadata": {
      "needs_background": "light"
     },
     "output_type": "display_data"
    }
   ],
   "source": [
    "#Add associated y_axis\n",
    "north_hum = north['Humidity']\n",
    "\n",
    "# Linear regression\n",
    "# Perform a linear regression on temperature vs. latitude\n",
    "(slope, intercept, rvalue, pvalue, stderr) = stats.linregress(north_lat, north_hum)\n",
    "\n",
    "# Get regression values\n",
    "regress_values = north_lat * slope + intercept\n",
    "\n",
    "#Create line equation for graph\n",
    "lneq = \"y = \" + str(round(slope,2)) + \"x + \" + str(round(intercept,2))\n",
    "\n",
    "#Plot\n",
    "plt.scatter(north_lat, north_hum)\n",
    "plt.plot(north_lat,regress_values,\"r-\")\n",
    "\n",
    "#Label\n",
    "plt.xlabel('Latitude')\n",
    "plt.ylabel('Humidity (%)')\n",
    "plt.title('Northern Hemisphere: Humidity vs. Latitude')\n",
    "plt.annotate(lneq,(45,15),fontsize=15,color=\"red\")\n",
    "print(f\"The r-value is: {rvalue**2}\")"
   ]
  },
  {
   "cell_type": "markdown",
   "metadata": {},
   "source": [
    "####  Southern Hemisphere - Humidity (%) vs. Latitude Linear Regression"
   ]
  },
  {
   "cell_type": "code",
   "execution_count": 18,
   "metadata": {},
   "outputs": [
    {
     "name": "stdout",
     "output_type": "stream",
     "text": [
      "The r-value is: 0.06930448170504198\n"
     ]
    },
    {
     "data": {
      "image/png": "[encoded data removed]",
      "text/plain": [
       "<Figure size 432x288 with 1 Axes>"
      ]
     },
     "metadata": {
      "needs_background": "light"
     },
     "output_type": "display_data"
    }
   ],
   "source": [
    "#Add associated y_axis\n",
    "south_hum = south['Humidity']\n",
    "\n",
    "# Linear regression\n",
    "# Perform a linear regression on temperature vs. latitude\n",
    "(slope, intercept, rvalue, pvalue, stderr) = stats.linregress(south_lat, south_hum)\n",
    "\n",
    "# Get regression values\n",
    "regress_values = south_lat * slope + intercept\n",
    "\n",
    "#Create line equation for graph\n",
    "lneq = \"y = \" + str(round(slope,2)) + \"x + \" + str(round(intercept,2))\n",
    "\n",
    "#Plot\n",
    "plt.scatter(south_lat, south_hum)\n",
    "plt.plot(south_lat,regress_values,\"r-\")\n",
    "\n",
    "#Label\n",
    "plt.xlabel('Latitude')\n",
    "plt.ylabel('Humidity (%)')\n",
    "plt.title('Southern Hemisphere: Humidity vs. Latitude')\n",
    "plt.annotate(lneq,(-25, 17),fontsize=15,color=\"red\")\n",
    "print(f\"The r-value is: {rvalue**2}\")"
   ]
  },
  {
   "cell_type": "code",
   "execution_count": null,
   "metadata": {},
   "outputs": [],
   "source": [
    "#write up"
   ]
  },
  {
   "cell_type": "markdown",
   "metadata": {},
   "source": [
    "## Cloudiness (%) vs. Latitude Linear Regression"
   ]
  },
  {
   "cell_type": "markdown",
   "metadata": {},
   "source": [
    "####  Northern Hemisphere - Cloudiness (%) vs. Latitude Linear Regression"
   ]
  },
  {
   "cell_type": "code",
   "execution_count": 23,
   "metadata": {},
   "outputs": [
    {
     "name": "stdout",
     "output_type": "stream",
     "text": [
      "The r-value is: 0.010644401661659773\n"
     ]
    },
    {
     "data": {
      "image/png": "[encoded data removed]",
      "text/plain": [
       "<Figure size 432x288 with 1 Axes>"
      ]
     },
     "metadata": {
      "needs_background": "light"
     },
     "output_type": "display_data"
    }
   ],
   "source": [
    "#Add associated y_axis\n",
    "north_cloud = north['Cloudiness']\n",
    "\n",
    "# Linear regression\n",
    "# Perform a linear regression on temperature vs. latitude\n",
    "(slope, intercept, rvalue, pvalue, stderr) = stats.linregress(north_lat, north_cloud)\n",
    "\n",
    "# Get regression values\n",
    "regress_values = north_lat * slope + intercept\n",
    "\n",
    "#Create line equation for graph\n",
    "lneq = \"y = \" + str(round(slope,2)) + \"x + \" + str(round(intercept,2))\n",
    "\n",
    "#Plot\n",
    "plt.scatter(north_lat, north_cloud)\n",
    "plt.plot(north_lat,regress_values,\"r-\")\n",
    "\n",
    "#Label\n",
    "plt.xlabel('Latitude')\n",
    "plt.ylabel('Cloudiness (%)')\n",
    "plt.title('Northern Hemisphere: Cloudiness vs. Latitude')\n",
    "plt.annotate(lneq,(50,60),fontsize=15,color=\"red\")\n",
    "print(f\"The r-value is: {rvalue**2}\")"
   ]
  },
  {
   "cell_type": "markdown",
   "metadata": {},
   "source": [
    "####  Southern Hemisphere - Cloudiness (%) vs. Latitude Linear Regression"
   ]
  },
  {
   "cell_type": "code",
   "execution_count": 21,
   "metadata": {},
   "outputs": [
    {
     "name": "stdout",
     "output_type": "stream",
     "text": [
      "The r-value is: 0.1306535590258185\n"
     ]
    },
    {
     "data": {
      "image/png": "[encoded data removed]",
      "text/plain": [
       "<Figure size 432x288 with 1 Axes>"
      ]
     },
     "metadata": {
      "needs_background": "light"
     },
     "output_type": "display_data"
    }
   ],
   "source": [
    "#Add associated y_axis\n",
    "south_cloud = south['Cloudiness']\n",
    "\n",
    "# Linear regression\n",
    "# Perform a linear regression on temperature vs. latitude\n",
    "(slope, intercept, rvalue, pvalue, stderr) = stats.linregress(south_lat, south_cloud)\n",
    "\n",
    "# Get regression values\n",
    "regress_values = south_lat * slope + intercept\n",
    "\n",
    "#Create line equation for graph\n",
    "lneq = \"y = \" + str(round(slope,2)) + \"x + \" + str(round(intercept,2))\n",
    "\n",
    "#Plot\n",
    "plt.scatter(south_lat, south_cloud)\n",
    "plt.plot(south_lat,regress_values,\"r-\")\n",
    "\n",
    "#Label\n",
    "plt.xlabel('Latitude')\n",
    "plt.ylabel('Cloudiness (%)')\n",
    "plt.title('Southern Hemisphere: Cloudiness vs. Latitude')\n",
    "plt.annotate(lneq,(-55, 55),fontsize=15,color=\"red\")\n",
    "print(f\"The r-value is: {rvalue**2}\")"
   ]
  },
  {
   "cell_type": "code",
   "execution_count": null,
   "metadata": {},
   "outputs": [],
   "source": [
    "#write up"
   ]
  },
  {
   "cell_type": "markdown",
   "metadata": {},
   "source": [
    "## Wind Speed vs Latitude Linear Regression"
   ]
  },
  {
   "cell_type": "markdown",
   "metadata": {},
   "source": [
    "####  Northern Hemisphere - Wind Speed vs. Latitude Linear Regression"
   ]
  },
  {
   "cell_type": "code",
   "execution_count": 26,
   "metadata": {},
   "outputs": [
    {
     "name": "stdout",
     "output_type": "stream",
     "text": [
      "The r-value is: 0.0006230969767570708\n"
     ]
    },
    {
     "data": {
      "image/png": "[encoded data removed]",
      "text/plain": [
       "<Figure size 432x288 with 1 Axes>"
      ]
     },
     "metadata": {
      "needs_background": "light"
     },
     "output_type": "display_data"
    }
   ],
   "source": [
    "#Add associated y_axis\n",
    "north_wind = north['Wind Speed']\n",
    "\n",
    "# Linear regression\n",
    "# Perform a linear regression on temperature vs. latitude\n",
    "(slope, intercept, rvalue, pvalue, stderr) = stats.linregress(north_lat, north_wind)\n",
    "\n",
    "# Get regression values\n",
    "regress_values = north_lat * slope + intercept\n",
    "\n",
    "#Create line equation for graph\n",
    "lneq = \"y = \" + str(round(slope,2)) + \"x + \" + str(round(intercept,2))\n",
    "\n",
    "#Plot\n",
    "plt.scatter(north_lat, north_wind)\n",
    "plt.plot(north_lat,regress_values,\"r-\")\n",
    "\n",
    "#Label\n",
    "plt.xlabel('Latitude')\n",
    "plt.ylabel('Wind Speed')\n",
    "plt.title('Northern Hemisphere: Wind Speed vs. Latitude')\n",
    "plt.annotate(lneq,(45,13),fontsize=15,color=\"red\")\n",
    "print(f\"The r-value is: {rvalue**2}\")"
   ]
  },
  {
   "cell_type": "markdown",
   "metadata": {},
   "source": [
    "####  Southern Hemisphere - Wind Speed (mph) vs. Latitude Linear Regression"
   ]
  },
  {
   "cell_type": "code",
   "execution_count": 27,
   "metadata": {},
   "outputs": [
    {
     "name": "stdout",
     "output_type": "stream",
     "text": [
      "The r-value is: 0.01376082264829891\n"
     ]
    },
    {
     "data": {
      "image/png": "[encoded data removed]",
      "text/plain": [
       "<Figure size 432x288 with 1 Axes>"
      ]
     },
     "metadata": {
      "needs_background": "light"
     },
     "output_type": "display_data"
    }
   ],
   "source": [
    "#Add associated y_axis\n",
    "south_wind = south['Wind Speed']\n",
    "\n",
    "# Linear regression\n",
    "# Perform a linear regression on temperature vs. latitude\n",
    "(slope, intercept, rvalue, pvalue, stderr) = stats.linregress(south_lat, south_wind)\n",
    "\n",
    "# Get regression values\n",
    "regress_values = south_lat * slope + intercept\n",
    "\n",
    "#Create line equation for graph\n",
    "lneq = \"y = \" + str(round(slope,2)) + \"x + \" + str(round(intercept,2))\n",
    "\n",
    "#Plot\n",
    "plt.scatter(south_lat, south_wind)\n",
    "plt.plot(south_lat,regress_values,\"r-\")\n",
    "\n",
    "#Label\n",
    "plt.xlabel('Latitude')\n",
    "plt.ylabel('Wind Speed')\n",
    "plt.title('Southern Hemisphere: Wind Speed vs. Latitude')\n",
    "plt.annotate(lneq,(-23, 11.5),fontsize=15,color=\"red\")\n",
    "print(f\"The r-value is: {rvalue**2}\")"
   ]
  },
  {
   "cell_type": "code",
   "execution_count": null,
   "metadata": {},
   "outputs": [],
   "source": [
    "#write up"
   ]
  }
 ],
 "metadata": {
  "anaconda-cloud": {},
  "kernel_info": {
   "name": "python3"
  },
  "kernelspec": {
   "display_name": "Python 3",
   "language": "python",
   "name": "python3"
  },
  "language_info": {
   "codemirror_mode": {
    "name": "ipython",
    "version": 3
   },
   "file_extension": ".py",
   "mimetype": "text/x-python",
   "name": "python",
   "nbconvert_exporter": "python",
   "pygments_lexer": "ipython3",
   "version": "3.8.5"
  },
  "latex_envs": {
   "LaTeX_envs_menu_present": true,
   "autoclose": false,
   "autocomplete": true,
   "bibliofile": "biblio.bib",
   "cite_by": "apalike",
   "current_citInitial": 1,
   "eqLabelWithNumbers": true,
   "eqNumInitial": 1,
   "hotkeys": {
    "equation": "Ctrl-E",
    "itemize": "Ctrl-I"
   },
   "labels_anchors": false,
   "latex_user_defs": false,
   "report_style_numbering": false,
   "user_envs_cfg": false
  },
  "nteract": {
   "version": "0.12.3"
  }
 },
 "nbformat": 4,
 "nbformat_minor": 2
}
