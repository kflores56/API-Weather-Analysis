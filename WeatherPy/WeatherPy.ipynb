{
 "cells": [
  {
   "cell_type": "markdown",
   "metadata": {},
   "source": [
    "# WeatherPy"
   ]
  },
  {
   "cell_type": "code",
   "execution_count": 1,
   "metadata": {
    "scrolled": true
   },
   "outputs": [],
   "source": [
    "# Dependencies and Setup\n",
    "import matplotlib.pyplot as plt\n",
    "import pandas as pd\n",
    "import numpy as np\n",
    "import requests\n",
    "from requests.utils import requote_uri\n",
    "import time\n",
    "from scipy.stats import linregress\n",
    "\n",
    "# Import API key\n",
    "from api_keys import weather_api_key\n",
    "\n",
    "# Incorporated citipy to determine city based on latitude and longitude\n",
    "from citipy import citipy\n",
    "\n",
    "# Output File (CSV)\n",
    "output_data_file = \"output_data/cities.csv\"\n",
    "\n",
    "# Range of latitudes and longitudes\n",
    "lat_range = (-90, 90)\n",
    "lng_range = (-180, 180)\n",
    "\n",
    "# Save config information.\n",
    "url = \"http://api.openweathermap.org/data/2.5/weather?\"\n",
    "units = \"metric\"\n",
    "\n",
    "# Build partial query URL\n",
    "fill_url = requests.utils.requote_uri\n",
    "query_url = f\"{url}appid={weather_api_key}&units={units}&q=\""
   ]
  },
  {
   "cell_type": "markdown",
   "metadata": {},
   "source": [
    "## Generate Cities List"
   ]
  },
  {
   "cell_type": "code",
   "execution_count": 2,
   "metadata": {},
   "outputs": [
    {
     "name": "stdout",
     "output_type": "stream",
     "text": [
      "\n",
      "Total number of cities: 631\n"
     ]
    }
   ],
   "source": [
    "# List for holding lat_lngs and cities\n",
    "lat_lngs = []\n",
    "cities = []\n",
    "\n",
    "# Create a set of random lat and lng combinations\n",
    "lats = np.random.uniform(lat_range[0], lat_range[1], size=1500)\n",
    "lngs = np.random.uniform(lng_range[0], lng_range[1], size=1500)\n",
    "lat_lngs = zip(lats, lngs)\n",
    "\n",
    "# Identify nearest city for each lat, lng combination\n",
    "for lat_lng in lat_lngs:\n",
    "    city = citipy.nearest_city(lat_lng[0], lat_lng[1]).city_name\n",
    "    \n",
    "    # If the city is unique, then add it to a our cities list\n",
    "    if city not in cities:\n",
    "        cities.append(city)\n",
    "\n",
    "# Print the city count to confirm sufficient count\n",
    "total_cities = len(cities)\n",
    "print()\n",
    "print(f\"Total number of cities: {total_cities}\")"
   ]
  },
  {
   "cell_type": "markdown",
   "metadata": {},
   "source": [
    "### Perform API Calls\n",
    "* Perform a weather check on each city using a series of successive API calls.\n",
    "* Include a print log of each city as it'sbeing processed (with the city number and city name).\n"
   ]
  },
  {
   "cell_type": "code",
   "execution_count": 3,
   "metadata": {
    "scrolled": true
   },
   "outputs": [
    {
     "name": "stdout",
     "output_type": "stream",
     "text": [
      "\n",
      "-----------------------------\n",
      "Beginning Data Retrieval\n",
      "-----------------------------\n",
      "Processing Record 1 of set 1 | saint-joseph\n",
      "Processing Record 2 of set 1 | vaini\n",
      "Processing Record 3 of set 1 | chokurdakh\n",
      "Processing Record 4 of set 1 | romanovskaya\n",
      "Processing Record 5 of set 1 | longyearbyen\n",
      "Processing Record 6 of set 1 | sabang\n",
      "Processing Record 7 of set 1 | cape town\n",
      "Processing Record 8 of set 1 | isangel\n",
      "Processing Record 9 of set 1 | punta arenas\n",
      "Processing Record 10 of set 1 | thompson\n",
      "City not found....Skipping............\n",
      "Processing Record 11 of set 1 | upernavik\n",
      "Processing Record 12 of set 1 | lorengau\n",
      "Processing Record 13 of set 1 | jamestown\n",
      "Processing Record 14 of set 1 | hovd\n",
      "Processing Record 15 of set 1 | letka\n",
      "Processing Record 16 of set 1 | pitimbu\n",
      "Processing Record 17 of set 1 | hermanus\n",
      "Processing Record 18 of set 1 | tabuk\n",
      "Processing Record 19 of set 1 | axim\n",
      "Processing Record 20 of set 1 | saint-philippe\n",
      "Processing Record 21 of set 1 | ushuaia\n",
      "City not found....Skipping............\n",
      "Processing Record 22 of set 1 | esperance\n",
      "Processing Record 23 of set 1 | tiksi\n",
      "Processing Record 24 of set 1 | hithadhoo\n",
      "Processing Record 25 of set 1 | craig\n",
      "Processing Record 26 of set 1 | rikitea\n",
      "Processing Record 27 of set 1 | san quintin\n",
      "Processing Record 28 of set 1 | ames\n",
      "Processing Record 29 of set 1 | inhambane\n",
      "Processing Record 30 of set 1 | novo aripuana\n",
      "Processing Record 31 of set 1 | castro\n",
      "Processing Record 32 of set 1 | tomakomai\n",
      "Processing Record 33 of set 1 | kodiak\n",
      "City not found....Skipping............\n",
      "Processing Record 34 of set 1 | trairi\n",
      "Processing Record 35 of set 1 | namatanai\n",
      "Processing Record 36 of set 1 | carnarvon\n",
      "Processing Record 37 of set 1 | stillwater\n",
      "Processing Record 38 of set 1 | xingyi\n",
      "Processing Record 39 of set 1 | katsuura\n",
      "Processing Record 40 of set 1 | ligayan\n",
      "Processing Record 41 of set 1 | nobres\n",
      "Processing Record 42 of set 1 | hilo\n",
      "Processing Record 43 of set 1 | hobart\n",
      "Processing Record 44 of set 1 | pismo beach\n",
      "Processing Record 45 of set 1 | avarua\n",
      "Processing Record 46 of set 1 | port lincoln\n",
      "Processing Record 47 of set 1 | los llanos de aridane\n",
      "Processing Record 48 of set 1 | wanning\n",
      "Processing Record 49 of set 1 | puerto ayora\n",
      "Processing Record 50 of set 1 | taksimo\n",
      "Processing Record 1 of set 2 | ribeira grande\n",
      "Processing Record 2 of set 2 | abnub\n",
      "Processing Record 3 of set 2 | kapaa\n",
      "Processing Record 4 of set 2 | pamanukan\n",
      "Processing Record 5 of set 2 | beloha\n",
      "Processing Record 6 of set 2 | murgab\n",
      "Processing Record 7 of set 2 | tuktoyaktuk\n",
      "Processing Record 8 of set 2 | atuona\n",
      "Processing Record 9 of set 2 | kondol\n",
      "City not found....Skipping............\n",
      "Processing Record 10 of set 2 | narsaq\n",
      "Processing Record 11 of set 2 | san cristobal\n",
      "Processing Record 12 of set 2 | cherskiy\n",
      "Processing Record 13 of set 2 | bell ville\n",
      "Processing Record 14 of set 2 | hasaki\n",
      "Processing Record 15 of set 2 | hermiston\n",
      "Processing Record 16 of set 2 | shaunavon\n",
      "Processing Record 17 of set 2 | bluff\n",
      "City not found....Skipping............\n",
      "Processing Record 18 of set 2 | awjilah\n",
      "Processing Record 19 of set 2 | barrow\n",
      "Processing Record 20 of set 2 | eldorado\n",
      "Processing Record 21 of set 2 | villa san giovanni\n",
      "Processing Record 22 of set 2 | kutum\n",
      "Processing Record 23 of set 2 | husavik\n",
      "Processing Record 24 of set 2 | hervey bay\n",
      "Processing Record 25 of set 2 | lebu\n",
      "Processing Record 26 of set 2 | mataura\n",
      "Processing Record 27 of set 2 | bambous virieux\n",
      "Processing Record 28 of set 2 | monrovia\n",
      "Processing Record 29 of set 2 | butaritari\n",
      "Processing Record 30 of set 2 | busselton\n",
      "Processing Record 31 of set 2 | pevek\n",
      "Processing Record 32 of set 2 | dunedin\n",
      "Processing Record 33 of set 2 | zwettl\n",
      "City not found....Skipping............\n",
      "Processing Record 34 of set 2 | dillon\n",
      "Processing Record 35 of set 2 | laguna\n",
      "City not found....Skipping............\n",
      "Processing Record 36 of set 2 | bredasdorp\n",
      "Processing Record 37 of set 2 | fairbanks\n",
      "Processing Record 38 of set 2 | faanui\n",
      "Processing Record 39 of set 2 | mahebourg\n",
      "Processing Record 40 of set 2 | berezovyy\n",
      "Processing Record 41 of set 2 | meulaboh\n",
      "Processing Record 42 of set 2 | magway\n",
      "Processing Record 43 of set 2 | lata\n",
      "Processing Record 44 of set 2 | amga\n",
      "Processing Record 45 of set 2 | dingle\n",
      "Processing Record 46 of set 2 | georgetown\n",
      "Processing Record 47 of set 2 | nan\n",
      "Processing Record 48 of set 2 | khatanga\n",
      "Processing Record 49 of set 2 | fenoarivo atsinanana\n",
      "City not found....Skipping............\n",
      "Processing Record 50 of set 2 | pacific grove\n",
      "Processing Record 1 of set 3 | vila franca do campo\n",
      "Processing Record 2 of set 3 | sarakhs\n",
      "Processing Record 3 of set 3 | hay river\n",
      "Processing Record 4 of set 3 | bethel\n",
      "Processing Record 5 of set 3 | dicabisagan\n",
      "Processing Record 6 of set 3 | anadyr\n",
      "City not found....Skipping............\n",
      "Processing Record 7 of set 3 | sisimiut\n",
      "Processing Record 8 of set 3 | kropotkin\n",
      "Processing Record 9 of set 3 | plettenberg bay\n",
      "Processing Record 10 of set 3 | lavrentiya\n",
      "Processing Record 11 of set 3 | maceio\n",
      "Processing Record 12 of set 3 | ponta do sol\n",
      "City not found....Skipping............\n",
      "City not found....Skipping............\n",
      "Processing Record 13 of set 3 | pisco\n",
      "Processing Record 14 of set 3 | pundaguitan\n",
      "City not found....Skipping............\n",
      "City not found....Skipping............\n",
      "Processing Record 15 of set 3 | nikolskoye\n",
      "Processing Record 16 of set 3 | torbay\n",
      "Processing Record 17 of set 3 | leninsk\n",
      "Processing Record 18 of set 3 | saldanha\n",
      "Processing Record 19 of set 3 | alofi\n",
      "Processing Record 20 of set 3 | albany\n",
      "Processing Record 21 of set 3 | lompoc\n",
      "Processing Record 22 of set 3 | la asuncion\n",
      "Processing Record 23 of set 3 | garoua\n",
      "Processing Record 24 of set 3 | ndele\n",
      "Processing Record 25 of set 3 | porbandar\n",
      "Processing Record 26 of set 3 | viedma\n",
      "Processing Record 27 of set 3 | tadepallegudem\n",
      "Processing Record 28 of set 3 | sola\n",
      "City not found....Skipping............\n",
      "Processing Record 29 of set 3 | port alfred\n",
      "Processing Record 30 of set 3 | frunze\n",
      "Processing Record 31 of set 3 | sao joao da barra\n",
      "Processing Record 32 of set 3 | talnakh\n",
      "Processing Record 33 of set 3 | kiunga\n",
      "Processing Record 34 of set 3 | bonavista\n",
      "Processing Record 35 of set 3 | inirida\n",
      "Processing Record 36 of set 3 | havre-saint-pierre\n",
      "Processing Record 37 of set 3 | abu dhabi\n",
      "City not found....Skipping............\n",
      "City not found....Skipping............\n",
      "Processing Record 38 of set 3 | neiafu\n",
      "Processing Record 39 of set 3 | ostrovnoy\n",
      "Processing Record 40 of set 3 | marsh harbour\n",
      "Processing Record 41 of set 3 | clyde river\n",
      "Processing Record 42 of set 3 | codrington\n",
      "Processing Record 43 of set 3 | college\n",
      "Processing Record 44 of set 3 | maler kotla\n",
      "Processing Record 45 of set 3 | sioux lookout\n",
      "Processing Record 46 of set 3 | mar del plata\n",
      "Processing Record 47 of set 3 | pelym\n",
      "Processing Record 48 of set 3 | palmer\n",
      "Processing Record 49 of set 3 | kholmogory\n",
      "Processing Record 50 of set 3 | orsha\n",
      "Processing Record 1 of set 4 | padang\n",
      "Processing Record 2 of set 4 | hami\n",
      "Processing Record 3 of set 4 | verkhnevilyuysk\n",
      "Processing Record 4 of set 4 | qaanaaq\n",
      "Processing Record 5 of set 4 | chicama\n",
      "Processing Record 6 of set 4 | mazagao\n",
      "Processing Record 7 of set 4 | krivodol\n",
      "Processing Record 8 of set 4 | arraial do cabo\n",
      "Processing Record 9 of set 4 | zyryanka\n",
      "Processing Record 10 of set 4 | ketchikan\n",
      "Processing Record 11 of set 4 | new norfolk\n",
      "Processing Record 12 of set 4 | tessalit\n",
      "Processing Record 13 of set 4 | saint anthony\n",
      "Processing Record 14 of set 4 | ponta delgada\n",
      "Processing Record 15 of set 4 | novokizhinginsk\n",
      "Processing Record 16 of set 4 | leh\n",
      "City not found....Skipping............\n",
      "Processing Record 17 of set 4 | oistins\n",
      "Processing Record 18 of set 4 | gondanglegi\n",
      "Processing Record 19 of set 4 | provideniya\n",
      "Processing Record 20 of set 4 | dusti\n",
      "Processing Record 21 of set 4 | goksun\n",
      "Processing Record 22 of set 4 | poum\n",
      "Processing Record 23 of set 4 | ratnagiri\n",
      "Processing Record 24 of set 4 | cockburn town\n",
      "Processing Record 25 of set 4 | alappuzha\n",
      "City not found....Skipping............\n",
      "Processing Record 26 of set 4 | puerto quijarro\n",
      "Processing Record 27 of set 4 | vicuna\n",
      "Processing Record 28 of set 4 | ilo\n",
      "City not found....Skipping............\n",
      "Processing Record 29 of set 4 | coihaique\n"
     ]
    },
    {
     "name": "stdout",
     "output_type": "stream",
     "text": [
      "Processing Record 30 of set 4 | tasiilaq\n",
      "Processing Record 31 of set 4 | genhe\n",
      "City not found....Skipping............\n",
      "Processing Record 32 of set 4 | touros\n",
      "City not found....Skipping............\n",
      "Processing Record 33 of set 4 | teacapan\n",
      "Processing Record 34 of set 4 | nhulunbuy\n",
      "Processing Record 35 of set 4 | mayo\n",
      "Processing Record 36 of set 4 | tuy hoa\n",
      "Processing Record 37 of set 4 | unai\n",
      "Processing Record 38 of set 4 | bubaque\n",
      "Processing Record 39 of set 4 | balkanabat\n",
      "Processing Record 40 of set 4 | asau\n",
      "Processing Record 41 of set 4 | kingsport\n",
      "Processing Record 42 of set 4 | imeni poliny osipenko\n",
      "Processing Record 43 of set 4 | cayenne\n",
      "Processing Record 44 of set 4 | douentza\n",
      "Processing Record 45 of set 4 | kirkwall\n",
      "Processing Record 46 of set 4 | cabo san lucas\n",
      "Processing Record 47 of set 4 | kourou\n",
      "Processing Record 48 of set 4 | iqaluit\n",
      "City not found....Skipping............\n",
      "Processing Record 49 of set 4 | mekhe\n",
      "Processing Record 50 of set 4 | pangnirtung\n",
      "Processing Record 1 of set 5 | jaisalmer\n",
      "Processing Record 2 of set 5 | pedernales\n",
      "Processing Record 3 of set 5 | hokitika\n",
      "Processing Record 4 of set 5 | lagoa\n",
      "Processing Record 5 of set 5 | masumbwe\n",
      "Processing Record 6 of set 5 | luan\n",
      "Processing Record 7 of set 5 | gamba\n",
      "City not found....Skipping............\n",
      "Processing Record 8 of set 5 | laela\n",
      "Processing Record 9 of set 5 | tayoltita\n",
      "Processing Record 10 of set 5 | dolores\n",
      "Processing Record 11 of set 5 | sarab\n",
      "Processing Record 12 of set 5 | manadhoo\n",
      "Processing Record 13 of set 5 | kruisfontein\n",
      "Processing Record 14 of set 5 | oktyabrskiy\n",
      "Processing Record 15 of set 5 | bam\n",
      "Processing Record 16 of set 5 | biak\n",
      "Processing Record 17 of set 5 | sept-iles\n",
      "Processing Record 18 of set 5 | minusinsk\n",
      "Processing Record 19 of set 5 | la tuque\n",
      "Processing Record 20 of set 5 | tura\n",
      "Processing Record 21 of set 5 | kokopo\n",
      "Processing Record 22 of set 5 | hobyo\n",
      "Processing Record 23 of set 5 | port elizabeth\n",
      "Processing Record 24 of set 5 | fortuna\n",
      "Processing Record 25 of set 5 | kahului\n",
      "Processing Record 26 of set 5 | flin flon\n",
      "Processing Record 27 of set 5 | vostok\n",
      "City not found....Skipping............\n",
      "Processing Record 28 of set 5 | coari\n",
      "City not found....Skipping............\n",
      "Processing Record 29 of set 5 | yar-sale\n",
      "Processing Record 30 of set 5 | blairmore\n",
      "Processing Record 31 of set 5 | touba\n",
      "Processing Record 32 of set 5 | libertador general san martin\n",
      "City not found....Skipping............\n",
      "Processing Record 33 of set 5 | miramar\n",
      "Processing Record 34 of set 5 | petropavlovsk-kamchatskiy\n",
      "Processing Record 35 of set 5 | athabasca\n",
      "Processing Record 36 of set 5 | victoria\n",
      "Processing Record 37 of set 5 | ancud\n",
      "Processing Record 38 of set 5 | tateyama\n",
      "Processing Record 39 of set 5 | tautira\n",
      "Processing Record 40 of set 5 | kuching\n",
      "Processing Record 41 of set 5 | maniitsoq\n",
      "Processing Record 42 of set 5 | lasa\n",
      "Processing Record 43 of set 5 | jawhar\n",
      "Processing Record 44 of set 5 | alta floresta\n",
      "Processing Record 45 of set 5 | chuy\n",
      "City not found....Skipping............\n",
      "Processing Record 46 of set 5 | torata\n",
      "Processing Record 47 of set 5 | yarensk\n",
      "Processing Record 48 of set 5 | girne\n",
      "City not found....Skipping............\n",
      "Processing Record 49 of set 5 | wentzville\n",
      "Processing Record 50 of set 5 | zhangye\n",
      "Processing Record 1 of set 6 | kloulklubed\n",
      "Processing Record 2 of set 6 | buraydah\n",
      "City not found....Skipping............\n",
      "Processing Record 3 of set 6 | makakilo city\n",
      "Processing Record 4 of set 6 | muzhi\n",
      "Processing Record 5 of set 6 | severobaykalsk\n",
      "Processing Record 6 of set 6 | luderitz\n",
      "Processing Record 7 of set 6 | caravelas\n",
      "Processing Record 8 of set 6 | airai\n",
      "Processing Record 9 of set 6 | aiken\n",
      "Processing Record 10 of set 6 | griffith\n",
      "Processing Record 11 of set 6 | kavieng\n",
      "Processing Record 12 of set 6 | mhlume\n",
      "Processing Record 13 of set 6 | saskylakh\n",
      "Processing Record 14 of set 6 | sonoita\n",
      "Processing Record 15 of set 6 | yarim\n",
      "Processing Record 16 of set 6 | ler\n",
      "Processing Record 17 of set 6 | cururupu\n",
      "Processing Record 18 of set 6 | moose factory\n",
      "Processing Record 19 of set 6 | bukachacha\n",
      "Processing Record 20 of set 6 | faya\n",
      "Processing Record 21 of set 6 | angoram\n",
      "Processing Record 22 of set 6 | riyadh\n",
      "Processing Record 23 of set 6 | ajdabiya\n",
      "Processing Record 24 of set 6 | bengkulu\n",
      "Processing Record 25 of set 6 | haileybury\n",
      "Processing Record 26 of set 6 | jizan\n",
      "Processing Record 27 of set 6 | canavieiras\n",
      "Processing Record 28 of set 6 | forestville\n",
      "Processing Record 29 of set 6 | east london\n",
      "Processing Record 30 of set 6 | tutoia\n",
      "Processing Record 31 of set 6 | bukama\n",
      "Processing Record 32 of set 6 | teguise\n",
      "Processing Record 33 of set 6 | svetlogorsk\n",
      "Processing Record 34 of set 6 | koslan\n",
      "Processing Record 35 of set 6 | tairua\n",
      "Processing Record 36 of set 6 | dwarka\n",
      "Processing Record 37 of set 6 | peterborough\n",
      "City not found....Skipping............\n",
      "Processing Record 38 of set 6 | vitim\n",
      "Processing Record 39 of set 6 | valer\n",
      "Processing Record 40 of set 6 | lyuban\n",
      "Processing Record 41 of set 6 | sharhorod\n",
      "Processing Record 42 of set 6 | les cayes\n",
      "Processing Record 43 of set 6 | half moon bay\n",
      "Processing Record 44 of set 6 | jiangkou\n",
      "Processing Record 45 of set 6 | black diamond\n",
      "City not found....Skipping............\n",
      "Processing Record 46 of set 6 | qasigiannguit\n",
      "Processing Record 47 of set 6 | mexico\n",
      "Processing Record 48 of set 6 | merauke\n",
      "Processing Record 49 of set 6 | shaki\n",
      "Processing Record 50 of set 6 | vila velha\n",
      "Processing Record 1 of set 7 | polunochnoye\n",
      "Processing Record 2 of set 7 | yerbogachen\n",
      "Processing Record 3 of set 7 | tahoua\n",
      "Processing Record 4 of set 7 | tomatlan\n",
      "Processing Record 5 of set 7 | male\n",
      "Processing Record 6 of set 7 | slave lake\n",
      "Processing Record 7 of set 7 | tiverton\n",
      "Processing Record 8 of set 7 | berlevag\n",
      "Processing Record 9 of set 7 | traverse city\n",
      "Processing Record 10 of set 7 | sungairaya\n",
      "Processing Record 11 of set 7 | paamiut\n",
      "Processing Record 12 of set 7 | bhadrachalam\n",
      "Processing Record 13 of set 7 | praia da vitoria\n",
      "Processing Record 14 of set 7 | mehamn\n",
      "Processing Record 15 of set 7 | novoagansk\n",
      "Processing Record 16 of set 7 | egvekinot\n",
      "Processing Record 17 of set 7 | rodrigues alves\n",
      "Processing Record 18 of set 7 | vao\n",
      "Processing Record 19 of set 7 | khandyga\n",
      "Processing Record 20 of set 7 | port hedland\n",
      "Processing Record 21 of set 7 | kysyl-syr\n",
      "Processing Record 22 of set 7 | vestmannaeyjar\n",
      "Processing Record 23 of set 7 | san policarpo\n",
      "Processing Record 24 of set 7 | krasnoselkup\n",
      "Processing Record 25 of set 7 | teeli\n",
      "Processing Record 26 of set 7 | rafaela\n",
      "Processing Record 27 of set 7 | leningradskiy\n",
      "Processing Record 28 of set 7 | luganville\n",
      "Processing Record 29 of set 7 | dikson\n",
      "Processing Record 30 of set 7 | tawau\n",
      "Processing Record 31 of set 7 | juba\n",
      "Processing Record 32 of set 7 | leningradskaya\n",
      "Processing Record 33 of set 7 | shamkhal\n",
      "Processing Record 34 of set 7 | kasongo-lunda\n",
      "Processing Record 35 of set 7 | kurchum\n",
      "Processing Record 36 of set 7 | cidreira\n",
      "Processing Record 37 of set 7 | dzerzhinsk\n",
      "Processing Record 38 of set 7 | visby\n",
      "Processing Record 39 of set 7 | orlik\n",
      "Processing Record 40 of set 7 | nome\n",
      "Processing Record 41 of set 7 | znamenskoye\n",
      "Processing Record 42 of set 7 | onega\n",
      "Processing Record 43 of set 7 | boende\n",
      "Processing Record 44 of set 7 | fort nelson\n",
      "Processing Record 45 of set 7 | monterey\n",
      "Processing Record 46 of set 7 | mujiayingzi\n",
      "Processing Record 47 of set 7 | deputatskiy\n",
      "Processing Record 48 of set 7 | bathsheba\n",
      "Processing Record 49 of set 7 | khammam\n",
      "Processing Record 50 of set 7 | nouakchott\n",
      "Processing Record 1 of set 8 | saint george\n",
      "Processing Record 2 of set 8 | grindavik\n",
      "Processing Record 3 of set 8 | kurumkan\n",
      "Processing Record 4 of set 8 | ginda\n",
      "Processing Record 5 of set 8 | udachnyy\n",
      "City not found....Skipping............\n",
      "Processing Record 6 of set 8 | henties bay\n",
      "Processing Record 7 of set 8 | ojinaga\n",
      "City not found....Skipping............\n",
      "Processing Record 8 of set 8 | nanuque\n",
      "Processing Record 9 of set 8 | sao jose da coroa grande\n",
      "Processing Record 10 of set 8 | constitucion\n",
      "Processing Record 11 of set 8 | hamadan\n",
      "Processing Record 12 of set 8 | malakwal\n",
      "Processing Record 13 of set 8 | aklavik\n",
      "Processing Record 14 of set 8 | nantucket\n",
      "Processing Record 15 of set 8 | khasan\n"
     ]
    },
    {
     "name": "stdout",
     "output_type": "stream",
     "text": [
      "Processing Record 16 of set 8 | santa vitoria do palmar\n",
      "Processing Record 17 of set 8 | sistranda\n",
      "Processing Record 18 of set 8 | sulangan\n",
      "Processing Record 19 of set 8 | topeka\n",
      "Processing Record 20 of set 8 | mackay\n",
      "Processing Record 21 of set 8 | peyima\n",
      "Processing Record 22 of set 8 | alyangula\n",
      "Processing Record 23 of set 8 | garbolovo\n",
      "City not found....Skipping............\n",
      "Processing Record 24 of set 8 | comodoro rivadavia\n",
      "Processing Record 25 of set 8 | kalevala\n",
      "Processing Record 26 of set 8 | maneadero\n",
      "Processing Record 27 of set 8 | manta\n",
      "Processing Record 28 of set 8 | playas\n",
      "Processing Record 29 of set 8 | kita\n",
      "Processing Record 30 of set 8 | kiama\n",
      "Processing Record 31 of set 8 | qingyuan\n",
      "Processing Record 32 of set 8 | sal rei\n",
      "Processing Record 33 of set 8 | zhuhai\n",
      "City not found....Skipping............\n",
      "Processing Record 34 of set 8 | berdigestyakh\n",
      "Processing Record 35 of set 8 | dalbandin\n",
      "Processing Record 36 of set 8 | honiara\n",
      "Processing Record 37 of set 8 | port hardy\n",
      "Processing Record 38 of set 8 | conde\n",
      "City not found....Skipping............\n",
      "Processing Record 39 of set 8 | nanortalik\n",
      "Processing Record 40 of set 8 | shimoda\n",
      "Processing Record 41 of set 8 | yellowknife\n",
      "Processing Record 42 of set 8 | brasilia\n",
      "Processing Record 43 of set 8 | colares\n",
      "Processing Record 44 of set 8 | westport\n",
      "Processing Record 45 of set 8 | zhigansk\n",
      "Processing Record 46 of set 8 | benicarlo\n",
      "Processing Record 47 of set 8 | upata\n",
      "Processing Record 48 of set 8 | rosario do sul\n",
      "Processing Record 49 of set 8 | west wendover\n",
      "Processing Record 50 of set 8 | souillac\n",
      "Processing Record 1 of set 9 | tete\n",
      "Processing Record 2 of set 9 | kaitangata\n",
      "Processing Record 3 of set 9 | mangaratiba\n",
      "Processing Record 4 of set 9 | komsomolskiy\n",
      "Processing Record 5 of set 9 | danilovka\n",
      "Processing Record 6 of set 9 | blagoyevo\n",
      "Processing Record 7 of set 9 | fergus falls\n",
      "Processing Record 8 of set 9 | vardo\n",
      "Processing Record 9 of set 9 | naze\n",
      "Processing Record 10 of set 9 | ilulissat\n",
      "Processing Record 11 of set 9 | chipinge\n",
      "Processing Record 12 of set 9 | umm lajj\n",
      "Processing Record 13 of set 9 | narasannapeta\n",
      "Processing Record 14 of set 9 | algarrobo\n",
      "Processing Record 15 of set 9 | atasu\n",
      "Processing Record 16 of set 9 | kallidaikurichchi\n",
      "Processing Record 17 of set 9 | bogdanci\n",
      "Processing Record 18 of set 9 | ulles\n",
      "Processing Record 19 of set 9 | kapoeta\n",
      "Processing Record 20 of set 9 | nabire\n",
      "Processing Record 21 of set 9 | honningsvag\n",
      "Processing Record 22 of set 9 | norman wells\n",
      "Processing Record 23 of set 9 | vrable\n",
      "Processing Record 24 of set 9 | sosnovo-ozerskoye\n",
      "Processing Record 25 of set 9 | gizo\n",
      "Processing Record 26 of set 9 | benghazi\n",
      "City not found....Skipping............\n",
      "Processing Record 27 of set 9 | chaihe\n",
      "Processing Record 28 of set 9 | sabzevar\n",
      "Processing Record 29 of set 9 | itarema\n",
      "Processing Record 30 of set 9 | luanda\n",
      "Processing Record 31 of set 9 | richards bay\n",
      "Processing Record 32 of set 9 | cairns\n",
      "Processing Record 33 of set 9 | marzuq\n",
      "Processing Record 34 of set 9 | altay\n",
      "Processing Record 35 of set 9 | camana\n",
      "Processing Record 36 of set 9 | labuan\n",
      "Processing Record 37 of set 9 | madang\n",
      "City not found....Skipping............\n",
      "Processing Record 38 of set 9 | srednekolymsk\n",
      "Processing Record 39 of set 9 | osorno\n",
      "Processing Record 40 of set 9 | broome\n",
      "Processing Record 41 of set 9 | merida\n",
      "Processing Record 42 of set 9 | struga\n",
      "Processing Record 43 of set 9 | seoul\n",
      "Processing Record 44 of set 9 | kananga\n",
      "Processing Record 45 of set 9 | chumikan\n",
      "Processing Record 46 of set 9 | lagos\n",
      "Processing Record 47 of set 9 | bintulu\n",
      "Processing Record 48 of set 9 | marawi\n",
      "Processing Record 49 of set 9 | asfi\n",
      "Processing Record 50 of set 9 | guerrero negro\n",
      "Processing Record 1 of set 10 | klaksvik\n",
      "Processing Record 2 of set 10 | kabompo\n",
      "City not found....Skipping............\n",
      "Processing Record 3 of set 10 | matara\n",
      "Processing Record 4 of set 10 | erdenet\n",
      "Processing Record 5 of set 10 | varzea da palma\n",
      "Processing Record 6 of set 10 | acapulco\n",
      "Processing Record 7 of set 10 | tuatapere\n",
      "Processing Record 8 of set 10 | verkhoyansk\n",
      "Processing Record 9 of set 10 | slonim\n",
      "Processing Record 10 of set 10 | kavaratti\n",
      "City not found....Skipping............\n",
      "Processing Record 11 of set 10 | kaura namoda\n",
      "Processing Record 12 of set 10 | te anau\n",
      "Processing Record 13 of set 10 | akdepe\n",
      "Processing Record 14 of set 10 | mineiros\n",
      "Processing Record 15 of set 10 | naziya\n",
      "Processing Record 16 of set 10 | eganville\n",
      "Processing Record 17 of set 10 | fuerte olimpo\n",
      "Processing Record 18 of set 10 | santa cruz\n",
      "City not found....Skipping............\n",
      "Processing Record 19 of set 10 | salinas\n",
      "Processing Record 20 of set 10 | rodeo\n",
      "Processing Record 21 of set 10 | kashi\n",
      "Processing Record 22 of set 10 | penzance\n",
      "Processing Record 23 of set 10 | christchurch\n",
      "Processing Record 24 of set 10 | sutamarchan\n",
      "Processing Record 25 of set 10 | fuxin\n",
      "Processing Record 26 of set 10 | kota kinabalu\n",
      "Processing Record 27 of set 10 | sao filipe\n",
      "Processing Record 28 of set 10 | colima\n",
      "Processing Record 29 of set 10 | saint-michel-des-saints\n",
      "Processing Record 30 of set 10 | marina\n",
      "Processing Record 31 of set 10 | sorong\n",
      "Processing Record 32 of set 10 | shitkino\n",
      "Processing Record 33 of set 10 | yangambi\n",
      "Processing Record 34 of set 10 | guilin\n",
      "Processing Record 35 of set 10 | topolobampo\n",
      "Processing Record 36 of set 10 | kattivakkam\n",
      "Processing Record 37 of set 10 | iranshahr\n",
      "City not found....Skipping............\n",
      "City not found....Skipping............\n",
      "Processing Record 38 of set 10 | aswan\n",
      "Processing Record 39 of set 10 | riosucio\n",
      "Processing Record 40 of set 10 | kumluca\n",
      "Processing Record 41 of set 10 | mecca\n",
      "Processing Record 42 of set 10 | fort myers beach\n",
      "Processing Record 43 of set 10 | khartoum\n",
      "Processing Record 44 of set 10 | abay\n",
      "Processing Record 45 of set 10 | santa flavia\n",
      "Processing Record 46 of set 10 | roald\n",
      "Processing Record 47 of set 10 | kushmurun\n",
      "Processing Record 48 of set 10 | ixtapa\n",
      "Processing Record 49 of set 10 | andenes\n",
      "Processing Record 50 of set 10 | georgiyevka\n",
      "City not found....Skipping............\n",
      "Processing Record 1 of set 11 | dolinsk\n",
      "Processing Record 2 of set 11 | dire\n",
      "Processing Record 3 of set 11 | witu\n",
      "Processing Record 4 of set 11 | tukrah\n",
      "Processing Record 5 of set 11 | mananjary\n",
      "Processing Record 6 of set 11 | salinopolis\n",
      "Processing Record 7 of set 11 | ornskoldsvik\n",
      "Processing Record 8 of set 11 | olafsvik\n",
      "Processing Record 9 of set 11 | antofagasta\n",
      "Processing Record 10 of set 11 | la ronge\n",
      "Processing Record 11 of set 11 | turkistan\n",
      "Processing Record 12 of set 11 | nago\n",
      "Processing Record 13 of set 11 | vallenar\n",
      "Processing Record 14 of set 11 | san juan\n",
      "Processing Record 15 of set 11 | sur\n",
      "Processing Record 16 of set 11 | qom\n",
      "Processing Record 17 of set 11 | carberry\n",
      "Processing Record 18 of set 11 | fort frances\n",
      "Processing Record 19 of set 11 | sakakah\n",
      "Processing Record 20 of set 11 | kharagpur\n",
      "Processing Record 21 of set 11 | medea\n",
      "Processing Record 22 of set 11 | nara\n",
      "Processing Record 23 of set 11 | agadir\n",
      "Processing Record 24 of set 11 | loveland\n",
      "Processing Record 25 of set 11 | bonito\n",
      "Processing Record 26 of set 11 | karasburg\n",
      "Processing Record 27 of set 11 | karratha\n",
      "Processing Record 28 of set 11 | ahipara\n",
      "Processing Record 29 of set 11 | santa maria\n",
      "Processing Record 30 of set 11 | korla\n",
      "Processing Record 31 of set 11 | kununurra\n",
      "Processing Record 32 of set 11 | kuytun\n",
      "City not found....Skipping............\n",
      "Processing Record 33 of set 11 | san marco in lamis\n",
      "Processing Record 34 of set 11 | okhotsk\n",
      "Processing Record 35 of set 11 | oranjestad\n",
      "Processing Record 36 of set 11 | pitsunda\n",
      "Processing Record 37 of set 11 | manokwari\n",
      "Processing Record 38 of set 11 | thomaston\n",
      "Processing Record 39 of set 11 | aqtobe\n",
      "Processing Record 40 of set 11 | maragogi\n",
      "Processing Record 41 of set 11 | savannakhet\n",
      "Processing Record 42 of set 11 | dubbo\n",
      "Processing Record 43 of set 11 | neyshabur\n",
      "Processing Record 44 of set 11 | tombouctou\n",
      "Processing Record 45 of set 11 | tromso\n",
      "Processing Record 46 of set 11 | priiskovyy\n",
      "Processing Record 47 of set 11 | geraldton\n",
      "Processing Record 48 of set 11 | boddam\n",
      "City not found....Skipping............\n",
      "Processing Record 49 of set 11 | taltal\n",
      "Processing Record 50 of set 11 | kjopsvik\n"
     ]
    },
    {
     "name": "stdout",
     "output_type": "stream",
     "text": [
      "Processing Record 1 of set 12 | gus-zheleznyy\n",
      "Processing Record 2 of set 12 | ust-kuyga\n",
      "Processing Record 3 of set 12 | porto novo\n",
      "Processing Record 4 of set 12 | cowra\n",
      "Processing Record 5 of set 12 | la romana\n",
      "Processing Record 6 of set 12 | syava\n",
      "Processing Record 7 of set 12 | yazman\n",
      "Processing Record 8 of set 12 | marienburg\n",
      "Processing Record 9 of set 12 | tual\n",
      "Processing Record 10 of set 12 | damietta\n",
      "Processing Record 11 of set 12 | bekovo\n",
      "Processing Record 12 of set 12 | turukhansk\n",
      "Processing Record 13 of set 12 | taybad\n",
      "Processing Record 14 of set 12 | rocha\n",
      "City not found....Skipping............\n",
      "Processing Record 15 of set 12 | tamandare\n",
      "Processing Record 16 of set 12 | jacareacanga\n",
      "Processing Record 17 of set 12 | coos bay\n",
      "Processing Record 18 of set 12 | novyy yarychiv\n",
      "City not found....Skipping............\n",
      "Processing Record 19 of set 12 | nuevo casas grandes\n",
      "Processing Record 20 of set 12 | santa rosa\n",
      "Processing Record 21 of set 12 | la union\n",
      "Processing Record 22 of set 12 | petropavlovskoye\n",
      "Processing Record 23 of set 12 | imeni zhelyabova\n",
      "Processing Record 24 of set 12 | kamenka\n",
      "Processing Record 25 of set 12 | sidi ali\n",
      "Processing Record 26 of set 12 | northam\n",
      "Processing Record 27 of set 12 | high level\n",
      "Processing Record 28 of set 12 | boromo\n",
      "Processing Record 29 of set 12 | tecoanapa\n",
      "City not found....Skipping............\n",
      "Processing Record 30 of set 12 | tekeli\n",
      "Processing Record 31 of set 12 | berbera\n",
      "Processing Record 32 of set 12 | nusaybin\n",
      "\n",
      "-----------------------------\n",
      "Data Retrieval Complete\n",
      "-----------------------------\n"
     ]
    }
   ],
   "source": [
    "#Set variables needed for analysis\n",
    "city_weather = []\n",
    "cou = []\n",
    "lat = []\n",
    "long = []\n",
    "temp = []\n",
    "humid = []\n",
    "cloud = []\n",
    "wind = []\n",
    "city_num = 1\n",
    "city_set = 1 \n",
    "\n",
    "# Language to show processing\n",
    "print('''\n",
    "-----------------------------\n",
    "Beginning Data Retrieval\n",
    "-----------------------------''')\n",
    "\n",
    "# Pull data to create dataframe\n",
    "for city in cities:\n",
    "    try:\n",
    "        final_url = fill_url(query_url + city)\n",
    "#         print(final_url)\n",
    "        response = requests.get(final_url).json()\n",
    "#         print(response)\n",
    "        city_weather.append(response['name'])\n",
    "        cou.append(response['sys']['country'])\n",
    "        lat.append(response['coord']['lat'])\n",
    "        long.append(response['coord']['lon'])\n",
    "        temp.append(response['main']['temp'])\n",
    "        humid.append(response['main']['humidity'])\n",
    "        cloud.append(response['clouds']['all'])\n",
    "        wind.append(response['wind']['speed'])\n",
    "\n",
    "        print(f\"Processing Record {city_num} of set {city_set} | {city}\")\n",
    "        \n",
    "        # Add one to city count\n",
    "        city_num += 1 \n",
    "    \n",
    "    except (KeyError):\n",
    "        print(\"City not found....Skipping............\")\n",
    "        \n",
    "    #Create sets of 50\n",
    "    if city_num == 51:\n",
    "        city_set += 1\n",
    "        city_num = 1\n",
    "\n",
    "print('''\n",
    "-----------------------------\n",
    "Data Retrieval Complete\n",
    "-----------------------------''')"
   ]
  },
  {
   "cell_type": "markdown",
   "metadata": {},
   "source": [
    "### Convert Raw Data to DataFrame\n",
    "* Export the city data into a .csv.\n",
    "* Display the DataFrame"
   ]
  },
  {
   "cell_type": "code",
   "execution_count": 4,
   "metadata": {},
   "outputs": [
    {
     "data": {
      "text/html": [
       "<div>\n",
       "<style scoped>\n",
       "    .dataframe tbody tr th:only-of-type {\n",
       "        vertical-align: middle;\n",
       "    }\n",
       "\n",
       "    .dataframe tbody tr th {\n",
       "        vertical-align: top;\n",
       "    }\n",
       "\n",
       "    .dataframe thead th {\n",
       "        text-align: right;\n",
       "    }\n",
       "</style>\n",
       "<table border=\"1\" class=\"dataframe\">\n",
       "  <thead>\n",
       "    <tr style=\"text-align: right;\">\n",
       "      <th></th>\n",
       "      <th>City</th>\n",
       "      <th>Country</th>\n",
       "      <th>Latitude</th>\n",
       "      <th>Longitude</th>\n",
       "      <th>Temperature</th>\n",
       "      <th>Humidity</th>\n",
       "      <th>Cloudiness</th>\n",
       "      <th>Wind Speed</th>\n",
       "    </tr>\n",
       "  </thead>\n",
       "  <tbody>\n",
       "    <tr>\n",
       "      <th>0</th>\n",
       "      <td>Saint-Joseph</td>\n",
       "      <td>RE</td>\n",
       "      <td>-21.3667</td>\n",
       "      <td>55.6167</td>\n",
       "      <td>23.24</td>\n",
       "      <td>61</td>\n",
       "      <td>75</td>\n",
       "      <td>5.66</td>\n",
       "    </tr>\n",
       "    <tr>\n",
       "      <th>1</th>\n",
       "      <td>Vaini</td>\n",
       "      <td>TO</td>\n",
       "      <td>-21.2000</td>\n",
       "      <td>-175.2000</td>\n",
       "      <td>30.00</td>\n",
       "      <td>79</td>\n",
       "      <td>75</td>\n",
       "      <td>4.12</td>\n",
       "    </tr>\n",
       "    <tr>\n",
       "      <th>2</th>\n",
       "      <td>Chokurdakh</td>\n",
       "      <td>RU</td>\n",
       "      <td>70.6333</td>\n",
       "      <td>147.9167</td>\n",
       "      <td>-27.66</td>\n",
       "      <td>79</td>\n",
       "      <td>73</td>\n",
       "      <td>1.91</td>\n",
       "    </tr>\n",
       "    <tr>\n",
       "      <th>3</th>\n",
       "      <td>Romanovskaya</td>\n",
       "      <td>RU</td>\n",
       "      <td>47.5426</td>\n",
       "      <td>42.0285</td>\n",
       "      <td>5.68</td>\n",
       "      <td>90</td>\n",
       "      <td>99</td>\n",
       "      <td>4.05</td>\n",
       "    </tr>\n",
       "    <tr>\n",
       "      <th>4</th>\n",
       "      <td>Longyearbyen</td>\n",
       "      <td>SJ</td>\n",
       "      <td>78.2186</td>\n",
       "      <td>15.6401</td>\n",
       "      <td>-18.00</td>\n",
       "      <td>71</td>\n",
       "      <td>40</td>\n",
       "      <td>6.17</td>\n",
       "    </tr>\n",
       "    <tr>\n",
       "      <th>...</th>\n",
       "      <td>...</td>\n",
       "      <td>...</td>\n",
       "      <td>...</td>\n",
       "      <td>...</td>\n",
       "      <td>...</td>\n",
       "      <td>...</td>\n",
       "      <td>...</td>\n",
       "      <td>...</td>\n",
       "    </tr>\n",
       "    <tr>\n",
       "      <th>577</th>\n",
       "      <td>Boromo</td>\n",
       "      <td>BF</td>\n",
       "      <td>11.7500</td>\n",
       "      <td>-2.9333</td>\n",
       "      <td>26.49</td>\n",
       "      <td>15</td>\n",
       "      <td>4</td>\n",
       "      <td>3.51</td>\n",
       "    </tr>\n",
       "    <tr>\n",
       "      <th>578</th>\n",
       "      <td>Barra de Tecoanapa</td>\n",
       "      <td>MX</td>\n",
       "      <td>16.5167</td>\n",
       "      <td>-98.7500</td>\n",
       "      <td>26.83</td>\n",
       "      <td>70</td>\n",
       "      <td>0</td>\n",
       "      <td>4.12</td>\n",
       "    </tr>\n",
       "    <tr>\n",
       "      <th>579</th>\n",
       "      <td>Tekeli</td>\n",
       "      <td>KZ</td>\n",
       "      <td>44.8300</td>\n",
       "      <td>78.8239</td>\n",
       "      <td>-0.82</td>\n",
       "      <td>92</td>\n",
       "      <td>100</td>\n",
       "      <td>3.31</td>\n",
       "    </tr>\n",
       "    <tr>\n",
       "      <th>580</th>\n",
       "      <td>Berbera</td>\n",
       "      <td>SO</td>\n",
       "      <td>10.4396</td>\n",
       "      <td>45.0143</td>\n",
       "      <td>22.87</td>\n",
       "      <td>74</td>\n",
       "      <td>74</td>\n",
       "      <td>2.57</td>\n",
       "    </tr>\n",
       "    <tr>\n",
       "      <th>581</th>\n",
       "      <td>Nisibis</td>\n",
       "      <td>TR</td>\n",
       "      <td>37.0778</td>\n",
       "      <td>41.2178</td>\n",
       "      <td>10.85</td>\n",
       "      <td>56</td>\n",
       "      <td>0</td>\n",
       "      <td>1.03</td>\n",
       "    </tr>\n",
       "  </tbody>\n",
       "</table>\n",
       "<p>582 rows × 8 columns</p>\n",
       "</div>"
      ],
      "text/plain": [
       "                   City Country  Latitude  Longitude  Temperature  Humidity  \\\n",
       "0          Saint-Joseph      RE  -21.3667    55.6167        23.24        61   \n",
       "1                 Vaini      TO  -21.2000  -175.2000        30.00        79   \n",
       "2            Chokurdakh      RU   70.6333   147.9167       -27.66        79   \n",
       "3          Romanovskaya      RU   47.5426    42.0285         5.68        90   \n",
       "4          Longyearbyen      SJ   78.2186    15.6401       -18.00        71   \n",
       "..                  ...     ...       ...        ...          ...       ...   \n",
       "577              Boromo      BF   11.7500    -2.9333        26.49        15   \n",
       "578  Barra de Tecoanapa      MX   16.5167   -98.7500        26.83        70   \n",
       "579              Tekeli      KZ   44.8300    78.8239        -0.82        92   \n",
       "580             Berbera      SO   10.4396    45.0143        22.87        74   \n",
       "581             Nisibis      TR   37.0778    41.2178        10.85        56   \n",
       "\n",
       "     Cloudiness  Wind Speed  \n",
       "0            75        5.66  \n",
       "1            75        4.12  \n",
       "2            73        1.91  \n",
       "3            99        4.05  \n",
       "4            40        6.17  \n",
       "..          ...         ...  \n",
       "577           4        3.51  \n",
       "578           0        4.12  \n",
       "579         100        3.31  \n",
       "580          74        2.57  \n",
       "581           0        1.03  \n",
       "\n",
       "[582 rows x 8 columns]"
      ]
     },
     "execution_count": 4,
     "metadata": {},
     "output_type": "execute_result"
    }
   ],
   "source": [
    "# Create a dictionary to hold all cities\n",
    "weather_dict = {\n",
    "    'City' : city_weather,\n",
    "    'Country' : cou, \n",
    "    'Latitude' : lat,\n",
    "    'Longitude' : long,\n",
    "    'Temperature' : temp,\n",
    "    'Humidity' : humid,\n",
    "    'Cloudiness' : cloud, \n",
    "    'Wind Speed': wind\n",
    "}\n",
    "\n",
    "# Convert to DataFrame\n",
    "weather_data = pd.DataFrame(weather_dict)\n",
    "\n",
    "#Export to CSV\n",
    "weather_data.to_csv(\"Outputs/Weather_Data\", index=False, header=True)\n",
    "\n",
    "weather_data"
   ]
  },
  {
   "cell_type": "code",
   "execution_count": 5,
   "metadata": {},
   "outputs": [
    {
     "data": {
      "text/html": [
       "<div>\n",
       "<style scoped>\n",
       "    .dataframe tbody tr th:only-of-type {\n",
       "        vertical-align: middle;\n",
       "    }\n",
       "\n",
       "    .dataframe tbody tr th {\n",
       "        vertical-align: top;\n",
       "    }\n",
       "\n",
       "    .dataframe thead th {\n",
       "        text-align: right;\n",
       "    }\n",
       "</style>\n",
       "<table border=\"1\" class=\"dataframe\">\n",
       "  <thead>\n",
       "    <tr style=\"text-align: right;\">\n",
       "      <th></th>\n",
       "      <th>Latitude</th>\n",
       "      <th>Longitude</th>\n",
       "      <th>Temperature</th>\n",
       "      <th>Humidity</th>\n",
       "      <th>Cloudiness</th>\n",
       "      <th>Wind Speed</th>\n",
       "    </tr>\n",
       "  </thead>\n",
       "  <tbody>\n",
       "    <tr>\n",
       "      <th>count</th>\n",
       "      <td>582.000000</td>\n",
       "      <td>582.000000</td>\n",
       "      <td>582.000000</td>\n",
       "      <td>582.000000</td>\n",
       "      <td>582.000000</td>\n",
       "      <td>582.000000</td>\n",
       "    </tr>\n",
       "    <tr>\n",
       "      <th>mean</th>\n",
       "      <td>22.069009</td>\n",
       "      <td>16.214367</td>\n",
       "      <td>8.286306</td>\n",
       "      <td>74.340206</td>\n",
       "      <td>56.893471</td>\n",
       "      <td>3.590412</td>\n",
       "    </tr>\n",
       "    <tr>\n",
       "      <th>std</th>\n",
       "      <td>32.701275</td>\n",
       "      <td>89.244045</td>\n",
       "      <td>18.354375</td>\n",
       "      <td>18.920007</td>\n",
       "      <td>38.041001</td>\n",
       "      <td>2.895798</td>\n",
       "    </tr>\n",
       "    <tr>\n",
       "      <th>min</th>\n",
       "      <td>-54.800000</td>\n",
       "      <td>-179.166700</td>\n",
       "      <td>-42.000000</td>\n",
       "      <td>8.000000</td>\n",
       "      <td>0.000000</td>\n",
       "      <td>0.160000</td>\n",
       "    </tr>\n",
       "    <tr>\n",
       "      <th>25%</th>\n",
       "      <td>-3.766975</td>\n",
       "      <td>-62.616250</td>\n",
       "      <td>-5.705000</td>\n",
       "      <td>66.000000</td>\n",
       "      <td>19.000000</td>\n",
       "      <td>1.540000</td>\n",
       "    </tr>\n",
       "    <tr>\n",
       "      <th>50%</th>\n",
       "      <td>26.751400</td>\n",
       "      <td>24.369400</td>\n",
       "      <td>15.270000</td>\n",
       "      <td>79.000000</td>\n",
       "      <td>75.000000</td>\n",
       "      <td>3.090000</td>\n",
       "    </tr>\n",
       "    <tr>\n",
       "      <th>75%</th>\n",
       "      <td>49.458325</td>\n",
       "      <td>89.764375</td>\n",
       "      <td>23.707500</td>\n",
       "      <td>88.000000</td>\n",
       "      <td>90.000000</td>\n",
       "      <td>4.660000</td>\n",
       "    </tr>\n",
       "    <tr>\n",
       "      <th>max</th>\n",
       "      <td>78.218600</td>\n",
       "      <td>178.416700</td>\n",
       "      <td>32.220000</td>\n",
       "      <td>100.000000</td>\n",
       "      <td>100.000000</td>\n",
       "      <td>21.090000</td>\n",
       "    </tr>\n",
       "  </tbody>\n",
       "</table>\n",
       "</div>"
      ],
      "text/plain": [
       "         Latitude   Longitude  Temperature    Humidity  Cloudiness  Wind Speed\n",
       "count  582.000000  582.000000   582.000000  582.000000  582.000000  582.000000\n",
       "mean    22.069009   16.214367     8.286306   74.340206   56.893471    3.590412\n",
       "std     32.701275   89.244045    18.354375   18.920007   38.041001    2.895798\n",
       "min    -54.800000 -179.166700   -42.000000    8.000000    0.000000    0.160000\n",
       "25%     -3.766975  -62.616250    -5.705000   66.000000   19.000000    1.540000\n",
       "50%     26.751400   24.369400    15.270000   79.000000   75.000000    3.090000\n",
       "75%     49.458325   89.764375    23.707500   88.000000   90.000000    4.660000\n",
       "max     78.218600  178.416700    32.220000  100.000000  100.000000   21.090000"
      ]
     },
     "execution_count": 5,
     "metadata": {},
     "output_type": "execute_result"
    }
   ],
   "source": [
    "#Statistical summary\n",
    "weather_data.describe()"
   ]
  },
  {
   "cell_type": "markdown",
   "metadata": {},
   "source": [
    "## Plotting the Data\n",
    "* Use proper labeling of the plots using plot titles (including date of analysis) and axes labels.\n",
    "* Save the plotted figures as .pngs."
   ]
  },
  {
   "cell_type": "markdown",
   "metadata": {},
   "source": [
    "### Latitude vs. Temperature Plot"
   ]
  },
  {
   "cell_type": "code",
   "execution_count": 6,
   "metadata": {
    "scrolled": true
   },
   "outputs": [
    {
     "data": {
      "image/png": "[encoded data removed]",
      "text/plain": [
       "<Figure size 432x288 with 1 Axes>"
      ]
     },
     "metadata": {
      "needs_background": "light"
     },
     "output_type": "display_data"
    }
   ],
   "source": [
    "#Define variables\n",
    "lat = weather_data['Latitude']\n",
    "temp = weather_data['Temperature']\n",
    "\n",
    "#Plot\n",
    "plt.scatter(lat, temp, color='green')\n",
    "\n",
    "#Lable\n",
    "plt.xlabel('Latitude')\n",
    "plt.ylabel('Temperature (C)')\n",
    "plt.title('Latitude vs. Temperature')\n",
    "plt.grid('true')\n",
    "\n",
    "#Save file as png\n",
    "plt.savefig(\"Outputs/Latitude vs. Temperature.png\")"
   ]
  },
  {
   "cell_type": "markdown",
   "metadata": {},
   "source": [
    "The plot above shows how the temperature changes across the globe. Since we know the equator to be zero we can see that the highest temperatures are closest to zero and the temperature decreases as you move away from the equator, latitude 0."
   ]
  },
  {
   "cell_type": "markdown",
   "metadata": {},
   "source": [
    "### Latitude vs. Humidity Plot"
   ]
  },
  {
   "cell_type": "code",
   "execution_count": 7,
   "metadata": {},
   "outputs": [
    {
     "data": {
      "image/png": "[encoded data removed]",
      "text/plain": [
       "<Figure size 432x288 with 1 Axes>"
      ]
     },
     "metadata": {
      "needs_background": "light"
     },
     "output_type": "display_data"
    }
   ],
   "source": [
    "#Define new variables\n",
    "humid = weather_data['Humidity']\n",
    "\n",
    "#Plot\n",
    "plt.scatter(lat, humid, color='orange')\n",
    "\n",
    "#Label\n",
    "plt.xlabel('Latitude')\n",
    "plt.ylabel('Humidity (%)')\n",
    "plt.title('Latitude vs. Humidity')\n",
    "plt.grid('true')\n",
    "\n",
    "#Save file as png\n",
    "plt.savefig(\"Outputs/Latitude vs. Humidity.png\")"
   ]
  },
  {
   "cell_type": "markdown",
   "metadata": {},
   "source": [
    "The plot above shows humidity levels across the globe. There does not seem to be a correlation between humidity and location."
   ]
  },
  {
   "cell_type": "markdown",
   "metadata": {},
   "source": [
    "### Latitude vs. Cloudiness Plot"
   ]
  },
  {
   "cell_type": "code",
   "execution_count": 8,
   "metadata": {},
   "outputs": [
    {
     "data": {
      "image/png": "[encoded data removed]",
      "text/plain": [
       "<Figure size 432x288 with 1 Axes>"
      ]
     },
     "metadata": {
      "needs_background": "light"
     },
     "output_type": "display_data"
    }
   ],
   "source": [
    "#Define new variables \n",
    "cloud = weather_data['Cloudiness']\n",
    "\n",
    "#Plot\n",
    "plt.scatter(lat, cloud, color='purple')\n",
    "\n",
    "#Label\n",
    "plt.xlabel('Latitude')\n",
    "plt.ylabel('Cloudiness (%)')\n",
    "plt.title('Latitude vs. Cloudiness')\n",
    "plt.grid('true')\n",
    "\n",
    "\n",
    "#Save file as png\n",
    "plt.savefig(\"Outputs/Latitude vs. Cloudiness.png\")"
   ]
  },
  {
   "cell_type": "markdown",
   "metadata": {},
   "source": [
    "The plot above shows percent cloudiness across the globe. There appears to be some consistency between some temperatures and cloudiness but more statistical tests are needed to established correlation."
   ]
  },
  {
   "cell_type": "markdown",
   "metadata": {},
   "source": [
    "### Latitude vs. Wind Speed Plot"
   ]
  },
  {
   "cell_type": "code",
   "execution_count": 9,
   "metadata": {},
   "outputs": [
    {
     "data": {
      "image/png": "[encoded data removed]",
      "text/plain": [
       "<Figure size 432x288 with 1 Axes>"
      ]
     },
     "metadata": {
      "needs_background": "light"
     },
     "output_type": "display_data"
    }
   ],
   "source": [
    "#Add new variables \n",
    "wind = weather_data['Wind Speed']\n",
    "\n",
    "#Plot\n",
    "plt.scatter(lat, wind, color='skyblue')\n",
    "\n",
    "#Label\n",
    "plt.xlabel('Latitude')\n",
    "plt.ylabel('Wind Speed (mph)')\n",
    "plt.title('Latitude vs. Wind Speed')\n",
    "plt.grid('true')\n",
    "\n",
    "#Save file as png\n",
    "plt.savefig(\"Outputs/Latitude vs. Wind Speed.png\")"
   ]
  },
  {
   "cell_type": "markdown",
   "metadata": {},
   "source": [
    "The plot above shows the windspeed across the globe. In general, there seems to be few instances of extremely high wind speed as most speeds are clustered around the bottom of the plot."
   ]
  },
  {
   "cell_type": "markdown",
   "metadata": {},
   "source": [
    "## Linear Regression"
   ]
  },
  {
   "cell_type": "code",
   "execution_count": 10,
   "metadata": {},
   "outputs": [],
   "source": [
    "#Establish north and south hemisphere dataframes\n",
    "\n",
    "north = weather_data.loc[weather_data['Latitude'] >= 0]\n",
    "north.head()\n",
    "# print(len(north))\n",
    "south = weather_data.loc[weather_data['Latitude'] < 0]\n",
    "# print(len(south))"
   ]
  },
  {
   "cell_type": "markdown",
   "metadata": {},
   "source": [
    "### Temperature vs. Latitude Linear Regression"
   ]
  },
  {
   "cell_type": "markdown",
   "metadata": {},
   "source": [
    "####  Northern Hemisphere - Temperature vs. Latitude Linear Regression"
   ]
  },
  {
   "cell_type": "code",
   "execution_count": 11,
   "metadata": {},
   "outputs": [
    {
     "name": "stdout",
     "output_type": "stream",
     "text": [
      "The r-value is: 0.7731554914646417\n"
     ]
    },
    {
     "data": {
      "image/png": "[encoded data removed]",
      "text/plain": [
       "<Figure size 432x288 with 1 Axes>"
      ]
     },
     "metadata": {
      "needs_background": "light"
     },
     "output_type": "display_data"
    }
   ],
   "source": [
    "from scipy import stats\n",
    "\n",
    "#Add associated y_axis\n",
    "north_lat = north['Latitude']\n",
    "north_temp = north['Temperature']\n",
    "\n",
    "# Linear regression\n",
    "# Perform a linear regression on temperature vs. latitude\n",
    "(slope, intercept, rvalue, pvalue, stderr) = stats.linregress(north_lat, north_temp)\n",
    "\n",
    "# Get regression values\n",
    "regress_values = north_lat * slope + intercept\n",
    "\n",
    "#Create line equation for graph\n",
    "lneq = \"y = \" + str(round(slope,2)) + \"x + \" + str(round(intercept,2))\n",
    "\n",
    "#Plot\n",
    "plt.scatter(north_lat, north_temp)\n",
    "plt.plot(north_lat,regress_values,\"r-\")\n",
    "\n",
    "#Label\n",
    "plt.xlabel('Latitude')\n",
    "plt.ylabel('Temperature (C)')\n",
    "plt.title('Northern Hemisphere: Temperature vs. Latitude')\n",
    "plt.annotate(lneq,(40,30),fontsize=15,color=\"red\")\n",
    "print(f\"The r-value is: {rvalue**2}\")"
   ]
  },
  {
   "cell_type": "markdown",
   "metadata": {},
   "source": [
    "####  Southern Hemisphere - Temperature vs. Latitude Linear Regression"
   ]
  },
  {
   "cell_type": "code",
   "execution_count": 25,
   "metadata": {},
   "outputs": [
    {
     "name": "stdout",
     "output_type": "stream",
     "text": [
      "The r-value is: 0.38859563389109436\n"
     ]
    },
    {
     "data": {
      "image/png": "[encoded data removed]",
      "text/plain": [
       "<Figure size 432x288 with 1 Axes>"
      ]
     },
     "metadata": {
      "needs_background": "light"
     },
     "output_type": "display_data"
    }
   ],
   "source": [
    "#Add associated y_axis\n",
    "south_lat = south['Latitude']\n",
    "south_temp = south['Temperature']\n",
    "\n",
    "# Linear regression\n",
    "# Perform a linear regression on temperature vs. latitude\n",
    "(slope, intercept, rvalue, pvalue, stderr) = stats.linregress(south_lat, south_temp)\n",
    "\n",
    "# Get regression values\n",
    "regress_values = south_lat * slope + intercept\n",
    "\n",
    "#Create line equation for graph\n",
    "lneq = \"y = \" + str(round(slope,2)) + \"x + \" + str(round(intercept,2))\n",
    "\n",
    "#Plot\n",
    "plt.scatter(south_lat, south_temp)\n",
    "plt.plot(south_lat,regress_values,\"r-\")\n",
    "\n",
    "#Label\n",
    "plt.xlabel('Latitude')\n",
    "plt.ylabel('Temperature (C)')\n",
    "plt.title('Southern Hemisphere: Temperature vs. Latitude')\n",
    "plt.annotate(lneq,(-30, 11),fontsize=15,color=\"red\")\n",
    "print(f\"The r-value is: {rvalue**2}\")"
   ]
  },
  {
   "cell_type": "markdown",
   "metadata": {},
   "source": [
    "When looking at temperature vs latitude in the Northern and Southern Hemispheres it is clear that the closer to the equator the higher the temperature. This is shown in the Northern Hemisphere as the temperature decreases as latitude moves further away from 0. This is shown in the Southern Hemisphere as the temperature increases as latitude moves closer to 0. "
   ]
  },
  {
   "cell_type": "markdown",
   "metadata": {},
   "source": [
    "## Humidity (%) vs. Latitude Linear Regression"
   ]
  },
  {
   "cell_type": "markdown",
   "metadata": {},
   "source": [
    "####  Northern Hemisphere - Humidity (%) vs. Latitude Linear Regression"
   ]
  },
  {
   "cell_type": "code",
   "execution_count": 13,
   "metadata": {},
   "outputs": [
    {
     "name": "stdout",
     "output_type": "stream",
     "text": [
      "The r-value is: 0.09075412992456325\n"
     ]
    },
    {
     "data": {
      "image/png": "[encoded data removed]",
      "text/plain": [
       "<Figure size 432x288 with 1 Axes>"
      ]
     },
     "metadata": {
      "needs_background": "light"
     },
     "output_type": "display_data"
    }
   ],
   "source": [
    "#Add associated y_axis\n",
    "north_hum = north['Humidity']\n",
    "\n",
    "# Linear regression\n",
    "# Perform a linear regression on temperature vs. latitude\n",
    "(slope, intercept, rvalue, pvalue, stderr) = stats.linregress(north_lat, north_hum)\n",
    "\n",
    "# Get regression values\n",
    "regress_values = north_lat * slope + intercept\n",
    "\n",
    "#Create line equation for graph\n",
    "lneq = \"y = \" + str(round(slope,2)) + \"x + \" + str(round(intercept,2))\n",
    "\n",
    "#Plot\n",
    "plt.scatter(north_lat, north_hum)\n",
    "plt.plot(north_lat,regress_values,\"r-\")\n",
    "\n",
    "#Label\n",
    "plt.xlabel('Latitude')\n",
    "plt.ylabel('Humidity (%)')\n",
    "plt.title('Northern Hemisphere: Humidity vs. Latitude')\n",
    "plt.annotate(lneq,(45,10),fontsize=15,color=\"red\")\n",
    "print(f\"The r-value is: {rvalue**2}\")"
   ]
  },
  {
   "cell_type": "markdown",
   "metadata": {},
   "source": [
    "####  Southern Hemisphere - Humidity (%) vs. Latitude Linear Regression"
   ]
  },
  {
   "cell_type": "code",
   "execution_count": 19,
   "metadata": {},
   "outputs": [
    {
     "name": "stdout",
     "output_type": "stream",
     "text": [
      "The r-value is: 0.14600851533434545\n"
     ]
    },
    {
     "data": {
      "image/png": "[encoded data removed]",
      "text/plain": [
       "<Figure size 432x288 with 1 Axes>"
      ]
     },
     "metadata": {
      "needs_background": "light"
     },
     "output_type": "display_data"
    }
   ],
   "source": [
    "#Add associated y_axis\n",
    "south_hum = south['Humidity']\n",
    "\n",
    "# Linear regression\n",
    "# Perform a linear regression on temperature vs. latitude\n",
    "(slope, intercept, rvalue, pvalue, stderr) = stats.linregress(south_lat, south_hum)\n",
    "\n",
    "# Get regression values\n",
    "regress_values = south_lat * slope + intercept\n",
    "\n",
    "#Create line equation for graph\n",
    "lneq = \"y = \" + str(round(slope,2)) + \"x + \" + str(round(intercept,2))\n",
    "\n",
    "#Plot\n",
    "plt.scatter(south_lat, south_hum)\n",
    "plt.plot(south_lat,regress_values,\"r-\")\n",
    "\n",
    "#Label\n",
    "plt.xlabel('Latitude')\n",
    "plt.ylabel('Humidity (%)')\n",
    "plt.title('Southern Hemisphere: Humidity vs. Latitude')\n",
    "plt.annotate(lneq,(-25, 25),fontsize=15,color=\"red\")\n",
    "print(f\"The r-value is: {rvalue**2}\")"
   ]
  },
  {
   "cell_type": "markdown",
   "metadata": {},
   "source": [
    "When looking at latitude and humidity there is very little correlation as noted by the low r values. However, it is interesting to note that most humidity across the world lingers, on average, above 50%. "
   ]
  },
  {
   "cell_type": "markdown",
   "metadata": {},
   "source": [
    "## Cloudiness (%) vs. Latitude Linear Regression"
   ]
  },
  {
   "cell_type": "markdown",
   "metadata": {},
   "source": [
    "####  Northern Hemisphere - Cloudiness (%) vs. Latitude Linear Regression"
   ]
  },
  {
   "cell_type": "code",
   "execution_count": 15,
   "metadata": {},
   "outputs": [
    {
     "name": "stdout",
     "output_type": "stream",
     "text": [
      "The r-value is: 0.07828504000762175\n"
     ]
    },
    {
     "data": {
      "image/png": "[encoded data removed]",
      "text/plain": [
       "<Figure size 432x288 with 1 Axes>"
      ]
     },
     "metadata": {
      "needs_background": "light"
     },
     "output_type": "display_data"
    }
   ],
   "source": [
    "#Add associated y_axis\n",
    "north_cloud = north['Cloudiness']\n",
    "\n",
    "# Linear regression\n",
    "# Perform a linear regression on temperature vs. latitude\n",
    "(slope, intercept, rvalue, pvalue, stderr) = stats.linregress(north_lat, north_cloud)\n",
    "\n",
    "# Get regression values\n",
    "regress_values = north_lat * slope + intercept\n",
    "\n",
    "#Create line equation for graph\n",
    "lneq = \"y = \" + str(round(slope,2)) + \"x + \" + str(round(intercept,2))\n",
    "\n",
    "#Plot\n",
    "plt.scatter(north_lat, north_cloud)\n",
    "plt.plot(north_lat,regress_values,\"r-\")\n",
    "\n",
    "#Label\n",
    "plt.xlabel('Latitude')\n",
    "plt.ylabel('Cloudiness (%)')\n",
    "plt.title('Northern Hemisphere: Cloudiness vs. Latitude')\n",
    "plt.annotate(lneq,(15,60),fontsize=15,color=\"red\")\n",
    "print(f\"The r-value is: {rvalue**2}\")"
   ]
  },
  {
   "cell_type": "markdown",
   "metadata": {},
   "source": [
    "####  Southern Hemisphere - Cloudiness (%) vs. Latitude Linear Regression"
   ]
  },
  {
   "cell_type": "code",
   "execution_count": 16,
   "metadata": {},
   "outputs": [
    {
     "name": "stdout",
     "output_type": "stream",
     "text": [
      "The r-value is: 0.10784350634784053\n"
     ]
    },
    {
     "data": {
      "image/png": "[encoded data removed]",
      "text/plain": [
       "<Figure size 432x288 with 1 Axes>"
      ]
     },
     "metadata": {
      "needs_background": "light"
     },
     "output_type": "display_data"
    }
   ],
   "source": [
    "#Add associated y_axis\n",
    "south_cloud = south['Cloudiness']\n",
    "\n",
    "# Linear regression\n",
    "# Perform a linear regression on temperature vs. latitude\n",
    "(slope, intercept, rvalue, pvalue, stderr) = stats.linregress(south_lat, south_cloud)\n",
    "\n",
    "# Get regression values\n",
    "regress_values = south_lat * slope + intercept\n",
    "\n",
    "#Create line equation for graph\n",
    "lneq = \"y = \" + str(round(slope,2)) + \"x + \" + str(round(intercept,2))\n",
    "\n",
    "#Plot\n",
    "plt.scatter(south_lat, south_cloud)\n",
    "plt.plot(south_lat,regress_values,\"r-\")\n",
    "\n",
    "#Label\n",
    "plt.xlabel('Latitude')\n",
    "plt.ylabel('Cloudiness (%)')\n",
    "plt.title('Southern Hemisphere: Cloudiness vs. Latitude')\n",
    "plt.annotate(lneq,(-55, 55),fontsize=15,color=\"red\")\n",
    "print(f\"The r-value is: {rvalue**2}\")"
   ]
  },
  {
   "cell_type": "markdown",
   "metadata": {},
   "source": [
    "Cloudiness and latitude also have little correlation as noted by the small r value and by the generally even distribution of data points on the plots above."
   ]
  },
  {
   "cell_type": "markdown",
   "metadata": {},
   "source": [
    "## Wind Speed vs Latitude Linear Regression"
   ]
  },
  {
   "cell_type": "markdown",
   "metadata": {},
   "source": [
    "####  Northern Hemisphere - Wind Speed vs. Latitude Linear Regression"
   ]
  },
  {
   "cell_type": "code",
   "execution_count": 24,
   "metadata": {},
   "outputs": [
    {
     "name": "stdout",
     "output_type": "stream",
     "text": [
      "The r-value is: 0.021508907112903704\n"
     ]
    },
    {
     "data": {
      "image/png": "[encoded data removed]",
      "text/plain": [
       "<Figure size 432x288 with 1 Axes>"
      ]
     },
     "metadata": {
      "needs_background": "light"
     },
     "output_type": "display_data"
    }
   ],
   "source": [
    "#Add associated y_axis\n",
    "north_wind = north['Wind Speed']\n",
    "\n",
    "# Linear regression\n",
    "# Perform a linear regression on temperature vs. latitude\n",
    "(slope, intercept, rvalue, pvalue, stderr) = stats.linregress(north_lat, north_wind)\n",
    "\n",
    "# Get regression values\n",
    "regress_values = north_lat * slope + intercept\n",
    "\n",
    "#Create line equation for graph\n",
    "lneq = \"y = \" + str(round(slope,2)) + \"x + \" + str(round(intercept,2))\n",
    "\n",
    "#Plot\n",
    "plt.scatter(north_lat, north_wind)\n",
    "plt.plot(north_lat,regress_values,\"r-\")\n",
    "\n",
    "#Label\n",
    "plt.xlabel('Latitude')\n",
    "plt.ylabel('Wind Speed (mph)')\n",
    "plt.title('Northern Hemisphere: Wind Speed vs. Latitude')\n",
    "plt.annotate(lneq,(5,18),fontsize=15,color=\"red\")\n",
    "print(f\"The r-value is: {rvalue**2}\")"
   ]
  },
  {
   "cell_type": "markdown",
   "metadata": {},
   "source": [
    "####  Southern Hemisphere - Wind Speed (mph) vs. Latitude Linear Regression"
   ]
  },
  {
   "cell_type": "code",
   "execution_count": 21,
   "metadata": {},
   "outputs": [
    {
     "name": "stdout",
     "output_type": "stream",
     "text": [
      "The r-value is: 0.13379729842230176\n"
     ]
    },
    {
     "data": {
      "image/png": "[encoded data removed]",
      "text/plain": [
       "<Figure size 432x288 with 1 Axes>"
      ]
     },
     "metadata": {
      "needs_background": "light"
     },
     "output_type": "display_data"
    }
   ],
   "source": [
    "#Add associated y_axis\n",
    "south_wind = south['Wind Speed']\n",
    "\n",
    "# Linear regression\n",
    "# Perform a linear regression on temperature vs. latitude\n",
    "(slope, intercept, rvalue, pvalue, stderr) = stats.linregress(south_lat, south_wind)\n",
    "\n",
    "# Get regression values\n",
    "regress_values = south_lat * slope + intercept\n",
    "\n",
    "#Create line equation for graph\n",
    "lneq = \"y = \" + str(round(slope,2)) + \"x + \" + str(round(intercept,2))\n",
    "\n",
    "#Plot\n",
    "plt.scatter(south_lat, south_wind)\n",
    "plt.plot(south_lat,regress_values,\"r-\")\n",
    "\n",
    "#Label\n",
    "plt.xlabel('Latitude')\n",
    "plt.ylabel('Wind Speed (mph)')\n",
    "plt.title('Southern Hemisphere: Wind Speed vs. Latitude')\n",
    "plt.annotate(lneq,(-25, 8),fontsize=15,color=\"red\")\n",
    "print(f\"The r-value is: {rvalue**2}\")"
   ]
  },
  {
   "cell_type": "markdown",
   "metadata": {},
   "source": [
    "Wind speed and latitude had the smallest r value meaning they have the lowest correlation. However, it is interesting to note most wind speeds across the globe do not exceed 10 miles per hour. "
   ]
  }
 ],
 "metadata": {
  "anaconda-cloud": {},
  "kernel_info": {
   "name": "python3"
  },
  "kernelspec": {
   "display_name": "Python 3",
   "language": "python",
   "name": "python3"
  },
  "language_info": {
   "codemirror_mode": {
    "name": "ipython",
    "version": 3
   },
   "file_extension": ".py",
   "mimetype": "text/x-python",
   "name": "python",
   "nbconvert_exporter": "python",
   "pygments_lexer": "ipython3",
   "version": "3.8.5"
  },
  "latex_envs": {
   "LaTeX_envs_menu_present": true,
   "autoclose": false,
   "autocomplete": true,
   "bibliofile": "biblio.bib",
   "cite_by": "apalike",
   "current_citInitial": 1,
   "eqLabelWithNumbers": true,
   "eqNumInitial": 1,
   "hotkeys": {
    "equation": "Ctrl-E",
    "itemize": "Ctrl-I"
   },
   "labels_anchors": false,
   "latex_user_defs": false,
   "report_style_numbering": false,
   "user_envs_cfg": false
  },
  "nteract": {
   "version": "0.12.3"
  }
 },
 "nbformat": 4,
 "nbformat_minor": 2
}
